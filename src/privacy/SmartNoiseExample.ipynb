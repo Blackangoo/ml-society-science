{
 "cells": [
  {
   "cell_type": "code",
   "execution_count": 1,
   "id": "a4b238a0-98b2-4ba0-9f89-cccfb32dcda1",
   "metadata": {},
   "outputs": [
    {
     "ename": "ModuleNotFoundError",
     "evalue": "No module named 'opendp.smartnoise'",
     "output_type": "error",
     "traceback": [
      "\u001B[0;31m---------------------------------------------------------------------------\u001B[0m",
      "\u001B[0;31mModuleNotFoundError\u001B[0m                       Traceback (most recent call last)",
      "Cell \u001B[0;32mIn [1], line 2\u001B[0m\n\u001B[1;32m      1\u001B[0m \u001B[38;5;28;01mimport\u001B[39;00m \u001B[38;5;21;01mpandas\u001B[39;00m \u001B[38;5;28;01mas\u001B[39;00m \u001B[38;5;21;01mpd\u001B[39;00m\n\u001B[0;32m----> 2\u001B[0m \u001B[38;5;28;01mfrom\u001B[39;00m \u001B[38;5;21;01mopendp\u001B[39;00m\u001B[38;5;21;01m.\u001B[39;00m\u001B[38;5;21;01msmartnoise\u001B[39;00m\u001B[38;5;21;01m.\u001B[39;00m\u001B[38;5;21;01msql\u001B[39;00m \u001B[38;5;28;01mimport\u001B[39;00m PandasReader, PrivateReader\n\u001B[1;32m      3\u001B[0m \u001B[38;5;28;01mfrom\u001B[39;00m \u001B[38;5;21;01mopendp\u001B[39;00m\u001B[38;5;21;01m.\u001B[39;00m\u001B[38;5;21;01msmartnoise\u001B[39;00m\u001B[38;5;21;01m.\u001B[39;00m\u001B[38;5;21;01mmetadata\u001B[39;00m \u001B[38;5;28;01mimport\u001B[39;00m CollectionMetadata\n\u001B[1;32m      5\u001B[0m pums \u001B[38;5;241m=\u001B[39m pd\u001B[38;5;241m.\u001B[39mread_csv(\u001B[38;5;124m'\u001B[39m\u001B[38;5;124mPUMS.csv\u001B[39m\u001B[38;5;124m'\u001B[39m)\n",
      "\u001B[0;31mModuleNotFoundError\u001B[0m: No module named 'opendp.smartnoise'"
     ]
    }
   ],
   "source": [
    "import pandas as pd\n",
    "from opendp.smartnoise.sql import PandasReader, PrivateReader\n",
    "from opendp.smartnoise.metadata import CollectionMetadata\n",
    "\n",
    "pums = pd.read_csv('PUMS.csv')\n",
    "\n",
    "# Note: The \"PUMS_row.yaml\" metadata file explicitly sets the optional `row_privacy` field to `True`.\n",
    "#\n",
    "meta = CollectionMetadata.from_file('PUMS_row.yaml')\n",
    "\n",
    "query = 'SELECT married, AVG(income) AS income, COUNT(*) AS n FROM PUMS.PUMS GROUP BY married'\n",
    "\n",
    "reader = PandasReader(pums, meta) # This reads the data\n",
    "private_reader = PrivateReader(reader, meta, 1.0) # This makes the privacy\n",
    "\n",
    "result = private_reader.execute(query)\n",
    "print(result)\n",
    "\n"
   ]
  },
  {
   "cell_type": "code",
   "execution_count": null,
   "id": "1cbb9052-9faf-427d-a1ea-a1a44b7bcaa1",
   "metadata": {},
   "outputs": [],
   "source": [
    "# example of calling a reader for exact query results\n",
    "# no differential privacy code is used\n",
    "from opendp.smartnoise.sql import SqlServerReader\n",
    "\n",
    "query = 'SELECT married, AVG(income) AS income, COUNT(*) AS n FROM PUMS.PUMS_large GROUP BY married'\n",
    "\n",
    "reader = SqlServerReader('127.0.0.1', 'PUMS', 'sa')\n",
    "\n",
    "exact = reader.execute_typed(query)\n",
    "print(exact)\n"
   ]
  },
  {
   "cell_type": "code",
   "execution_count": null,
   "id": "c3cb5f40-b4fc-4ba3-a2fc-fc6ebcb178ff",
   "metadata": {},
   "outputs": [],
   "source": []
  }
 ],
 "metadata": {
  "kernelspec": {
   "name": "ml-society",
   "language": "python",
   "display_name": "ml-society"
  },
  "language_info": {
   "codemirror_mode": {
    "name": "ipython",
    "version": 3
   },
   "file_extension": ".py",
   "mimetype": "text/x-python",
   "name": "python",
   "nbconvert_exporter": "python",
   "pygments_lexer": "ipython3",
   "version": "3.7.3"
  }
 },
 "nbformat": 4,
 "nbformat_minor": 5
}