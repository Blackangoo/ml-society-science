{
 "cells": [
  {
   "cell_type": "code",
   "execution_count": 2,
   "id": "4c86bed6",
   "metadata": {},
   "outputs": [],
   "source": [
    "import pandas as pd\n",
    "import numpy as np\n",
    "import opendp"
   ]
  },
  {
   "cell_type": "markdown",
   "id": "36fcbac9",
   "metadata": {},
   "source": [
    "#### create a dataset"
   ]
  },
  {
   "cell_type": "code",
   "execution_count": 3,
   "id": "4b0f110e",
   "metadata": {},
   "outputs": [],
   "source": [
    "data = np.random.normal(loc=10,scale=2,size=100)"
   ]
  },
  {
   "cell_type": "code",
   "execution_count": 10,
   "id": "1b0f2372",
   "metadata": {},
   "outputs": [],
   "source": [
    "from opendp.meas import make_base_discrete_laplace\n",
    "from opendp.typing import VectorDomain, AllDomain\n",
    "from opendp.mod import enable_features\n",
    "enable_features(\"contrib\")"
   ]
  },
  {
   "cell_type": "code",
   "execution_count": 11,
   "id": "101a516b",
   "metadata": {},
   "outputs": [
    {
     "ename": "OpenDPException",
     "evalue": "Continued Rust stack trace:\n    \n  FFI(\"No match for concrete type i32. See https://github.com/opendp/opendp/discussions/451.\")",
     "output_type": "error",
     "traceback": [
      "\u001b[0;31m---------------------------------------------------------------------------\u001b[0m",
      "\u001b[0;31mOpenDPException\u001b[0m                           Traceback (most recent call last)",
      "Cell \u001b[0;32mIn [11], line 1\u001b[0m\n\u001b[0;32m----> 1\u001b[0m \u001b[43mmake_base_discrete_laplace\u001b[49m\u001b[43m(\u001b[49m\u001b[43mscale\u001b[49m\u001b[38;5;241;43m=\u001b[39;49m\u001b[38;5;241;43m10\u001b[39;49m\u001b[43m,\u001b[49m\u001b[43m \u001b[49m\u001b[43mD\u001b[49m\u001b[38;5;241;43m=\u001b[39;49m\u001b[43mVectorDomain\u001b[49m\u001b[43m[\u001b[49m\u001b[43mAllDomain\u001b[49m\u001b[43m[\u001b[49m\u001b[38;5;28;43mint\u001b[39;49m\u001b[43m]\u001b[49m\u001b[43m]\u001b[49m\u001b[43m)\u001b[49m\n",
      "File \u001b[0;32m~/Phd/projects/env/ml-society/lib/python3.9/site-packages/opendp/meas.py:269\u001b[0m, in \u001b[0;36mmake_base_discrete_laplace\u001b[0;34m(scale, D, QO)\u001b[0m\n\u001b[1;32m    266\u001b[0m function\u001b[38;5;241m.\u001b[39margtypes \u001b[38;5;241m=\u001b[39m [ctypes\u001b[38;5;241m.\u001b[39mc_void_p, ctypes\u001b[38;5;241m.\u001b[39mc_char_p, ctypes\u001b[38;5;241m.\u001b[39mc_char_p]\n\u001b[1;32m    267\u001b[0m function\u001b[38;5;241m.\u001b[39mrestype \u001b[38;5;241m=\u001b[39m FfiResult\n\u001b[0;32m--> 269\u001b[0m \u001b[38;5;28;01mreturn\u001b[39;00m c_to_py(\u001b[43munwrap\u001b[49m\u001b[43m(\u001b[49m\u001b[43mfunction\u001b[49m\u001b[43m(\u001b[49m\u001b[43mscale\u001b[49m\u001b[43m,\u001b[49m\u001b[43m \u001b[49m\u001b[43mD\u001b[49m\u001b[43m,\u001b[49m\u001b[43m \u001b[49m\u001b[43mQO\u001b[49m\u001b[43m)\u001b[49m\u001b[43m,\u001b[49m\u001b[43m \u001b[49m\u001b[43mMeasurement\u001b[49m\u001b[43m)\u001b[49m)\n",
      "File \u001b[0;32m~/Phd/projects/env/ml-society/lib/python3.9/site-packages/opendp/_lib.py:132\u001b[0m, in \u001b[0;36munwrap\u001b[0;34m(result, type_)\u001b[0m\n\u001b[1;32m    129\u001b[0m     \u001b[38;5;28;01mraise\u001b[39;00m OpenDPException(\u001b[38;5;124m\"\u001b[39m\u001b[38;5;124mFailed to free error.\u001b[39m\u001b[38;5;124m\"\u001b[39m)\n\u001b[1;32m    131\u001b[0m \u001b[38;5;66;03m# rust stack traces follow from here:\u001b[39;00m\n\u001b[0;32m--> 132\u001b[0m \u001b[38;5;28;01mraise\u001b[39;00m OpenDPException(variant, message, backtrace)\n",
      "\u001b[0;31mOpenDPException\u001b[0m: Continued Rust stack trace:\n    \n  FFI(\"No match for concrete type i32. See https://github.com/opendp/opendp/discussions/451.\")"
     ]
    }
   ],
   "source": [
    "make_base_discrete_laplace(scale=10, D=VectorDomain[AllDomain[int]])"
   ]
  },
  {
   "cell_type": "markdown",
   "id": "b06c896d",
   "metadata": {},
   "source": [
    "# 1. calculate the average of the dataset"
   ]
  },
  {
   "cell_type": "code",
   "execution_count": 7,
   "id": "da87a36c",
   "metadata": {},
   "outputs": [
    {
     "ename": "ModuleNotFoundError",
     "evalue": "No module named 'opendp.smartnoise'",
     "output_type": "error",
     "traceback": [
      "\u001b[0;31m---------------------------------------------------------------------------\u001b[0m",
      "\u001b[0;31mModuleNotFoundError\u001b[0m                       Traceback (most recent call last)",
      "Cell \u001b[0;32mIn [7], line 2\u001b[0m\n\u001b[1;32m      1\u001b[0m \u001b[38;5;66;03m# impoort opendpd\u001b[39;00m\n\u001b[0;32m----> 2\u001b[0m \u001b[38;5;28;01mimport\u001b[39;00m \u001b[38;5;21;01mopendp\u001b[39;00m\u001b[38;5;21;01m.\u001b[39;00m\u001b[38;5;21;01msmartnoise\u001b[39;00m\u001b[38;5;21;01m.\u001b[39;00m\u001b[38;5;21;01mcore\u001b[39;00m \u001b[38;5;28;01mas\u001b[39;00m \u001b[38;5;21;01msn\u001b[39;00m\n",
      "\u001b[0;31mModuleNotFoundError\u001b[0m: No module named 'opendp.smartnoise'"
     ]
    }
   ],
   "source": [
    "# impoort opendpd\n",
    "import opendp"
   ]
  },
  {
   "cell_type": "markdown",
   "id": "42764446",
   "metadata": {},
   "source": [
    "### local differnetial privacy"
   ]
  },
  {
   "cell_type": "code",
   "execution_count": 9,
   "id": "048b9003",
   "metadata": {},
   "outputs": [],
   "source": [
    "import opendp"
   ]
  },
  {
   "cell_type": "code",
   "execution_count": null,
   "id": "5c217c3c",
   "metadata": {},
   "outputs": [],
   "source": [
    "opendp.core."
   ]
  },
  {
   "cell_type": "markdown",
   "id": "dd5d1fcf",
   "metadata": {},
   "source": [
    "### global differential privacy"
   ]
  },
  {
   "cell_type": "code",
   "execution_count": null,
   "id": "4a16ebf7",
   "metadata": {},
   "outputs": [],
   "source": []
  },
  {
   "cell_type": "markdown",
   "id": "241885c6",
   "metadata": {},
   "source": [
    "# 2. compare the local and the global aproch for different ε and N number of points"
   ]
  },
  {
   "cell_type": "code",
   "execution_count": null,
   "id": "198c99dc",
   "metadata": {},
   "outputs": [],
   "source": []
  }
 ],
 "metadata": {
  "kernelspec": {
   "display_name": "ml-society",
   "language": "python",
   "name": "ml-society"
  },
  "language_info": {
   "codemirror_mode": {
    "name": "ipython",
    "version": 3
   },
   "file_extension": ".py",
   "mimetype": "text/x-python",
   "name": "python",
   "nbconvert_exporter": "python",
   "pygments_lexer": "ipython3",
   "version": "3.9.12"
  }
 },
 "nbformat": 4,
 "nbformat_minor": 5
}
