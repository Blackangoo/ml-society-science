{
 "cells": [
  {
   "cell_type": "code",
   "execution_count": 1,
   "id": "4c86bed6",
   "metadata": {},
   "outputs": [],
   "source": [
    "import pandas as pd\n",
    "import numpy as np\n",
    "import matplotlib.pyplot as plt\n",
    "import opendp\n",
    "import math"
   ]
  },
  {
   "cell_type": "markdown",
   "id": "b268c7eb",
   "metadata": {},
   "source": [
    "# Enable opendp features\n",
    "opendp is still on development mode so to use all the code you must fist."
   ]
  },
  {
   "cell_type": "code",
   "execution_count": 2,
   "id": "22223bed",
   "metadata": {},
   "outputs": [],
   "source": [
    "from opendp.mod import enable_features\n",
    "enable_features('contrib')"
   ]
  },
  {
   "cell_type": "markdown",
   "id": "f8939353",
   "metadata": {},
   "source": [
    "# OpenDP - Key Points\n",
    "\n",
    "You don’t need to know all the details of the Programming Framework to write OpenDP applications, but it helps understand some of the key points:\n",
    "\n",
    "   * OpenDP calculations are built by assembling a measurement from a number of constituent transformations and measurements, typically through chaining or composition.\n",
    "    \n",
    "    \n",
    "   * Measurements don’t have a static privacy loss specified when constructing the measurement. Instead, measurements are typically constructed by specifying the scale of noise, and the loss is bounded by the resulting privacy relation. This requires some extra work compared to specifying the loss directly, but OpenDP provides some utilities to make this easier on the programmer, and the benefit is greatly increased flexibility of the framework as a whole."
   ]
  },
  {
   "cell_type": "markdown",
   "id": "5f5ece04",
   "metadata": {},
   "source": [
    "# Laplace Mechanism example"
   ]
  },
  {
   "cell_type": "markdown",
   "id": "8911c54d",
   "metadata": {},
   "source": [
    "### Discrete Laplace Mechanism"
   ]
  },
  {
   "cell_type": "code",
   "execution_count": 3,
   "id": "656bdf6c",
   "metadata": {},
   "outputs": [
    {
     "name": "stdout",
     "output_type": "stream",
     "text": [
      "Laplcacian scale λ : 10.0\n"
     ]
    }
   ],
   "source": [
    "from opendp.meas import make_base_discrete_laplace\n",
    "from opendp.mod import binary_search\n",
    "from opendp.typing import AllDomain\n",
    "\n",
    "epsilon = 1.0 \n",
    "sensitivity = 10\n",
    "l = sensitivity / epsilon\n",
    "print(f\"Laplcacian scale λ : {l}\")"
   ]
  },
  {
   "cell_type": "markdown",
   "id": "4e21292a",
   "metadata": {},
   "source": [
    "###### call the constructor to build laplacian mechanism with specific λ"
   ]
  },
  {
   "cell_type": "code",
   "execution_count": 4,
   "id": "0d6faa51",
   "metadata": {},
   "outputs": [],
   "source": [
    "# call the constructor to produce a measurement\n",
    "discrete_laplace_mechanism = make_base_discrete_laplace(scale=l, D=AllDomain[int])"
   ]
  },
  {
   "cell_type": "markdown",
   "id": "444bb5a8",
   "metadata": {},
   "source": [
    "###### opendp is very helpfull in order to be use about the eligibility of your algorithm\n",
    "\n",
    "###### for example we can check if our algorithm is differential private with respect to sensitivity (d_in) and  epsilon (d_out)"
   ]
  },
  {
   "cell_type": "code",
   "execution_count": 5,
   "id": "0846ee38",
   "metadata": {},
   "outputs": [
    {
     "name": "stdout",
     "output_type": "stream",
     "text": [
      "True\n"
     ]
    }
   ],
   "source": [
    "# investigate the privacy relation\n",
    "is_private = discrete_laplace_mechanism.check(d_in=sensitivity, d_out=epsilon)\n",
    "print(is_private)"
   ]
  },
  {
   "cell_type": "code",
   "execution_count": 6,
   "id": "dee7d7a0",
   "metadata": {},
   "outputs": [
    {
     "name": "stdout",
     "output_type": "stream",
     "text": [
      "False\n"
     ]
    }
   ],
   "source": [
    "l_tmp = l - 1\n",
    "\n",
    "# call the constructor to produce a measurement\n",
    "non_private_discrete_laplace_mechanism = make_base_discrete_laplace(scale=l_tmp)\n",
    "\n",
    "# investigate the privacy relation\n",
    "is_private = non_private_discrete_laplace_mechanism.check(d_in=sensitivity, d_out=epsilon)\n",
    "print(is_private)"
   ]
  },
  {
   "cell_type": "markdown",
   "id": "3a756d26",
   "metadata": {},
   "source": [
    "######  you can get the epsilon using different sensitivities"
   ]
  },
  {
   "cell_type": "code",
   "execution_count": 7,
   "id": "40d4e84b",
   "metadata": {},
   "outputs": [
    {
     "name": "stdout",
     "output_type": "stream",
     "text": [
      "1.0\n"
     ]
    }
   ],
   "source": [
    "# you can get espilon of your laplcasian mechanism if you specify the sensitiviy\n",
    "get_epsilon = discrete_laplace_mechanism.map(d_in=sensitivity)\n",
    "print(get_epsilon)"
   ]
  },
  {
   "cell_type": "markdown",
   "id": "de381d57",
   "metadata": {},
   "source": [
    "###### An other very usefull think that you can do is to find a parameter in order to be private."
   ]
  },
  {
   "cell_type": "code",
   "execution_count": 8,
   "id": "086a38b3",
   "metadata": {},
   "outputs": [
    {
     "data": {
      "text/plain": [
       "10.0"
      ]
     },
     "execution_count": 8,
     "metadata": {},
     "output_type": "execute_result"
    }
   ],
   "source": [
    "# return the first value that satisfies the condition\n",
    "binary_search(lambda x : x >= 10)"
   ]
  },
  {
   "cell_type": "code",
   "execution_count": 9,
   "id": "e54ade9a",
   "metadata": {},
   "outputs": [
    {
     "data": {
      "text/plain": [
       "10.000000000000002"
      ]
     },
     "execution_count": 9,
     "metadata": {},
     "output_type": "execute_result"
    }
   ],
   "source": [
    "# return the first value that satisfies the condition\n",
    "binary_search(lambda x : x > 10)"
   ]
  },
  {
   "cell_type": "code",
   "execution_count": 10,
   "id": "7120808c",
   "metadata": {},
   "outputs": [
    {
     "data": {
      "text/plain": [
       "11"
      ]
     },
     "execution_count": 10,
     "metadata": {},
     "output_type": "execute_result"
    }
   ],
   "source": [
    "# you can also spesify the type\n",
    "binary_search(lambda x : x > 10, T = int)"
   ]
  },
  {
   "cell_type": "markdown",
   "id": "a5615920",
   "metadata": {},
   "source": [
    "### lets say we want to find the epsilon of our privius non-private mechanism\n",
    "\n",
    "all the 3 cell bellow are equivalent"
   ]
  },
  {
   "cell_type": "code",
   "execution_count": 11,
   "id": "874c7b98",
   "metadata": {},
   "outputs": [
    {
     "data": {
      "text/plain": [
       "1.1111111111111112"
      ]
     },
     "execution_count": 11,
     "metadata": {},
     "output_type": "execute_result"
    }
   ],
   "source": [
    "binary_search(lambda unkown_epsilon : non_private_discrete_laplace_mechanism.check(d_in=sensitivity, d_out=unkown_epsilon))"
   ]
  },
  {
   "cell_type": "code",
   "execution_count": 12,
   "id": "01913ff6",
   "metadata": {},
   "outputs": [
    {
     "data": {
      "text/plain": [
       "1.1111111111111112"
      ]
     },
     "execution_count": 12,
     "metadata": {},
     "output_type": "execute_result"
    }
   ],
   "source": [
    "theory_epsilon = sensitivity / l_tmp\n",
    "theory_epsilon"
   ]
  },
  {
   "cell_type": "code",
   "execution_count": 13,
   "id": "4aef6c7b",
   "metadata": {},
   "outputs": [
    {
     "data": {
      "text/plain": [
       "1.1111111111111112"
      ]
     },
     "execution_count": 13,
     "metadata": {},
     "output_type": "execute_result"
    }
   ],
   "source": [
    "non_private_discrete_laplace_mechanism.map(d_in=sensitivity)"
   ]
  },
  {
   "cell_type": "markdown",
   "id": "98d5811f",
   "metadata": {},
   "source": [
    "## make a private release"
   ]
  },
  {
   "cell_type": "code",
   "execution_count": 14,
   "id": "09694538",
   "metadata": {},
   "outputs": [
    {
     "data": {
      "text/plain": [
       "9"
      ]
     },
     "execution_count": 14,
     "metadata": {},
     "output_type": "execute_result"
    }
   ],
   "source": [
    "some_non_private_data = 5\n",
    "private_release = discrete_laplace_mechanism(some_non_private_data)\n",
    "private_release"
   ]
  },
  {
   "cell_type": "code",
   "execution_count": 15,
   "id": "9afa6514",
   "metadata": {},
   "outputs": [
    {
     "data": {
      "text/plain": [
       "[13, 17, -11, 20]"
      ]
     },
     "execution_count": 15,
     "metadata": {},
     "output_type": "execute_result"
    }
   ],
   "source": [
    "some_non_private_data = [5,5,5,5]\n",
    "private_release = [discrete_laplace_mechanism(datum) for datum in some_non_private_data]\n",
    "private_release"
   ]
  },
  {
   "cell_type": "code",
   "execution_count": 16,
   "id": "dbf0cb03",
   "metadata": {},
   "outputs": [
    {
     "ename": "TypeError",
     "evalue": "inferred type is Vec<i32>, expected i32. See https://github.com/opendp/opendp/discussions/298",
     "output_type": "error",
     "traceback": [
      "\u001b[0;31m---------------------------------------------------------------------------\u001b[0m",
      "\u001b[0;31mTypeError\u001b[0m                                 Traceback (most recent call last)",
      "Cell \u001b[0;32mIn [16], line 1\u001b[0m\n\u001b[0;32m----> 1\u001b[0m private_release \u001b[38;5;241m=\u001b[39m \u001b[43mdiscrete_laplace_mechanism\u001b[49m\u001b[43m(\u001b[49m\u001b[43msome_non_private_data\u001b[49m\u001b[43m)\u001b[49m\n\u001b[1;32m      2\u001b[0m private_release\n",
      "File \u001b[0;32m~/Phd/projects/env/ml-society/lib/python3.9/site-packages/opendp/mod.py:47\u001b[0m, in \u001b[0;36mMeasurement.__call__\u001b[0;34m(self, arg)\u001b[0m\n\u001b[1;32m     45\u001b[0m \u001b[38;5;28;01mdef\u001b[39;00m \u001b[38;5;21m__call__\u001b[39m(\u001b[38;5;28mself\u001b[39m, arg):\n\u001b[1;32m     46\u001b[0m     \u001b[38;5;28;01mfrom\u001b[39;00m \u001b[38;5;21;01mopendp\u001b[39;00m\u001b[38;5;21;01m.\u001b[39;00m\u001b[38;5;21;01mcore\u001b[39;00m \u001b[38;5;28;01mimport\u001b[39;00m measurement_invoke\n\u001b[0;32m---> 47\u001b[0m     \u001b[38;5;28;01mreturn\u001b[39;00m \u001b[43mmeasurement_invoke\u001b[49m\u001b[43m(\u001b[49m\u001b[38;5;28;43mself\u001b[39;49m\u001b[43m,\u001b[49m\u001b[43m \u001b[49m\u001b[43marg\u001b[49m\u001b[43m)\u001b[49m\n",
      "File \u001b[0;32m~/Phd/projects/env/ml-society/lib/python3.9/site-packages/opendp/core.py:45\u001b[0m, in \u001b[0;36mmeasurement_invoke\u001b[0;34m(measurement, arg)\u001b[0m\n\u001b[1;32m     42\u001b[0m \u001b[38;5;66;03m# No type arguments to standardize.\u001b[39;00m\n\u001b[1;32m     43\u001b[0m \u001b[38;5;66;03m# Convert arguments to c types.\u001b[39;00m\n\u001b[1;32m     44\u001b[0m measurement \u001b[38;5;241m=\u001b[39m py_to_c(measurement, c_type\u001b[38;5;241m=\u001b[39mMeasurement)\n\u001b[0;32m---> 45\u001b[0m arg \u001b[38;5;241m=\u001b[39m \u001b[43mpy_to_c\u001b[49m\u001b[43m(\u001b[49m\u001b[43marg\u001b[49m\u001b[43m,\u001b[49m\u001b[43m \u001b[49m\u001b[43mc_type\u001b[49m\u001b[38;5;241;43m=\u001b[39;49m\u001b[43mAnyObjectPtr\u001b[49m\u001b[43m,\u001b[49m\u001b[43m \u001b[49m\u001b[43mtype_name\u001b[49m\u001b[38;5;241;43m=\u001b[39;49m\u001b[43mmeasurement_input_carrier_type\u001b[49m\u001b[43m(\u001b[49m\u001b[43mmeasurement\u001b[49m\u001b[43m)\u001b[49m\u001b[43m)\u001b[49m\n\u001b[1;32m     47\u001b[0m \u001b[38;5;66;03m# Call library function.\u001b[39;00m\n\u001b[1;32m     48\u001b[0m function \u001b[38;5;241m=\u001b[39m lib\u001b[38;5;241m.\u001b[39mopendp_core__measurement_invoke\n",
      "File \u001b[0;32m~/Phd/projects/env/ml-society/lib/python3.9/site-packages/opendp/_convert.py:48\u001b[0m, in \u001b[0;36mpy_to_c\u001b[0;34m(value, c_type, type_name)\u001b[0m\n\u001b[1;32m     46\u001b[0m \u001b[38;5;66;03m# check that the type name is consistent with the value\u001b[39;00m\n\u001b[1;32m     47\u001b[0m \u001b[38;5;28;01mif\u001b[39;00m type_name \u001b[38;5;129;01mis\u001b[39;00m \u001b[38;5;129;01mnot\u001b[39;00m \u001b[38;5;28;01mNone\u001b[39;00m:\n\u001b[0;32m---> 48\u001b[0m     \u001b[43mRuntimeType\u001b[49m\u001b[38;5;241;43m.\u001b[39;49m\u001b[43massert_is_similar\u001b[49m\u001b[43m(\u001b[49m\u001b[43mRuntimeType\u001b[49m\u001b[38;5;241;43m.\u001b[39;49m\u001b[43mparse\u001b[49m\u001b[43m(\u001b[49m\u001b[43mtype_name\u001b[49m\u001b[43m)\u001b[49m\u001b[43m,\u001b[49m\u001b[43m \u001b[49m\u001b[43mRuntimeType\u001b[49m\u001b[38;5;241;43m.\u001b[39;49m\u001b[43minfer\u001b[49m\u001b[43m(\u001b[49m\u001b[43mvalue\u001b[49m\u001b[43m)\u001b[49m\u001b[43m)\u001b[49m\n\u001b[1;32m     50\u001b[0m     \u001b[38;5;66;03m# exit early with a null pointer if trying to load an Option type with a None value\u001b[39;00m\n\u001b[1;32m     51\u001b[0m     \u001b[38;5;28;01mif\u001b[39;00m \u001b[38;5;28misinstance\u001b[39m(type_name, RuntimeType) \u001b[38;5;129;01mand\u001b[39;00m type_name\u001b[38;5;241m.\u001b[39morigin \u001b[38;5;241m==\u001b[39m \u001b[38;5;124m\"\u001b[39m\u001b[38;5;124mOption\u001b[39m\u001b[38;5;124m\"\u001b[39m:\n",
      "File \u001b[0;32m~/Phd/projects/env/ml-society/lib/python3.9/site-packages/opendp/typing.py:342\u001b[0m, in \u001b[0;36mRuntimeType.assert_is_similar\u001b[0;34m(cls, expected, inferred)\u001b[0m\n\u001b[1;32m    339\u001b[0m         RuntimeType\u001b[38;5;241m.\u001b[39massert_is_similar(arg_par, arg_inf)\n\u001b[1;32m    340\u001b[0m \u001b[38;5;28;01melse\u001b[39;00m:\n\u001b[1;32m    341\u001b[0m     \u001b[38;5;66;03m# inferred type differs in structure\u001b[39;00m\n\u001b[0;32m--> 342\u001b[0m     \u001b[38;5;28;01mraise\u001b[39;00m \u001b[38;5;167;01mTypeError\u001b[39;00m(\u001b[38;5;124mf\u001b[39m\u001b[38;5;124m\"\u001b[39m\u001b[38;5;124minferred type is \u001b[39m\u001b[38;5;132;01m{\u001b[39;00minferred\u001b[38;5;132;01m}\u001b[39;00m\u001b[38;5;124m, expected \u001b[39m\u001b[38;5;132;01m{\u001b[39;00mexpected\u001b[38;5;132;01m}\u001b[39;00m\u001b[38;5;124m. See \u001b[39m\u001b[38;5;132;01m{\u001b[39;00mERROR_URL_298\u001b[38;5;132;01m}\u001b[39;00m\u001b[38;5;124m\"\u001b[39m)\n",
      "\u001b[0;31mTypeError\u001b[0m: inferred type is Vec<i32>, expected i32. See https://github.com/opendp/opendp/discussions/298"
     ]
    }
   ],
   "source": [
    "private_release = discrete_laplace_mechanism(some_non_private_data)\n",
    "private_release"
   ]
  },
  {
   "cell_type": "markdown",
   "id": "2a7a299e",
   "metadata": {},
   "source": [
    "# Typing"
   ]
  },
  {
   "cell_type": "code",
   "execution_count": 17,
   "id": "6c894acd",
   "metadata": {},
   "outputs": [],
   "source": [
    "from opendp.typing import VectorDomain\n",
    "vectorized_discrete_laplace_mechanism = make_base_discrete_laplace(scale=l, D=VectorDomain[AllDomain[int]])"
   ]
  },
  {
   "cell_type": "code",
   "execution_count": 18,
   "id": "692d97a5",
   "metadata": {},
   "outputs": [
    {
     "name": "stdout",
     "output_type": "stream",
     "text": [
      "702 µs ± 4.45 µs per loop (mean ± std. dev. of 7 runs, 1,000 loops each)\n"
     ]
    }
   ],
   "source": [
    "some_large_dataset = [5]*100\n",
    "%timeit vectorized_discrete_laplace_mechanism(some_large_dataset)"
   ]
  },
  {
   "cell_type": "code",
   "execution_count": 19,
   "id": "bd0fd224",
   "metadata": {},
   "outputs": [
    {
     "name": "stdout",
     "output_type": "stream",
     "text": [
      "4.03 ms ± 25.4 µs per loop (mean ± std. dev. of 7 runs, 100 loops each)\n"
     ]
    }
   ],
   "source": [
    "some_large_dataset = [5]*100\n",
    "%timeit [discrete_laplace_mechanism(datum) for datum in some_large_dataset]"
   ]
  },
  {
   "cell_type": "markdown",
   "id": "bbe2f936",
   "metadata": {},
   "source": [
    "### Continius Laplace Mechanism"
   ]
  },
  {
   "cell_type": "code",
   "execution_count": 20,
   "id": "94c9fc93",
   "metadata": {},
   "outputs": [],
   "source": [
    "from opendp.meas import make_base_laplace\n",
    "# enable floating points if you want contrinius laplacian mechanism\n",
    "enable_features(\"floating-point\")"
   ]
  },
  {
   "cell_type": "code",
   "execution_count": 21,
   "id": "c6f762d9",
   "metadata": {},
   "outputs": [],
   "source": [
    "epsilon = 1.0 \n",
    "sensitivity = 10.2\n",
    "l = (sensitivity / epsilon)\n",
    "\n",
    "# call the constructor to produce a measurement\n",
    "laplace_mechanism = make_base_laplace(scale=l, D=VectorDomain[AllDomain[float]])"
   ]
  },
  {
   "cell_type": "code",
   "execution_count": 22,
   "id": "3d118549",
   "metadata": {},
   "outputs": [],
   "source": [
    "epsilon_2 = 0.5 \n",
    "sensitivity_2 = 10.2\n",
    "l_2 = (sensitivity_2 / epsilon_2)\n",
    "\n",
    "# call the constructor to produce a measurement\n",
    "laplace_mechanism_2 = make_base_laplace(scale=l_2, D=VectorDomain[AllDomain[float]])"
   ]
  },
  {
   "cell_type": "code",
   "execution_count": 23,
   "id": "0c494b7e",
   "metadata": {},
   "outputs": [],
   "source": [
    "some_non_private_input = [0.0]*1000\n",
    "private_release = laplace_mechanism(some_non_private_input)\n",
    "private_release_2 = laplace_mechanism_2(some_non_private_input)"
   ]
  },
  {
   "cell_type": "code",
   "execution_count": 24,
   "id": "cd062f48",
   "metadata": {},
   "outputs": [],
   "source": [
    "import seaborn as sns"
   ]
  },
  {
   "cell_type": "code",
   "execution_count": 25,
   "id": "ceda029f",
   "metadata": {},
   "outputs": [
    {
     "data": {
      "image/png": "[encoded data removed]",
      "text/plain": [
       "<Figure size 640x480 with 1 Axes>"
      ]
     },
     "metadata": {},
     "output_type": "display_data"
    }
   ],
   "source": [
    "fig, ax = plt.subplots()\n",
    "sns.kdeplot(private_release,label = f\"ε={epsilon}\",ax=ax,fill=True)\n",
    "sns.kdeplot(private_release_2,label = f\"ε={epsilon_2}\",ax=ax,fill=True)\n",
    "ax.legend()\n",
    "plt.tight_layout()\n",
    "plt.show()"
   ]
  }
 ],
 "metadata": {
  "kernelspec": {
   "display_name": "ml-society",
   "language": "python",
   "name": "ml-society"
  },
  "language_info": {
   "codemirror_mode": {
    "name": "ipython",
    "version": 3
   },
   "file_extension": ".py",
   "mimetype": "text/x-python",
   "name": "python",
   "nbconvert_exporter": "python",
   "pygments_lexer": "ipython3",
   "version": "3.9.12"
  }
 },
 "nbformat": 4,
 "nbformat_minor": 5
}
