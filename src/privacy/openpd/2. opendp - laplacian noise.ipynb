{
 "cells": [
  {
   "cell_type": "code",
   "execution_count": null,
   "id": "4c86bed6",
   "metadata": {},
   "outputs": [],
   "source": [
    "import pandas as pd\n",
    "import numpy as np\n",
    "import matplotlib.pyplot as plt\n",
    "import opendp\n",
    "import math"
   ]
  },
  {
   "cell_type": "markdown",
   "id": "b268c7eb",
   "metadata": {},
   "source": [
    "# Enable opendp features\n",
    "opendp is still on development mode so to use all the code you must fist."
   ]
  },
  {
   "cell_type": "code",
   "execution_count": null,
   "id": "22223bed",
   "metadata": {},
   "outputs": [],
   "source": [
    "from opendp.mod import enable_features\n",
    "enable_features('contrib')"
   ]
  },
  {
   "cell_type": "markdown",
   "id": "f8939353",
   "metadata": {},
   "source": [
    "# OpenDP - Key Points\n",
    "\n",
    "You don’t need to know all the details of the Programming Framework to write OpenDP applications, but it helps understand some of the key points:\n",
    "\n",
    "   * OpenDP calculations are built by assembling a measurement from a number of constituent transformations and measurements, typically through chaining or composition.\n",
    "    \n",
    "    \n",
    "   * Measurements don’t have a static privacy loss specified when constructing the measurement. Instead, measurements are typically constructed by specifying the scale of noise, and the loss is bounded by the resulting privacy relation. This requires some extra work compared to specifying the loss directly, but OpenDP provides some utilities to make this easier on the programmer, and the benefit is greatly increased flexibility of the framework as a whole."
   ]
  },
  {
   "cell_type": "markdown",
   "id": "5f5ece04",
   "metadata": {},
   "source": [
    "# Laplace Mechanism - Average Function"
   ]
  },
  {
   "cell_type": "markdown",
   "id": "080deed1",
   "metadata": {},
   "source": [
    "### compare Laplace Mechanism for different ε and dataset site"
   ]
  },
  {
   "cell_type": "code",
   "execution_count": null,
   "id": "07e2d786",
   "metadata": {},
   "outputs": [],
   "source": [
    "def logsequence(start, stop, num, base=10, decimals=2, asint=False):\n",
    "    my_seq = np.linspace(start=math.log10(start), stop=math.log10(stop), num=num)\n",
    "    my_seq = np.power(10, my_seq)\n",
    "    if asint:\n",
    "        my_seq = list(my_seq.round().astype(int))\n",
    "    else:\n",
    "        my_seq = my_seq.round(decimals=decimals)\n",
    "    return my_seq\n",
    "\n",
    "N_seq = logsequence(start=50, stop=800, num=8, asint=True)\n",
    "epsilon_seq = logsequence(start=100, stop=0.01, num=4, decimals=2) "
   ]
  },
  {
   "cell_type": "code",
   "execution_count": null,
   "id": "21c2b93c",
   "metadata": {},
   "outputs": [],
   "source": [
    "print(\"Sequence of dataset sizes:  \" + str(N_seq))\n",
    "print(\"Sequence of epsilon values: \" + str(epsilon_seq))"
   ]
  },
  {
   "cell_type": "markdown",
   "id": "3acbe5e5",
   "metadata": {},
   "source": [
    "# global privacy"
   ]
  },
  {
   "cell_type": "code",
   "execution_count": null,
   "id": "f74a839a",
   "metadata": {},
   "outputs": [],
   "source": [
    "from opendp.measurements import make_base_laplace\n",
    "def global_private_average(epsilon, data, domain_range):\n",
    "    \"\"\"\n",
    "    implementation of the global private model of average function\n",
    "    \"\"\"\n",
    "    \n",
    "    # 0. calulate average\n",
    "    \n",
    "    # 1. create laplace mechanism\n",
    "    \n",
    "    # 2. calculate private release\n",
    "    \n",
    "    return private_average"
   ]
  },
  {
   "cell_type": "code",
   "execution_count": null,
   "id": "e290bd86",
   "metadata": {},
   "outputs": [],
   "source": [
    "lower_value_x = 0\n",
    "upper_value_x = 10\n",
    "\n",
    "error_per_dataset = []\n",
    "for N in N_seq:\n",
    "    \n",
    "    # generate data\n",
    "    data_tmp = np.random.uniform(low = lower_value_x, \n",
    "                                 high = upper_value_x, \n",
    "                                 size = N)\n",
    "    \n",
    "    # average groundtruth\n",
    "    average_value = np.mean(data_tmp)\n",
    "    \n",
    "    # create differential private release for different epsilon\n",
    "    avg_error = []\n",
    "    for epsilon in epsilon_seq:\n",
    "        \n",
    "        error_tmp = []\n",
    "        # calculate error k times to get the average error\n",
    "        for i in range(10):\n",
    "            private_release = global_private_average(epsilon = epsilon,\n",
    "                                                     data = data_tmp,\n",
    "                                                     domain_range = upper_value_x - lower_value_x)\n",
    "            error = abs(average_value-private_release)\n",
    "            error_tmp += [error]\n",
    "            \n",
    "        avg_error += [np.mean(error_tmp)]\n",
    "        \n",
    "    error_per_dataset += [avg_error]"
   ]
  },
  {
   "cell_type": "code",
   "execution_count": null,
   "id": "34a07740",
   "metadata": {},
   "outputs": [],
   "source": [
    "error_results = pd.DataFrame(error_per_dataset , columns = epsilon_seq, index = N_seq)"
   ]
  },
  {
   "cell_type": "code",
   "execution_count": null,
   "id": "b1063680",
   "metadata": {},
   "outputs": [],
   "source": [
    "for e in error_results.columns:\n",
    "    plt.plot(N_seq,error_results[e])\n",
    "plt.title(\"Compare Global Private Release of average function \\n for different epsilon and size of dataset\")\n",
    "plt.xlabel(\"Diffirent size of dataset N\")\n",
    "plt.ylabel(\"Absolute error\")"
   ]
  },
  {
   "cell_type": "code",
   "execution_count": null,
   "id": "d60eebe4",
   "metadata": {},
   "outputs": [],
   "source": [
    "fig1, ax1 = plt.subplots()\n",
    "for e in error_results.columns:\n",
    "    plt.loglog(N_seq, error_results[e])\n",
    "# ax1.set_xticks(N_seq)\n",
    "plt.title(\"Compare Global Private Release of average function \\n for different epsilon and size of dataset\")\n",
    "plt.xlabel(\"log diffirent size of dataset N\")\n",
    "plt.ylabel(\"log absolute error\")"
   ]
  },
  {
   "cell_type": "markdown",
   "id": "241885c6",
   "metadata": {},
   "source": [
    "# 2. local privacy"
   ]
  },
  {
   "cell_type": "code",
   "execution_count": null,
   "id": "da593a27",
   "metadata": {},
   "outputs": [],
   "source": [
    "from opendp.typing import VectorDomain\n",
    "\n",
    "def local_private_average(epsilon, data, domain_range):\n",
    "    \"\"\"\n",
    "    implementation of the local private model of average function\n",
    "    \"\"\"\n",
    "    \n",
    "    # 1. create laplace mechanism\n",
    "    \n",
    "    # 2. calculate private release\n",
    "    \n",
    "    # 3. calulate average\n",
    "    \n",
    "    return private_average"
   ]
  },
  {
   "cell_type": "code",
   "execution_count": null,
   "id": "198c99dc",
   "metadata": {},
   "outputs": [],
   "source": [
    "lower_value_x = 0\n",
    "upper_value_x = 10\n",
    "\n",
    "error_per_dataset = []\n",
    "for N in N_seq:\n",
    "    # generate data\n",
    "    data_tmp = np.random.uniform(low = lower_value_x, \n",
    "                                 high = upper_value_x, \n",
    "                                 size = N)\n",
    "    # average groundtruth\n",
    "    average_value = np.mean(data_tmp)\n",
    "    \n",
    "    # create differential private release for different epsilon\n",
    "    avg_error = []\n",
    "    for epsilon in epsilon_seq:\n",
    "            \n",
    "        error_tmp = []\n",
    "        # calculate error k times to get the average error\n",
    "        for i in range(5):\n",
    "            private_release = local_private_average(epsilon=epsilon,\n",
    "                                                    data=data_tmp,\n",
    "                                                    domain_range=upper_value_x-lower_value_x)\n",
    "            error = abs(average_value-private_release)\n",
    "            error_tmp += [error]\n",
    "            \n",
    "        avg_error += [np.mean(error_tmp)]\n",
    "        \n",
    "    error_per_dataset += [avg_error]"
   ]
  },
  {
   "cell_type": "code",
   "execution_count": null,
   "id": "fc19293e",
   "metadata": {},
   "outputs": [],
   "source": [
    "local_error_results = pd.DataFrame(error_per_dataset , columns = epsilon_seq, index = N_seq)"
   ]
  },
  {
   "cell_type": "code",
   "execution_count": null,
   "id": "2de04147",
   "metadata": {},
   "outputs": [],
   "source": [
    "fig1, ax1 = plt.subplots(figsize = (8,6))\n",
    "colors = ['#1f77b4', '#ff7f0e', '#2ca02c', '#d62728', '#9467bd']\n",
    "for i,e in enumerate(error_results.columns):\n",
    "    plt.loglog(N_seq, error_results[e], \"--\",color=colors[i], label = f\"global ε - {e}\")\n",
    "    plt.loglog(N_seq, local_error_results[e],color=colors[i], label = f\"local ε - {e}\")\n",
    "# ax1.set_xticks(N_seq)\n",
    "plt.legend()\n",
    "plt.title(\"Compare Global Private Release of average function \\n for different epsilon and size of dataset\")\n",
    "plt.xlabel(\"diffirent size of dataset N\")\n",
    "plt.ylabel(\"log absolute error\")"
   ]
  }
 ],
 "metadata": {
  "kernelspec": {
   "display_name": "general-ml",
   "language": "python",
   "name": "general-ml"
  },
  "language_info": {
   "codemirror_mode": {
    "name": "ipython",
    "version": 3
   },
   "file_extension": ".py",
   "mimetype": "text/x-python",
   "name": "python",
   "nbconvert_exporter": "python",
   "pygments_lexer": "ipython3",
   "version": "3.10.6"
  }
 },
 "nbformat": 4,
 "nbformat_minor": 5
}
