{
 "cells": [
  {
   "cell_type": "code",
   "execution_count": 1,
   "metadata": {},
   "outputs": [],
   "source": [
    "import numpy as np\n",
    "import matplotlib.pyplot as plt"
   ]
  },
  {
   "cell_type": "code",
   "execution_count": 4,
   "metadata": {},
   "outputs": [],
   "source": [
    "# Arguments\n",
    "# - utility: an np.array where utility[a] is the utility of answer a\n",
    "# - epsilon > 0: the privacy parameter\n",
    "# - We can assume the utility is bounded (we can actually test this by looking at its min and max)\n",
    "# we can re-use this function for any fixed u(., q, x) where only a varies\n",
    "# Returns\n",
    "# - a random answer with probability proportional to exp(epsilon u(a, q, x) / 2 sensitivity(u(., q, x))\n",
    "def exponential_mechanism(utility, epsilon, sensitivity):\n",
    "    # first, define the probability of every answer.\n",
    "    probability = np.exp(epsilon * utility / (2 * sensitivity))\n",
    "    # we want sum_a probability[a] = 1\n",
    "    probability /= np.sum(probability)\n",
    "    # we want to sample from this distribution \n",
    "    # we can use np.random.choice\n",
    "    return np.random.choice(len(utility), p = probability)\n",
    "\n",
    "def epsilon_greedy_mechanism(utility, epsilon):\n",
    "    # this is the wrong implementation!\n",
    "    if (np.random.uniform()<epsilon):\n",
    "        return np.argmax(utility)\n",
    "    else:\n",
    "        return np.random.choice(len(utility))\n",
    "\n",
    "    "
   ]
  },
  {
   "cell_type": "code",
   "execution_count": 5,
   "metadata": {},
   "outputs": [],
   "source": [
    "def calculate_expected_value(utility, epsilon, n_samples, sensitivity):\n",
    "    value = 0\n",
    "    for i in range(n_samples):\n",
    "        a = exponential_mechanism(utility, epsilon, sensitivity)\n",
    "        value += utility[a]\n",
    "    return value / n_samples"
   ]
  },
  {
   "cell_type": "code",
   "execution_count": 9,
   "metadata": {},
   "outputs": [
    {
     "name": "stdout",
     "output_type": "stream",
     "text": [
      "[-0.50952109 -0.48911292 -0.46870476 -0.4482966  -0.42788843 -0.40748027\n",
      " -0.38707211 -0.36666394 -0.34625578 -0.32584762 -0.30543945 -0.28503129\n",
      " -0.26462313 -0.24421496 -0.2238068  -0.20339864 -0.18299047 -0.16258231\n",
      " -0.14217415 -0.12176598 -0.10135782 -0.08094966 -0.06054149 -0.04013333\n",
      " -0.01972517  0.00068299  0.02109116  0.04149932  0.06190748  0.08231565\n",
      "  0.10272381  0.12313197  0.14354014  0.1639483   0.18435646  0.20476463\n",
      "  0.22517279  0.24558095  0.26598912  0.28639728  0.30680544  0.32721361\n",
      "  0.34762177  0.36802993  0.3884381   0.40884626  0.42925442  0.44966259\n",
      "  0.47007075  0.49047891]\n",
      "The maximum utility is -0.0006829948228602722\n"
     ]
    },
    {
     "data": {
      "image/png": "[encoded data removed]",
      "text/plain": [
       "<Figure size 432x288 with 1 Axes>"
      ]
     },
     "metadata": {
      "needs_background": "light"
     },
     "output_type": "display_data"
    }
   ],
   "source": [
    "# now we test the exponential mechanism\n",
    "\n",
    "# create a simple utility vector\n",
    "population_size = 1000\n",
    "data = np.random.uniform(size=population_size)\n",
    "true_mean = np.mean(data)\n",
    "sensitivity = 1 / population_size\n",
    "answers = np.linspace(0,1)\n",
    "print(answers - true_mean)\n",
    "utility = - np.abs(true_mean - answers)\n",
    "print(\"The maximum utility is\", np.max(utility))\n",
    "\n",
    "# values of epsilon to try\n",
    "epsilon_range  = np.linspace(0,1,100)\n",
    "n_samples = 1000\n",
    "exp_utility = [calculate_expected_value(utility, epsilon, n_samples, sensitivity) for epsilon in epsilon_range]\n",
    "\n",
    "plt.semilogx(exp_utility)\n",
    "plt.semilogx(np.max(utility))\n",
    "plt.grid(which='minor')"
   ]
  },
  {
   "cell_type": "code",
   "execution_count": null,
   "metadata": {},
   "outputs": [],
   "source": [
    "sum(np.exp(utility))/sum(np.exp(utility))"
   ]
  },
  {
   "cell_type": "code",
   "execution_count": null,
   "metadata": {},
   "outputs": [],
   "source": [
    "help(np.random.choice)"
   ]
  },
  {
   "cell_type": "code",
   "execution_count": null,
   "metadata": {},
   "outputs": [],
   "source": [
    "np.max(utility) - np.mean(utility)"
   ]
  },
  {
   "cell_type": "code",
   "execution_count": null,
   "metadata": {},
   "outputs": [],
   "source": [
    "utility"
   ]
  },
  {
   "cell_type": "code",
   "execution_count": null,
   "metadata": {},
   "outputs": [],
   "source": [
    "# Here you can se that as we increase epsilon, the probability of the best answer increases and the worst ones decrease\n",
    "epsilon = 0;plt.plot(np.exp(epsilon * utility)/ sum(np.exp(epsilon * utility))) # here it is uniform!\n",
    "epsilon = 0.1;plt.plot(np.exp(epsilon * utility)/ sum(np.exp(epsilon * utility)))\n",
    "epsilon = 1;plt.plot(np.exp(epsilon * utility)/ sum(np.exp(epsilon * utility)))\n",
    "epsilon = 100;plt.plot(np.exp(epsilon * utility)/ sum(np.exp(epsilon * utility)))\n"
   ]
  },
  {
   "cell_type": "code",
   "execution_count": null,
   "metadata": {},
   "outputs": [],
   "source": []
  },
  {
   "cell_type": "code",
   "execution_count": null,
   "metadata": {},
   "outputs": [],
   "source": []
  }
 ],
 "metadata": {
  "kernelspec": {
   "display_name": "Python 3",
   "language": "python",
   "name": "python3"
  },
  "language_info": {
   "codemirror_mode": {
    "name": "ipython",
    "version": 3
   },
   "file_extension": ".py",
   "mimetype": "text/x-python",
   "name": "python",
   "nbconvert_exporter": "python",
   "pygments_lexer": "ipython3",
   "version": "3.8.10"
  }
 },
 "nbformat": 4,
 "nbformat_minor": 4
}
