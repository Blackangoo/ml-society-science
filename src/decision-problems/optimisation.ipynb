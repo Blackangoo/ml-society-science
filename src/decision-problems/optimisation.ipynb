{
 "cells": [
  {
   "cell_type": "code",
   "execution_count": 1,
   "id": "b8939137-70eb-4f6d-84d4-b927828be8db",
   "metadata": {},
   "outputs": [],
   "source": [
    "import tensorflow as tf"
   ]
  },
  {
   "cell_type": "code",
   "execution_count": 2,
   "id": "b7af61fc-4b25-4813-a0e9-214a4398bab0",
   "metadata": {},
   "outputs": [],
   "source": [
    "c = tf.constant([-1.0,1.0])"
   ]
  },
  {
   "cell_type": "code",
   "execution_count": 3,
   "id": "4478922e-0943-4bb3-87ec-c6fa6e8a4de9",
   "metadata": {},
   "outputs": [],
   "source": [
    "v = tf.Variable([1.0, 2.0])"
   ]
  },
  {
   "cell_type": "code",
   "execution_count": 4,
   "id": "0ff60c45-b2ca-497d-b528-cf39fb8b2c1e",
   "metadata": {},
   "outputs": [
    {
     "data": {
      "text/plain": [
       "<tf.Variable 'Variable:0' shape=(2,) dtype=float32, numpy=array([1., 2.], dtype=float32)>"
      ]
     },
     "execution_count": 4,
     "metadata": {},
     "output_type": "execute_result"
    }
   ],
   "source": [
    "v"
   ]
  },
  {
   "cell_type": "code",
   "execution_count": 5,
   "id": "012fad2c-a734-4396-9af9-8be3f611d1f6",
   "metadata": {},
   "outputs": [
    {
     "data": {
      "text/plain": [
       "array([1., 2.], dtype=float32)"
      ]
     },
     "execution_count": 5,
     "metadata": {},
     "output_type": "execute_result"
    }
   ],
   "source": [
    "v.numpy()"
   ]
  },
  {
   "cell_type": "markdown",
   "id": "9723813b-2c7c-4068-a3ef-365978afa7d4",
   "metadata": {},
   "source": [
    "# Simple Optimization"
   ]
  },
  {
   "cell_type": "code",
   "execution_count": 6,
   "id": "7608157b-86ed-43cc-862b-a340548da254",
   "metadata": {},
   "outputs": [],
   "source": [
    "opt = tf.optimizers.SGD()"
   ]
  },
  {
   "cell_type": "code",
   "execution_count": 7,
   "id": "c580cb3d-90d7-4857-b62e-b12f48b19f0a",
   "metadata": {},
   "outputs": [],
   "source": [
    "with tf.GradientTape() as tape:\n",
    "    y = tf.tensordot(c,v,1) -1"
   ]
  },
  {
   "cell_type": "code",
   "execution_count": 8,
   "id": "59627950-09df-4478-b08b-1566aeeb8ee8",
   "metadata": {},
   "outputs": [
    {
     "data": {
      "text/plain": [
       "<tf.Tensor: shape=(2,), dtype=float32, numpy=array([-1.,  1.], dtype=float32)>"
      ]
     },
     "execution_count": 8,
     "metadata": {},
     "output_type": "execute_result"
    }
   ],
   "source": [
    "tape.gradient(y,v)"
   ]
  },
  {
   "cell_type": "code",
   "execution_count": 9,
   "id": "46c473f3-5be0-41fa-833d-b54f7c36cf34",
   "metadata": {},
   "outputs": [],
   "source": [
    "loss = lambda : tf.tensordot(c,v,1)**2 -1"
   ]
  },
  {
   "cell_type": "code",
   "execution_count": 10,
   "id": "dd709e4f-dbad-4842-a428-9c57ff86fbc7",
   "metadata": {},
   "outputs": [
    {
     "data": {
      "text/plain": [
       "<tf.Variable 'UnreadVariable' shape=() dtype=int64, numpy=1>"
      ]
     },
     "execution_count": 10,
     "metadata": {},
     "output_type": "execute_result"
    }
   ],
   "source": [
    "opt.minimize(loss, [v])"
   ]
  },
  {
   "cell_type": "code",
   "execution_count": 11,
   "id": "ccb18184-98c1-4383-b94e-6afcfa93157c",
   "metadata": {},
   "outputs": [],
   "source": [
    "v = tf.Variable([1.0, 2.0])\n",
    "var_vals, loss_vals = [], []\n",
    "for _ in range(100):\n",
    "    opt.minimize(loss, [v])\n",
    "    var_vals.append(v.numpy())\n",
    "    loss_vals.append(loss())"
   ]
  },
  {
   "cell_type": "code",
   "execution_count": 12,
   "id": "187e2f0a-a73a-470f-b4ec-0d80eec3fae0",
   "metadata": {},
   "outputs": [
    {
     "data": {
      "text/plain": [
       "[<matplotlib.lines.Line2D at 0x7f6b67a3c978>,\n",
       " <matplotlib.lines.Line2D at 0x7f6b67a3ca20>]"
      ]
     },
     "execution_count": 12,
     "metadata": {},
     "output_type": "execute_result"
    },
    {
     "data": {
      "image/png": "[encoded data removed]",
      "text/plain": [
       "<Figure size 432x288 with 1 Axes>"
      ]
     },
     "metadata": {
      "needs_background": "light"
     },
     "output_type": "display_data"
    }
   ],
   "source": [
    "import matplotlib.pyplot as plt\n",
    "plt.plot(var_vals)"
   ]
  },
  {
   "cell_type": "code",
   "execution_count": 13,
   "id": "6264682a-6d29-483d-b98d-779117d60a09",
   "metadata": {},
   "outputs": [
    {
     "data": {
      "text/plain": [
       "[<matplotlib.lines.Line2D at 0x7f6b679997b8>]"
      ]
     },
     "execution_count": 13,
     "metadata": {},
     "output_type": "execute_result"
    },
    {
     "data": {
      "image/png": "[encoded data removed]",
      "text/plain": [
       "<Figure size 432x288 with 1 Axes>"
      ]
     },
     "metadata": {
      "needs_background": "light"
     },
     "output_type": "display_data"
    }
   ],
   "source": [
    "plt.plot(loss_vals)"
   ]
  },
  {
   "cell_type": "markdown",
   "id": "14468f9a-efd8-48a8-920c-2ea7a03603a4",
   "metadata": {},
   "source": [
    "# Optimising an integral function\n",
    "# $\\max_a \\int_\\Omega dP(\\omega) f_\\omega(a)$\n",
    "# We can calculate the gradient as follows:\n",
    "# $\\nabla_a \\int_\\Omega dP(\\omega) f_\\omega(a) = \\int_\\Omega dP(\\omega) \\nabla_a f_\\omega(a)$\n",
    "# This is actually identical to the expected gradient:\n",
    "# $\\int_\\Omega dP(\\omega) [\\nabla_a f_\\omega(a)] = E_{\\omega \\sim P} [\\nabla_a f_\\omega(a)]$\n",
    "# Consequently,\n",
    "# $E_{\\omega \\sim P} [\\nabla_a f_\\omega(a)]  \\approx \\frac{1}{K} \\sum_{k=1}^K [\\nabla_a f_{\\omega^k}(a)]$ with $\\omega^k \\sim P$. \n",
    "# In addition\n",
    "# $E_{\\omega \\sim P} [\\nabla_a f_\\omega(a)] = E_{\\omega^{k} \\sim P} \\{ \\frac{1}{K} \\sum_{k=1}^K [\\nabla_a f_{\\omega^k}(a)] \\}$. "
   ]
  },
  {
   "cell_type": "code",
   "execution_count": 14,
   "id": "3f4839cc-3758-476b-a173-628ec1501182",
   "metadata": {},
   "outputs": [],
   "source": [
    "import tensorflow_probability as tfp\n",
    "tfd = tfp.distributions\n",
    "dist = tfd.Beta(2,2)\n"
   ]
  },
  {
   "cell_type": "code",
   "execution_count": 54,
   "id": "19f40577-c3c8-4497-9786-4e0c15d3454c",
   "metadata": {},
   "outputs": [
    {
     "data": {
      "text/plain": [
       "[<matplotlib.lines.Line2D at 0x7f6b652dd320>]"
      ]
     },
     "execution_count": 54,
     "metadata": {},
     "output_type": "execute_result"
    },
    {
     "data": {
      "image/png": "[encoded data removed]",
      "text/plain": [
       "<Figure size 432x288 with 1 Axes>"
      ]
     },
     "metadata": {
      "needs_background": "light"
     },
     "output_type": "display_data"
    }
   ],
   "source": [
    "import numpy as np\n",
    "v=tf.Variable(1.0)\n",
    "n_samples=1000\n",
    "omega = dist.sample([n_samples])  # Shape [4, 5, 3]\n",
    "loss = lambda : (sample - v)**2\n",
    "n_iter=int (1000 / n_samples)\n",
    "value = np.zeros(n_steps)\n",
    "n_steps = n_iter * n_samples\n",
    "value = np.zeros(n_steps)\n",
    "\n",
    "# Hand implementation of SGD\n",
    "t=0\n",
    "for _ in range(n_iter):\n",
    "    for i in range(n_samples):\n",
    "        sample = tf.Variable(omega[i])\n",
    "        step_count = opt.minimize(loss, [v]).numpy()\n",
    "        value[t] = v.numpy()\n",
    "        t+=1\n",
    "\n",
    "# Plot result\n",
    "import matplotlib.pyplot as plt\n",
    "plt.plot(value)"
   ]
  },
  {
   "cell_type": "code",
   "execution_count": 38,
   "id": "1d4c0d8d-43ba-48a9-957c-847b4eb218fb",
   "metadata": {},
   "outputs": [
    {
     "data": {
      "text/plain": [
       "array([0.49909645])"
      ]
     },
     "execution_count": 38,
     "metadata": {},
     "output_type": "execute_result"
    }
   ],
   "source": [
    "value"
   ]
  },
  {
   "cell_type": "code",
   "execution_count": null,
   "id": "399cb9b2-951e-411f-9819-e02f0a408a32",
   "metadata": {},
   "outputs": [],
   "source": [
    "?opt"
   ]
  },
  {
   "cell_type": "code",
   "execution_count": null,
   "id": "511bc937-36f5-4a1c-82ff-6bbcb33e347d",
   "metadata": {},
   "outputs": [],
   "source": []
  }
 ],
 "metadata": {
  "kernelspec": {
   "display_name": "Python 3",
   "language": "python",
   "name": "python3"
  },
  "language_info": {
   "codemirror_mode": {
    "name": "ipython",
    "version": 3
   },
   "file_extension": ".py",
   "mimetype": "text/x-python",
   "name": "python",
   "nbconvert_exporter": "python",
   "pygments_lexer": "ipython3",
   "version": "3.6.9"
  }
 },
 "nbformat": 4,
 "nbformat_minor": 5
}
