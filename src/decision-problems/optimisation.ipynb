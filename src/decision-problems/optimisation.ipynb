{
 "cells": [
  {
   "cell_type": "code",
   "execution_count": 1,
   "id": "b8939137-70eb-4f6d-84d4-b927828be8db",
   "metadata": {},
   "outputs": [],
   "source": [
    "import tensorflow as tf"
   ]
  },
  {
   "cell_type": "code",
   "execution_count": 43,
   "id": "b7af61fc-4b25-4813-a0e9-214a4398bab0",
   "metadata": {},
   "outputs": [],
   "source": [
    "c = tf.constant([-1.0,1.0])"
   ]
  },
  {
   "cell_type": "code",
   "execution_count": 44,
   "id": "4478922e-0943-4bb3-87ec-c6fa6e8a4de9",
   "metadata": {},
   "outputs": [],
   "source": [
    "v = tf.Variable([1.0, 2.0])"
   ]
  },
  {
   "cell_type": "code",
   "execution_count": 45,
   "id": "0ff60c45-b2ca-497d-b528-cf39fb8b2c1e",
   "metadata": {},
   "outputs": [
    {
     "data": {
      "text/plain": [
       "<tf.Variable 'Variable:0' shape=(2,) dtype=float32, numpy=array([1., 2.], dtype=float32)>"
      ]
     },
     "execution_count": 45,
     "metadata": {},
     "output_type": "execute_result"
    }
   ],
   "source": [
    "v"
   ]
  },
  {
   "cell_type": "code",
   "execution_count": 46,
   "id": "012fad2c-a734-4396-9af9-8be3f611d1f6",
   "metadata": {},
   "outputs": [
    {
     "data": {
      "text/plain": [
       "array([1., 2.], dtype=float32)"
      ]
     },
     "execution_count": 46,
     "metadata": {},
     "output_type": "execute_result"
    }
   ],
   "source": [
    "v.numpy()"
   ]
  },
  {
   "cell_type": "markdown",
   "id": "9723813b-2c7c-4068-a3ef-365978afa7d4",
   "metadata": {},
   "source": [
    "# Optimization"
   ]
  },
  {
   "cell_type": "code",
   "execution_count": 47,
   "id": "7608157b-86ed-43cc-862b-a340548da254",
   "metadata": {},
   "outputs": [],
   "source": [
    "opt = tf.optimizers.SGD()"
   ]
  },
  {
   "cell_type": "code",
   "execution_count": 48,
   "id": "c580cb3d-90d7-4857-b62e-b12f48b19f0a",
   "metadata": {},
   "outputs": [],
   "source": [
    "with tf.GradientTape() as tape:\n",
    "    y = tf.tensordot(c,v,1) -1"
   ]
  },
  {
   "cell_type": "code",
   "execution_count": 49,
   "id": "59627950-09df-4478-b08b-1566aeeb8ee8",
   "metadata": {},
   "outputs": [
    {
     "data": {
      "text/plain": [
       "<tf.Tensor: shape=(2,), dtype=float32, numpy=array([-1.,  1.], dtype=float32)>"
      ]
     },
     "execution_count": 49,
     "metadata": {},
     "output_type": "execute_result"
    }
   ],
   "source": [
    "tape.gradient(y,v)"
   ]
  },
  {
   "cell_type": "code",
   "execution_count": 50,
   "id": "46c473f3-5be0-41fa-833d-b54f7c36cf34",
   "metadata": {},
   "outputs": [],
   "source": [
    "loss = lambda : tf.tensordot(c,v,1)**2 -1"
   ]
  },
  {
   "cell_type": "code",
   "execution_count": 51,
   "id": "dd709e4f-dbad-4842-a428-9c57ff86fbc7",
   "metadata": {},
   "outputs": [
    {
     "data": {
      "text/plain": [
       "<tf.Variable 'UnreadVariable' shape=() dtype=int64, numpy=1>"
      ]
     },
     "execution_count": 51,
     "metadata": {},
     "output_type": "execute_result"
    }
   ],
   "source": [
    "opt.minimize(loss, [v])"
   ]
  },
  {
   "cell_type": "code",
   "execution_count": 59,
   "id": "ccb18184-98c1-4383-b94e-6afcfa93157c",
   "metadata": {},
   "outputs": [],
   "source": [
    "v = tf.Variable([1.0, 2.0])\n",
    "var_vals, loss_vals = [], []\n",
    "for _ in range(100):\n",
    "    opt.minimize(loss, [v])\n",
    "    var_vals.append(v.numpy())\n",
    "    loss_vals.append(loss())"
   ]
  },
  {
   "cell_type": "code",
   "execution_count": 60,
   "id": "187e2f0a-a73a-470f-b4ec-0d80eec3fae0",
   "metadata": {},
   "outputs": [
    {
     "data": {
      "text/plain": [
       "[<matplotlib.lines.Line2D at 0x7fc0af94e240>,\n",
       " <matplotlib.lines.Line2D at 0x7fc0af94e2b0>]"
      ]
     },
     "execution_count": 60,
     "metadata": {},
     "output_type": "execute_result"
    },
    {
     "data": {
      "image/png": "[encoded data removed]",
      "text/plain": [
       "<Figure size 432x288 with 1 Axes>"
      ]
     },
     "metadata": {
      "needs_background": "light"
     },
     "output_type": "display_data"
    }
   ],
   "source": [
    "import matplotlib.pyplot as plt\n",
    "plt.plot(var_vals)"
   ]
  },
  {
   "cell_type": "code",
   "execution_count": 61,
   "id": "6264682a-6d29-483d-b98d-779117d60a09",
   "metadata": {},
   "outputs": [
    {
     "data": {
      "text/plain": [
       "[<matplotlib.lines.Line2D at 0x7fc0af8b50f0>]"
      ]
     },
     "execution_count": 61,
     "metadata": {},
     "output_type": "execute_result"
    },
    {
     "data": {
      "image/png": "[encoded data removed]",
      "text/plain": [
       "<Figure size 432x288 with 1 Axes>"
      ]
     },
     "metadata": {
      "needs_background": "light"
     },
     "output_type": "display_data"
    }
   ],
   "source": [
    "plt.plot(loss_vals)"
   ]
  },
  {
   "cell_type": "markdown",
   "id": "14468f9a-efd8-48a8-920c-2ea7a03603a4",
   "metadata": {},
   "source": [
    "# Datasets\n"
   ]
  },
  {
   "cell_type": "code",
   "execution_count": 63,
   "id": "3f4839cc-3758-476b-a173-628ec1501182",
   "metadata": {},
   "outputs": [
    {
     "ename": "TypeError",
     "evalue": "from_tensor_slices() takes 1 positional argument but 2 were given",
     "output_type": "error",
     "traceback": [
      "\u001b[0;31m---------------------------------------------------------------------\u001b[0m",
      "\u001b[0;31mTypeError\u001b[0m                           Traceback (most recent call last)",
      "\u001b[0;32m<ipython-input-63-35f4be5e70aa>\u001b[0m in \u001b[0;36m<module>\u001b[0;34m\u001b[0m\n\u001b[0;32m----> 1\u001b[0;31m \u001b[0mds\u001b[0m \u001b[0;34m=\u001b[0m \u001b[0mtf\u001b[0m\u001b[0;34m.\u001b[0m\u001b[0mdata\u001b[0m\u001b[0;34m.\u001b[0m\u001b[0mDataset\u001b[0m\u001b[0;34m.\u001b[0m\u001b[0mfrom_tensor_slices\u001b[0m\u001b[0;34m(\u001b[0m\u001b[0;34m[\u001b[0m\u001b[0;36m1\u001b[0m\u001b[0;34m,\u001b[0m\u001b[0;36m2\u001b[0m\u001b[0;34m]\u001b[0m\u001b[0;34m,\u001b[0m\u001b[0;34m[\u001b[0m\u001b[0;36m3\u001b[0m\u001b[0;34m,\u001b[0m\u001b[0;36m4\u001b[0m\u001b[0;34m]\u001b[0m\u001b[0;34m)\u001b[0m\u001b[0;34m\u001b[0m\u001b[0;34m\u001b[0m\u001b[0m\n\u001b[0m",
      "\u001b[0;31mTypeError\u001b[0m: from_tensor_slices() takes 1 positional argument but 2 were given"
     ]
    }
   ],
   "source": [
    "ds = tf.data.Dataset.from_tensor_slices([1,2],[3,4])"
   ]
  },
  {
   "cell_type": "code",
   "execution_count": null,
   "id": "775b313f-f837-4be5-b621-f219127347ac",
   "metadata": {},
   "outputs": [],
   "source": []
  }
 ],
 "metadata": {
  "kernelspec": {
   "display_name": "Python 3",
   "language": "python",
   "name": "python3"
  },
  "language_info": {
   "codemirror_mode": {
    "name": "ipython",
    "version": 3
   },
   "file_extension": ".py",
   "mimetype": "text/x-python",
   "name": "python",
   "nbconvert_exporter": "python",
   "pygments_lexer": "ipython3",
   "version": "3.6.9"
  }
 },
 "nbformat": 4,
 "nbformat_minor": 5
}
