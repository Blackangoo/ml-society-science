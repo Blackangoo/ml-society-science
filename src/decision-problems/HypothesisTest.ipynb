{
 "cells": [
  {
   "cell_type": "code",
   "execution_count": 7,
   "id": "af00f972-38ae-4d2e-bdf9-427662d4418b",
   "metadata": {},
   "outputs": [],
   "source": [
    "import numpy as np\n",
    "import scipy.stats as stats"
   ]
  },
  {
   "cell_type": "code",
   "execution_count": 12,
   "id": "5a416a44-5f02-4488-802d-69fa49eb6ac6",
   "metadata": {},
   "outputs": [],
   "source": [
    "coin_bias = 0.5 # the probability of heads\n",
    "n_trials = 10 # number of trials\n",
    "n_experiments = 100 # experiments to test the rule\n",
    "for experiment in range(n_experiments):\n",
    "    data = stats.bernoulli.rvs(coin_bias, size=n_trials)\n",
    "    n_succeses = sum(data)\n",
    "    # do a binomial test\n",
    "    # stats.binom_test(x=n_succeses, n=n_trials, p=0.5)\n",
    "    "
   ]
  },
  {
   "cell_type": "code",
   "execution_count": null,
   "id": "d2ee6c7e-52c0-4aff-bb9d-ccd437704a37",
   "metadata": {},
   "outputs": [],
   "source": [
    "# stats.binom_test(x=n_succeses, n=n_trials, p=0.5)"
   ]
  }
 ],
 "metadata": {
  "kernelspec": {
   "display_name": "Python 3",
   "language": "python",
   "name": "python3"
  },
  "language_info": {
   "codemirror_mode": {
    "name": "ipython",
    "version": 3
   },
   "file_extension": ".py",
   "mimetype": "text/x-python",
   "name": "python",
   "nbconvert_exporter": "python",
   "pygments_lexer": "ipython3",
   "version": "3.6.9"
  }
 },
 "nbformat": 4,
 "nbformat_minor": 5
}
