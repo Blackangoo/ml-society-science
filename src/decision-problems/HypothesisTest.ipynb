{
 "cells": [
  {
   "cell_type": "code",
   "execution_count": 79,
   "id": "af00f972-38ae-4d2e-bdf9-427662d4418b",
   "metadata": {},
   "outputs": [],
   "source": [
    "import numpy as np\n",
    "import scipy.stats as stats\n",
    "import matplotlib.pyplot as plt"
   ]
  },
  {
   "cell_type": "code",
   "execution_count": 139,
   "id": "5a416a44-5f02-4488-802d-69fa49eb6ac6",
   "metadata": {},
   "outputs": [
    {
     "name": "stdout",
     "output_type": "stream",
     "text": [
      "53.0 47.0\n",
      "0.993\n"
     ]
    }
   ],
   "source": [
    "coin_bias = 0.7 # the probability of heads\n",
    "n_trials = 100 # number of trials\n",
    "## Set some threshold delta\n",
    "n_experiments = 1000 # experiments to test the rule\n",
    "count = 0\n",
    "delta = 0.5\n",
    "statistics = np.zeros(n_experiments)\n",
    "thetas = np.zeros(n_experiments)\n",
    "upper_bound = stats.binom.ppf(q = 0.5 + (1-delta)/2, n=n_trials, p=0.5)\n",
    "lower_bound = stats.binom.ppf(q = 0.5 - (1-delta)/2, n=n_trials, p=0.5)\n",
    "print(upper_bound, lower_bound)\n",
    "prior = 1/2\n",
    "for experiment in range(n_experiments):\n",
    "    data = stats.bernoulli.rvs(coin_bias, size=n_trials)\n",
    "    n_succeses = sum(data)\n",
    "    # do a binomial test: This is our decision rule\n",
    "    log_P_mu0 = 0\n",
    "    log_P_mu1 = 0\n",
    "    alpha = 2;\n",
    "    beta = 1;\n",
    "    for t in range(n_trials):\n",
    "        marginal = alpha/(alpha + beta)\n",
    "        log_P_mu0 += np.log(1/2)\n",
    "        log_P_mu1 += np.log(marginal)* data[t] + np.log(1 - marginal)*(1 - data[t])\n",
    "    P_mu0 = np.exp(log_P_mu0)\n",
    "    P_mu1 = np.exp(log_P_mu1)\n",
    "    posterior_mu0 = P_mu0 / (P_mu0 + P_mu1)\n",
    "    #print(P_mu0, P_mu1, posterior_mu0)\n",
    "    phi = stats.binom_test(x=n_succeses, n=n_trials, p=0.5)\n",
    "    thetas[experiment] = n_succeses / n_trials\n",
    "    statistics[experiment] = posterior_mu0\n",
    "    if (posterior_mu0 <= delta):\n",
    "        # Here we decide that coin_bias != 0.5, i.e. mu1 is true\n",
    "        #assert(n_succeses > upper_bound or n_succeses < lower_bound)\n",
    "        count+=1 \n",
    "print(count / n_experiments)"
   ]
  },
  {
   "cell_type": "code",
   "execution_count": 114,
   "id": "d2ee6c7e-52c0-4aff-bb9d-ccd437704a37",
   "metadata": {},
   "outputs": [],
   "source": [
    "# stats.binom_test(x=n_succeses, n=n_trials, p=0.5)"
   ]
  },
  {
   "cell_type": "code",
   "execution_count": 134,
   "id": "030f2267-c2ff-406a-835c-d21d33fbd6d0",
   "metadata": {},
   "outputs": [
    {
     "data": {
      "text/plain": [
       "(array([  1.,   0.,   0.,   0.,   0.,   0.,   0.,   0.,   0., 999.]),\n",
       " array([1., 1., 1., 1., 1., 1., 1., 1., 1., 1., 1.]),\n",
       " <BarContainer object of 10 artists>)"
      ]
     },
     "execution_count": 134,
     "metadata": {},
     "output_type": "execute_result"
    },
    {
     "data": {
      "image/png": "[encoded data removed]",
      "text/plain": [
       "<Figure size 432x288 with 1 Axes>"
      ]
     },
     "metadata": {
      "needs_background": "light"
     },
     "output_type": "display_data"
    }
   ],
   "source": [
    "plt.hist(statistics)"
   ]
  },
  {
   "cell_type": "code",
   "execution_count": null,
   "id": "a0b854c7-5304-4b38-88f3-b2428faba094",
   "metadata": {},
   "outputs": [],
   "source": []
  }
 ],
 "metadata": {
  "kernelspec": {
   "display_name": "Python 3",
   "language": "python",
   "name": "python3"
  },
  "language_info": {
   "codemirror_mode": {
    "name": "ipython",
    "version": 3
   },
   "file_extension": ".py",
   "mimetype": "text/x-python",
   "name": "python",
   "nbconvert_exporter": "python",
   "pygments_lexer": "ipython3",
   "version": "3.6.9"
  }
 },
 "nbformat": 4,
 "nbformat_minor": 5
}
