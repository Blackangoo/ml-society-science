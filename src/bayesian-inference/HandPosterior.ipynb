{
 "cells": [
  {
   "cell_type": "markdown",
   "id": "59fea45b-3ce3-4928-8b2e-15d771e9797f",
   "metadata": {},
   "source": [
    "# Simple posteriors \n"
   ]
  },
  {
   "cell_type": "code",
   "execution_count": 32,
   "id": "67be00a2-a141-46dd-a67a-cf6c0d8435d1",
   "metadata": {},
   "outputs": [],
   "source": [
    "import tensorflow as tf\n",
    "import tensorflow_probability as tfp\n",
    "import numpy as np"
   ]
  },
  {
   "cell_type": "code",
   "execution_count": 33,
   "id": "ef720aed-cd1c-40d4-b6bf-b084c0d834e9",
   "metadata": {},
   "outputs": [],
   "source": [
    "tfd = tfp.distributions"
   ]
  },
  {
   "cell_type": "code",
   "execution_count": 34,
   "id": "32ae125e-0a57-4fa0-abd2-7addf255ac09",
   "metadata": {},
   "outputs": [],
   "source": [
    "generator = tfd.Binomial(total_count=60, probs = 0.6)"
   ]
  },
  {
   "cell_type": "code",
   "execution_count": 35,
   "id": "bb458e76-12f9-41e1-b230-1c7aa78f0ebd",
   "metadata": {},
   "outputs": [],
   "source": [
    "sample = generator.sample(1)"
   ]
  },
  {
   "cell_type": "code",
   "execution_count": 36,
   "id": "af4c085c-7d20-4d5c-90d1-1aa43796d818",
   "metadata": {},
   "outputs": [
    {
     "data": {
      "text/plain": [
       "array([35.], dtype=float32)"
      ]
     },
     "execution_count": 36,
     "metadata": {},
     "output_type": "execute_result"
    }
   ],
   "source": [
    "sample.numpy()"
   ]
  },
  {
   "cell_type": "code",
   "execution_count": 37,
   "id": "6129f60d-9202-4821-8520-2397dad88e80",
   "metadata": {},
   "outputs": [],
   "source": [
    "# Uniform prior"
   ]
  },
  {
   "cell_type": "code",
   "execution_count": 73,
   "id": "9844a8f1-e21c-461e-b078-fd80952f3a6b",
   "metadata": {},
   "outputs": [],
   "source": [
    "n_points = 100\n",
    "thetas = tf.linspace(start = 0.0, stop = 1.0, num=n_points)\n",
    "prior = tf.ones(n_points)/n_points"
   ]
  },
  {
   "cell_type": "code",
   "execution_count": 74,
   "id": "d8edd026-0569-4f93-8a17-38a1f73ec919",
   "metadata": {},
   "outputs": [],
   "source": [
    "models = tfd.Binomial(total_count = 60, probs = thetas)"
   ]
  },
  {
   "cell_type": "code",
   "execution_count": 75,
   "id": "8ccac722-ff57-46db-8690-d65b44bdc4d0",
   "metadata": {},
   "outputs": [
    {
     "data": {
      "text/plain": [
       "<tf.Tensor: shape=(100,), dtype=float32, numpy=\n",
       "array([0.00000000e+00, 0.00000000e+00, 0.00000000e+00, 0.00000000e+00,\n",
       "       1.91455428e-33, 3.62263210e-30, 1.63774130e-27, 2.75425756e-25,\n",
       "       2.24420893e-23, 1.05058138e-21, 3.17416828e-20, 6.72497476e-19,\n",
       "       1.06218924e-17, 1.31025396e-16, 1.30868115e-15, 1.08907778e-14,\n",
       "       7.72734809e-14, 4.76360867e-13, 2.59146198e-12, 1.26038919e-11,\n",
       "       5.54121332e-11, 2.22289742e-10, 8.20239210e-10, 2.80346502e-09,\n",
       "       8.92905927e-09, 2.66424038e-08, 7.48197309e-08, 1.98574341e-07,\n",
       "       4.99882788e-07, 1.19746051e-06, 2.73748287e-06, 5.98770248e-06,\n",
       "       1.25602528e-05, 2.53201015e-05, 4.91444807e-05, 9.19941813e-05,\n",
       "       1.66334197e-04, 2.90892931e-04, 4.92663239e-04, 8.08949582e-04,\n",
       "       1.28907838e-03, 1.99532229e-03, 3.00244940e-03, 4.39516595e-03,\n",
       "       6.26311079e-03, 8.69281497e-03, 1.17570944e-02, 1.55020570e-02,\n",
       "       1.99332256e-02, 2.50030123e-02, 3.06006931e-02, 3.65481712e-02,\n",
       "       4.26031649e-02, 4.84709404e-02, 5.38238175e-02, 5.83298914e-02,\n",
       "       6.16838969e-02, 6.36402518e-02, 6.40406162e-02, 6.28347918e-02,\n",
       "       6.00881130e-02, 5.59773110e-02, 5.07727042e-02, 4.48086336e-02,\n",
       "       3.84485461e-02, 3.20494398e-02, 2.59278081e-02, 2.03351360e-02,\n",
       "       1.54430931e-02, 1.13404226e-02, 8.04009195e-03, 5.49379503e-03,\n",
       "       3.61087127e-03, 2.27778265e-03, 1.37559720e-03, 7.93057960e-04,\n",
       "       4.35062480e-04, 2.26266930e-04, 1.11089408e-04, 5.12364713e-05,\n",
       "       2.20733800e-05, 8.82403674e-06, 3.24779194e-06, 1.09046243e-06,\n",
       "       3.30319182e-07, 8.90725786e-08, 2.10333901e-08, 4.26169899e-09,\n",
       "       7.22088056e-10, 9.89759386e-11, 1.05057863e-11, 8.13916968e-13,\n",
       "       4.23549813e-14, 1.31087962e-15, 1.99804253e-17, 1.09319996e-19,\n",
       "       1.18685019e-22, 6.75544195e-27, 2.88270429e-34, 0.00000000e+00],\n",
       "      dtype=float32)>"
      ]
     },
     "execution_count": 75,
     "metadata": {},
     "output_type": "execute_result"
    }
   ],
   "source": [
    "likelihood = models.prob(sample)\n",
    "posterior = prior * likelihood\n",
    "posterior /= tf.reduce_sum(posterior)\n",
    "posterior"
   ]
  },
  {
   "cell_type": "code",
   "execution_count": 76,
   "id": "e19afadf-b20f-4422-8332-42df5be5e4e3",
   "metadata": {},
   "outputs": [],
   "source": [
    "import matplotlib.pyplot as plt"
   ]
  },
  {
   "cell_type": "code",
   "execution_count": 77,
   "id": "41443348-d3da-4bbf-bfef-bcbb4f010e2f",
   "metadata": {},
   "outputs": [
    {
     "data": {
      "text/plain": [
       "[<matplotlib.lines.Line2D at 0x7f9bfe4c3ef0>]"
      ]
     },
     "execution_count": 77,
     "metadata": {},
     "output_type": "execute_result"
    },
    {
     "data": {
      "image/png": "[encoded data removed]",
      "text/plain": [
       "<Figure size 432x288 with 1 Axes>"
      ]
     },
     "metadata": {
      "needs_background": "light"
     },
     "output_type": "display_data"
    }
   ],
   "source": [
    "plt.plot(thetas, posterior)"
   ]
  },
  {
   "cell_type": "code",
   "execution_count": 85,
   "id": "ebc36b15-fe9c-40fb-a9be-d6975be09641",
   "metadata": {},
   "outputs": [
    {
     "data": {
      "text/plain": [
       "[<matplotlib.lines.Line2D at 0x7f9bcfe04b38>]"
      ]
     },
     "execution_count": 85,
     "metadata": {},
     "output_type": "execute_result"
    },
    {
     "data": {
      "image/png": "[encoded data removed]",
      "text/plain": [
       "<Figure size 432x288 with 1 Axes>"
      ]
     },
     "metadata": {
      "needs_background": "light"
     },
     "output_type": "display_data"
    }
   ],
   "source": [
    "import scipy.stats\n",
    "plt.plot(thetas, scipy.stats.beta.pdf(thetas, 1 + sample, 1 + 60 - sample))"
   ]
  },
  {
   "cell_type": "code",
   "execution_count": null,
   "id": "7d95dc15-b107-4840-bdb4-03c77ab88dec",
   "metadata": {},
   "outputs": [],
   "source": []
  }
 ],
 "metadata": {
  "kernelspec": {
   "display_name": "Python 3",
   "language": "python",
   "name": "python3"
  },
  "language_info": {
   "codemirror_mode": {
    "name": "ipython",
    "version": 3
   },
   "file_extension": ".py",
   "mimetype": "text/x-python",
   "name": "python",
   "nbconvert_exporter": "python",
   "pygments_lexer": "ipython3",
   "version": "3.6.9"
  }
 },
 "nbformat": 4,
 "nbformat_minor": 5
}
