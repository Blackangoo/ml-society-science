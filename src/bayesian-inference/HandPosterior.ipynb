{
 "cells": [
  {
   "cell_type": "markdown",
   "id": "59fea45b-3ce3-4928-8b2e-15d771e9797f",
   "metadata": {},
   "source": [
    "# Simple posteriors \n"
   ]
  },
  {
   "cell_type": "code",
   "execution_count": 1,
   "id": "67be00a2-a141-46dd-a67a-cf6c0d8435d1",
   "metadata": {},
   "outputs": [],
   "source": [
    "import tensorflow as tf\n",
    "import tensorflow_probability as tfp\n",
    "import numpy as np"
   ]
  },
  {
   "cell_type": "code",
   "execution_count": 2,
   "id": "ef720aed-cd1c-40d4-b6bf-b084c0d834e9",
   "metadata": {},
   "outputs": [],
   "source": [
    "tfd = tfp.distributions"
   ]
  },
  {
   "cell_type": "code",
   "execution_count": 3,
   "id": "32ae125e-0a57-4fa0-abd2-7addf255ac09",
   "metadata": {},
   "outputs": [],
   "source": [
    "generator = tfd.Binomial(total_count=60, probs = 0.6)"
   ]
  },
  {
   "cell_type": "code",
   "execution_count": 4,
   "id": "bb458e76-12f9-41e1-b230-1c7aa78f0ebd",
   "metadata": {},
   "outputs": [],
   "source": [
    "sample = generator.sample(1)"
   ]
  },
  {
   "cell_type": "code",
   "execution_count": 5,
   "id": "af4c085c-7d20-4d5c-90d1-1aa43796d818",
   "metadata": {},
   "outputs": [
    {
     "data": {
      "text/plain": [
       "array([40.], dtype=float32)"
      ]
     },
     "execution_count": 5,
     "metadata": {},
     "output_type": "execute_result"
    }
   ],
   "source": [
    "sample.numpy()"
   ]
  },
  {
   "cell_type": "code",
   "execution_count": 6,
   "id": "6129f60d-9202-4821-8520-2397dad88e80",
   "metadata": {},
   "outputs": [],
   "source": [
    "# Uniform prior"
   ]
  },
  {
   "cell_type": "code",
   "execution_count": 7,
   "id": "9844a8f1-e21c-461e-b078-fd80952f3a6b",
   "metadata": {},
   "outputs": [],
   "source": [
    "n_points = 100\n",
    "thetas = tf.linspace(start = 0.0, stop = 1.0, num=n_points)\n",
    "prior = tf.ones(n_points)/n_points"
   ]
  },
  {
   "cell_type": "code",
   "execution_count": 8,
   "id": "d8edd026-0569-4f93-8a17-38a1f73ec919",
   "metadata": {},
   "outputs": [],
   "source": [
    "models = tfd.Binomial(total_count = 60, probs = thetas)"
   ]
  },
  {
   "cell_type": "code",
   "execution_count": 9,
   "id": "8ccac722-ff57-46db-8690-d65b44bdc4d0",
   "metadata": {},
   "outputs": [
    {
     "data": {
      "text/plain": [
       "<tf.Tensor: shape=(100,), dtype=float32, numpy=\n",
       "array([0.0000000e+00, 0.0000000e+00, 0.0000000e+00, 0.0000000e+00,\n",
       "       0.0000000e+00, 0.0000000e+00, 1.4780828e-34, 5.6710497e-32,\n",
       "       9.5151449e-30, 8.4827344e-28, 4.5897333e-26, 1.6571013e-24,\n",
       "       4.2817492e-23, 8.3501010e-22, 1.2808238e-20, 1.5967079e-19,\n",
       "       1.6609288e-18, 1.4730690e-17, 1.1339444e-16, 7.6900909e-16,\n",
       "       4.6529582e-15, 2.5389455e-14, 1.2609855e-13, 5.7461018e-13,\n",
       "       2.4191534e-12, 9.4672230e-12, 3.4624116e-11, 1.1890203e-10,\n",
       "       3.8501263e-10, 1.1799660e-09, 3.4341603e-09, 9.5199306e-09,\n",
       "       2.5204832e-08, 6.3888720e-08, 1.5538623e-07, 3.6333620e-07,\n",
       "       8.1827568e-07, 1.7778266e-06, 3.7318775e-06, 7.5787375e-06,\n",
       "       1.4908291e-05, 2.8438117e-05, 5.2657255e-05, 9.4730021e-05,\n",
       "       1.6571056e-04, 2.8207462e-04, 4.6754026e-04, 7.5504067e-04,\n",
       "       1.1886164e-03, 1.8248697e-03, 2.7334408e-03, 3.9959443e-03,\n",
       "       5.7026986e-03, 7.9465816e-03, 1.0814061e-02, 1.4373052e-02,\n",
       "       1.8658526e-02, 2.3657415e-02, 2.9294470e-02, 3.5421710e-02,\n",
       "       4.1814744e-02, 4.8178438e-02, 5.4161452e-02, 5.9382696e-02,\n",
       "       6.3466974e-02, 6.6084646e-02, 6.6992305e-02, 6.6066243e-02,\n",
       "       6.3325502e-02, 5.8935411e-02, 5.3194981e-02, 4.6503097e-02,\n",
       "       3.9315496e-02, 3.2089967e-02, 2.5238197e-02, 1.9083738e-02,\n",
       "       1.3838468e-02, 9.5955776e-03, 6.3409833e-03, 3.9780890e-03,\n",
       "       2.3586308e-03, 1.3147402e-03, 6.8473216e-04, 3.3075880e-04,\n",
       "       1.4688703e-04, 5.9334598e-05, 2.1517622e-05, 6.8925997e-06,\n",
       "       1.9105044e-06, 4.4626040e-07, 8.4827569e-08, 1.2515432e-08,\n",
       "       1.3411069e-09, 9.4695758e-11, 3.7888130e-12, 6.6700185e-14,\n",
       "       3.2155295e-16, 1.4637577e-19, 2.1039571e-25, 0.0000000e+00],\n",
       "      dtype=float32)>"
      ]
     },
     "execution_count": 9,
     "metadata": {},
     "output_type": "execute_result"
    }
   ],
   "source": [
    "likelihood = models.prob(sample)\n",
    "posterior = prior * likelihood\n",
    "posterior /= tf.reduce_sum(posterior)\n",
    "posterior"
   ]
  },
  {
   "cell_type": "code",
   "execution_count": 10,
   "id": "e19afadf-b20f-4422-8332-42df5be5e4e3",
   "metadata": {},
   "outputs": [],
   "source": [
    "import matplotlib.pyplot as plt"
   ]
  },
  {
   "cell_type": "code",
   "execution_count": 11,
   "id": "41443348-d3da-4bbf-bfef-bcbb4f010e2f",
   "metadata": {},
   "outputs": [
    {
     "data": {
      "text/plain": [
       "[<matplotlib.lines.Line2D at 0x7f657c38b828>]"
      ]
     },
     "execution_count": 11,
     "metadata": {},
     "output_type": "execute_result"
    },
    {
     "data": {
      "image/png": "[encoded data removed]",
      "text/plain": [
       "<Figure size 432x288 with 1 Axes>"
      ]
     },
     "metadata": {
      "needs_background": "light"
     },
     "output_type": "display_data"
    }
   ],
   "source": [
    "plt.plot(thetas, posterior)"
   ]
  },
  {
   "cell_type": "code",
   "execution_count": 12,
   "id": "ebc36b15-fe9c-40fb-a9be-d6975be09641",
   "metadata": {},
   "outputs": [
    {
     "data": {
      "text/plain": [
       "[<matplotlib.lines.Line2D at 0x7f65528bbac8>]"
      ]
     },
     "execution_count": 12,
     "metadata": {},
     "output_type": "execute_result"
    },
    {
     "data": {
      "image/png": "[encoded data removed]",
      "text/plain": [
       "<Figure size 432x288 with 1 Axes>"
      ]
     },
     "metadata": {
      "needs_background": "light"
     },
     "output_type": "display_data"
    }
   ],
   "source": [
    "import scipy.stats\n",
    "plt.plot(thetas, scipy.stats.beta.pdf(thetas, 1 + sample, 1 + 60 - sample))"
   ]
  },
  {
   "cell_type": "code",
   "execution_count": null,
   "id": "7d95dc15-b107-4840-bdb4-03c77ab88dec",
   "metadata": {},
   "outputs": [],
   "source": []
  }
 ],
 "metadata": {
  "kernelspec": {
   "display_name": "Python 3",
   "language": "python",
   "name": "python3"
  },
  "language_info": {
   "codemirror_mode": {
    "name": "ipython",
    "version": 3
   },
   "file_extension": ".py",
   "mimetype": "text/x-python",
   "name": "python",
   "nbconvert_exporter": "python",
   "pygments_lexer": "ipython3",
   "version": "3.6.9"
  }
 },
 "nbformat": 4,
 "nbformat_minor": 5
}
