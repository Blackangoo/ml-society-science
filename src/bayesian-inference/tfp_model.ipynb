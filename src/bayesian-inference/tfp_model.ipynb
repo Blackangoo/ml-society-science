{
 "cells": [
  {
   "cell_type": "code",
   "execution_count": 1,
   "id": "8058515f-bf97-4885-9709-e0bfdf274151",
   "metadata": {},
   "outputs": [],
   "source": [
    "import pandas\n",
    "import numpy as np"
   ]
  },
  {
   "cell_type": "code",
   "execution_count": 2,
   "id": "bf7414a7-abf0-462f-b823-68f2f8a8910e",
   "metadata": {},
   "outputs": [],
   "source": [
    "?pandas.DataFrame"
   ]
  },
  {
   "cell_type": "code",
   "execution_count": 3,
   "id": "a952bfb9-805f-4085-bdf8-d1f7cfc88e49",
   "metadata": {},
   "outputs": [],
   "source": [
    "n_years = 10\n",
    "data = np.zeros([n_years,3])\n",
    "data[:,0] = range(2000, 2000+n_years)\n",
    "for i in range(n_years):\n",
    "    data[i,1] = i + np.random.exponential()\n",
    "    data[i,2] = 10.0/(1.0+i) + np.random.exponential()"
   ]
  },
  {
   "cell_type": "code",
   "execution_count": 4,
   "id": "3784e787-a0d4-4703-ae65-8c4eeb2a5533",
   "metadata": {},
   "outputs": [],
   "source": [
    "df = pandas.DataFrame(data,\n",
    "                    columns=['year', 'incidents', 'volume'])"
   ]
  },
  {
   "cell_type": "code",
   "execution_count": 5,
   "id": "3fd8c617-5178-4283-8a18-d891e7e61744",
   "metadata": {},
   "outputs": [
    {
     "data": {
      "text/plain": [
       "<matplotlib.axes._subplots.AxesSubplot at 0x7f6f798d37f0>"
      ]
     },
     "execution_count": 5,
     "metadata": {},
     "output_type": "execute_result"
    }
   ],
   "source": [
    "df['incidents'].plot()"
   ]
  },
  {
   "cell_type": "code",
   "execution_count": 6,
   "id": "910a50b5-078b-4a3e-aa6b-a101a029ff8d",
   "metadata": {},
   "outputs": [
    {
     "data": {
      "text/plain": [
       "<matplotlib.axes._subplots.AxesSubplot at 0x7f6f7177b128>"
      ]
     },
     "execution_count": 6,
     "metadata": {},
     "output_type": "execute_result"
    },
    {
     "data": {
      "image/png": "[encoded data removed]",
      "text/plain": [
       "<Figure size 432x288 with 1 Axes>"
      ]
     },
     "metadata": {
      "needs_background": "light"
     },
     "output_type": "display_data"
    }
   ],
   "source": [
    "df['volume'].plot()"
   ]
  },
  {
   "cell_type": "code",
   "execution_count": 8,
   "id": "a2c579e1-6669-4fa0-8074-557aa9c53e81",
   "metadata": {},
   "outputs": [],
   "source": [
    "import tensorflow as tf\n",
    "import tensorflow_probability as tfp\n",
    "tfd = tfp.distributions"
   ]
  },
  {
   "cell_type": "code",
   "execution_count": null,
   "id": "c5726896-1867-4ff8-b8b5-ca8b14a44cca",
   "metadata": {},
   "outputs": [],
   "source": []
  }
 ],
 "metadata": {
  "kernelspec": {
   "display_name": "Python 3",
   "language": "python",
   "name": "python3"
  },
  "language_info": {
   "codemirror_mode": {
    "name": "ipython",
    "version": 3
   },
   "file_extension": ".py",
   "mimetype": "text/x-python",
   "name": "python",
   "nbconvert_exporter": "python",
   "pygments_lexer": "ipython3",
   "version": "3.7.3"
  }
 },
 "nbformat": 4,
 "nbformat_minor": 5
}
