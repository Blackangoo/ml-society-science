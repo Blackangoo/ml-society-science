{
 "cells": [
  {
   "cell_type": "code",
   "execution_count": 1,
   "metadata": {},
   "outputs": [],
   "source": [
    "from pprint import pprint\n",
    "import matplotlib.pyplot as plt\n",
    "import numpy as np\n",
    "import seaborn as sns\n",
    "\n",
    "import tensorflow.compat.v2 as tf\n",
    "tf.enable_v2_behavior()\n",
    "import tensorflow_probability as tfp\n",
    "\n",
    "sns.reset_defaults()\n",
    "sns.set_context(context='talk',font_scale=0.7)\n",
    "plt.rcParams['image.cmap'] = 'viridis'\n",
    "\n",
    "tfd = tfp.distributions\n",
    "tfb = tfp.bijectors\n"
   ]
  },
  {
   "cell_type": "code",
   "execution_count": 2,
   "metadata": {},
   "outputs": [],
   "source": [
    "#@title Utils { display-mode: \"form\" }\n",
    "def print_subclasses_from_module(module, base_class, maxwidth=80):\n",
    "  import functools, inspect, sys\n",
    "  subclasses = [name for name, obj in inspect.getmembers(module)\n",
    "                if inspect.isclass(obj) and issubclass(obj, base_class)]\n",
    "  def red(acc, x):\n",
    "    if not acc or len(acc[-1]) + len(x) + 2 > maxwidth:\n",
    "      acc.append(x)\n",
    "    else:\n",
    "      acc[-1] += \", \" + x\n",
    "    return acc\n",
    "  print('\\n'.join(functools.reduce(red, subclasses, [])))\n"
   ]
  },
  {
   "cell_type": "code",
   "execution_count": 3,
   "metadata": {},
   "outputs": [
    {
     "name": "stdout",
     "output_type": "stream",
     "text": [
      "326 ms ± 3.59 ms per loop (mean ± std. dev. of 7 runs, 1 loop each)\n",
      "391 µs ± 34.3 µs per loop (mean ± std. dev. of 7 runs, 1000 loops each)\n"
     ]
    }
   ],
   "source": [
    "# Tensorflow\n",
    "\n",
    "mats = tf.random.uniform(shape=[1000, 10, 10])\n",
    "vecs = tf.random.uniform(shape=[1000, 10, 1])\n",
    "\n",
    "def for_loop_solve():\n",
    "  return np.array(\n",
    "    [tf.linalg.solve(mats[i, ...], vecs[i, ...]) for i in range(1000)])\n",
    "\n",
    "def vectorized_solve():\n",
    "  return tf.linalg.solve(mats, vecs)\n",
    "\n",
    "# Vectorization for the win!\n",
    "%timeit for_loop_solve()\n",
    "%timeit vectorized_solve()\n"
   ]
  },
  {
   "cell_type": "code",
   "execution_count": 4,
   "metadata": {},
   "outputs": [
    {
     "name": "stdout",
     "output_type": "stream",
     "text": [
      "Using a CPU\n"
     ]
    }
   ],
   "source": [
    "# Code can run seamlessly on a GPU, just change Colab runtime type\n",
    "# in the 'Runtime' menu.\n",
    "if tf.test.gpu_device_name() == '/device:GPU:0':\n",
    "  print(\"Using a GPU\")\n",
    "else:\n",
    "  print(\"Using a CPU\")\n"
   ]
  },
  {
   "cell_type": "code",
   "execution_count": 5,
   "metadata": {},
   "outputs": [
    {
     "name": "stdout",
     "output_type": "stream",
     "text": [
      "tf.Tensor(3.1415927, shape=(), dtype=float32)\n",
      "tf.Tensor(2.7182817, shape=(), dtype=float32)\n"
     ]
    }
   ],
   "source": [
    "# Differentiation\n",
    "a = tf.constant(np.pi)\n",
    "b = tf.constant(np.e)\n",
    "with tf.GradientTape() as tape:\n",
    "  tape.watch([a, b])\n",
    "  c = .5 * (a**2 + b**2)\n",
    "grads = tape.gradient(c, [a, b])\n",
    "print(grads[0])\n",
    "print(grads[1])\n"
   ]
  },
  {
   "cell_type": "code",
   "execution_count": 6,
   "metadata": {},
   "outputs": [],
   "source": [
    "# PRobability"
   ]
  },
  {
   "cell_type": "code",
   "execution_count": 7,
   "metadata": {},
   "outputs": [
    {
     "name": "stdout",
     "output_type": "stream",
     "text": [
      "tfp.distributions.Normal(\"Normal\", batch_shape=[], event_shape=[], dtype=float32)\n"
     ]
    }
   ],
   "source": [
    "# A standard normal\n",
    "normal = tfd.Normal(loc=0., scale=1.)\n",
    "print(normal)\n"
   ]
  },
  {
   "cell_type": "code",
   "execution_count": 8,
   "metadata": {},
   "outputs": [
    {
     "name": "stdout",
     "output_type": "stream",
     "text": [
      "tfp.distributions.Normal(\"Normal\", batch_shape=[], event_shape=[], dtype=float32)\n"
     ]
    }
   ],
   "source": [
    "# A standard normal\n",
    "normal = tfd.Normal(loc=0., scale=1.)\n",
    "print(normal)\n"
   ]
  },
  {
   "cell_type": "code",
   "execution_count": 9,
   "metadata": {},
   "outputs": [
    {
     "name": "stderr",
     "output_type": "stream",
     "text": [
      "/usr/lib/python3/dist-packages/scipy/stats/stats.py:1713: FutureWarning: Using a non-tuple sequence for multidimensional indexing is deprecated; use `arr[tuple(seq)]` instead of `arr[seq]`. In the future this will be interpreted as an array index, `arr[np.array(seq)]`, which will result either in an error or a different result.\n",
      "  return np.add.reduce(sorted[indexer] * weights, axis=axis) / sumval\n"
     ]
    },
    {
     "data": {
      "image/png": "[encoded data removed]",
      "text/plain": [
       "<Figure size 432x288 with 1 Axes>"
      ]
     },
     "metadata": {
      "needs_background": "light"
     },
     "output_type": "display_data"
    }
   ],
   "source": [
    "# Plot 1000 samples from a standard normal\n",
    "samples = normal.sample(1000)\n",
    "sns.distplot(samples)\n",
    "plt.title(\"Samples from a standard Normal\")\n",
    "plt.show()\n"
   ]
  },
  {
   "cell_type": "code",
   "execution_count": 10,
   "metadata": {},
   "outputs": [
    {
     "data": {
      "text/plain": [
       "<tf.Tensor: shape=(), dtype=float32, numpy=-0.9189385>"
      ]
     },
     "execution_count": 10,
     "metadata": {},
     "output_type": "execute_result"
    }
   ],
   "source": [
    "# Compute the log_prob of a point in the event space of `normal`\n",
    "normal.log_prob(0.)\n"
   ]
  },
  {
   "cell_type": "code",
   "execution_count": 11,
   "metadata": {},
   "outputs": [
    {
     "data": {
      "text/plain": [
       "<tf.Tensor: shape=(3,), dtype=float32, numpy=array([-1.4189385, -0.9189385, -1.4189385], dtype=float32)>"
      ]
     },
     "execution_count": 11,
     "metadata": {},
     "output_type": "execute_result"
    }
   ],
   "source": [
    "# Compute the log_prob of a few points\n",
    "normal.log_prob([-1., 0., 1.])\n"
   ]
  },
  {
   "cell_type": "markdown",
   "metadata": {},
   "source": [
    "# Distributions and Shapes\n",
    "Numpy ndarrays and TensorFlow Tensors have shapes.\n",
    "\n",
    "TensorFlow Probability Distributions have shape semantics -- we partition shapes into semantically distinct pieces, even though the same chunk of memory (Tensor/ndarray) is used for the whole everything.\n",
    "\n",
    "- Batch shape denotes a collection of Distributions with distinct parameters\n",
    "- Event shape denotes the shape of samples from the Distribution.\n",
    "We always put batch shapes on the \"left\" and event shapes on the \"right\".\n"
   ]
  },
  {
   "cell_type": "code",
   "execution_count": 12,
   "metadata": {},
   "outputs": [
    {
     "name": "stdout",
     "output_type": "stream",
     "text": [
      "Batch shape: (3,)\n",
      "Event shape: ()\n"
     ]
    }
   ],
   "source": [
    "\n",
    "# Create a batch of 3 normals, and plot 1000 samples from each\n",
    "normals = tfd.Normal([-2.5, 0., 2.5], 1.)  # The scale parameter broadacasts!\n",
    "print(\"Batch shape:\", normals.batch_shape)\n",
    "print(\"Event shape:\", normals.event_shape)"
   ]
  },
  {
   "cell_type": "code",
   "execution_count": 13,
   "metadata": {},
   "outputs": [
    {
     "name": "stdout",
     "output_type": "stream",
     "text": [
      "Shape of samples: (1000, 3)\n"
     ]
    }
   ],
   "source": [
    "samples = normals.sample(1000)\n",
    "print(\"Shape of samples:\", samples.shape)\n"
   ]
  },
  {
   "cell_type": "code",
   "execution_count": 14,
   "metadata": {},
   "outputs": [
    {
     "name": "stdout",
     "output_type": "stream",
     "text": [
      "Shape of samples: (5, 10, 10, 3)\n"
     ]
    }
   ],
   "source": [
    "# Sample shapes can themselves be more complicated\n",
    "print(\"Shape of samples:\", normals.sample([5, 10, 10]).shape)\n"
   ]
  },
  {
   "cell_type": "code",
   "execution_count": 15,
   "metadata": {},
   "outputs": [
    {
     "name": "stdout",
     "output_type": "stream",
     "text": [
      "tf.Tensor([ -0.9189385  -4.0439386 -13.418939 ], shape=(3,), dtype=float32)\n"
     ]
    }
   ],
   "source": [
    "# A batch of normals gives a batch of log_probs.\n",
    "print(normals.log_prob([-2.5, -2.5, -2.5]))\n"
   ]
  },
  {
   "cell_type": "code",
   "execution_count": 16,
   "metadata": {},
   "outputs": [
    {
     "name": "stdout",
     "output_type": "stream",
     "text": [
      "Broadcast shape: (200, 3)\n"
     ]
    }
   ],
   "source": [
    "# But this would work:\n",
    "a = np.zeros([200, 1]) + np.zeros(3)\n",
    "print(\"Broadcast shape:\", a.shape)\n"
   ]
  },
  {
   "cell_type": "code",
   "execution_count": 17,
   "metadata": {},
   "outputs": [
    {
     "name": "stdout",
     "output_type": "stream",
     "text": [
      "Broadcast log_prob shape: (200, 3)\n"
     ]
    }
   ],
   "source": [
    "# And so will this!\n",
    "xs = np.linspace(-6, 6, 200)[..., np.newaxis]\n",
    "# => shape = [200, 1]\n",
    "\n",
    "lps = normals.log_prob(xs)\n",
    "print(\"Broadcast log_prob shape:\", lps.shape)\n"
   ]
  },
  {
   "cell_type": "code",
   "execution_count": 18,
   "metadata": {},
   "outputs": [
    {
     "name": "stdout",
     "output_type": "stream",
     "text": [
      "(200, 3)\n",
      "Broadcast log_prob shape: (200, 3)\n"
     ]
    }
   ],
   "source": [
    "# And so will this!\n",
    "xs = np.linspace(-6, 6, 200)[..., np.newaxis]\n",
    "# => shape = [200, 1]\n",
    "print(np.tile(xs, 3).shape)\n",
    "lps = normals.log_prob(xs)\n",
    "print(\"Broadcast log_prob shape:\", lps.shape)\n"
   ]
  },
  {
   "cell_type": "code",
   "execution_count": 19,
   "metadata": {},
   "outputs": [
    {
     "data": {
      "image/png": "[encoded data removed]",
      "text/plain": [
       "<Figure size 432x288 with 1 Axes>"
      ]
     },
     "metadata": {
      "needs_background": "light"
     },
     "output_type": "display_data"
    }
   ],
   "source": [
    "# Summarizing visually\n",
    "for i in range(3):\n",
    "  sns.distplot(samples[:, i], kde=False, norm_hist=True)\n",
    "plt.plot(np.tile(xs, 3), normals.prob(xs), c='k', alpha=.5)\n",
    "plt.title(\"Samples from 3 Normals, and their PDF's\")\n",
    "plt.show()\n"
   ]
  },
  {
   "cell_type": "code",
   "execution_count": 20,
   "metadata": {},
   "outputs": [],
   "source": [
    "# Simple Inference\n",
    "true_p = np.array([0.3, 0.7])\n",
    "num_examples = 128\n",
    "xs = np.random.choice(2, p=true_p, size=num_examples).astype(np.float32)"
   ]
  },
  {
   "cell_type": "code",
   "execution_count": 21,
   "metadata": {},
   "outputs": [
    {
     "name": "stdout",
     "output_type": "stream",
     "text": [
      "tf.Tensor(0.0, shape=(), dtype=float32)\n",
      "tf.Tensor(-74.462524, shape=(), dtype=float32)\n",
      "tf.Tensor(-74.462524, shape=(), dtype=float32)\n"
     ]
    }
   ],
   "source": [
    "def joint_log_prob_Beta_Bernoulli(p, x):\n",
    "    # w ~ Beta(1,1)\n",
    "    # x_i ~ Bernoulli(w)\n",
    "    \n",
    "    rv_p = tfd.Beta(concentration0=1, concentration1=1)\n",
    "    rv_x = tfd.Bernoulli(probs=p)\n",
    "    return (rv_p.log_prob(p) + tf.reduce_sum(rv_x.log_prob(x)))\n",
    "\n",
    "X = tfd.Bernoulli(probs=0.7)\n",
    "P = tfd.Beta(concentration0=1, concentration1=1)\n",
    "print(P.log_prob(0.7))\n",
    "print(tf.reduce_sum(X.log_prob(xs)))\n",
    "print(P.log_prob(0.7) +tf.reduce_sum(X.log_prob(xs)))\n"
   ]
  },
  {
   "cell_type": "code",
   "execution_count": 22,
   "metadata": {},
   "outputs": [],
   "source": [
    "# Create our unnormalized target density by currying x and y from the joint.\n",
    "def unnormalized_posterior_Beta_Bernoulli(p):\n",
    "  return joint_log_prob_Beta_Bernoulli(p, xs)"
   ]
  },
  {
   "cell_type": "code",
   "execution_count": 23,
   "metadata": {},
   "outputs": [],
   "source": [
    "# Create an HMC TransitionKernel\n",
    "hmc_kernel = tfp.mcmc.HamiltonianMonteCarlo(\n",
    "  target_log_prob_fn=unnormalized_posterior_Beta_Bernoulli,\n",
    "  step_size=np.float64(.1),\n",
    "  num_leapfrog_steps=2)"
   ]
  },
  {
   "cell_type": "code",
   "execution_count": 24,
   "metadata": {},
   "outputs": [],
   "source": [
    "# We wrap sample_chain in tf.function, telling TF to precompile a reusable\n",
    "# computation graph, which will dramatically improve performance.\n",
    "@tf.function\n",
    "def run_chain(initial_state, num_results=1000, num_burnin_steps=500):\n",
    "  return tfp.mcmc.sample_chain(\n",
    "    num_results=num_results,\n",
    "    num_burnin_steps=num_burnin_steps,\n",
    "    current_state=initial_state,\n",
    "    kernel=hmc_kernel,\n",
    "    trace_fn=lambda current_state, kernel_results: kernel_results)"
   ]
  },
  {
   "cell_type": "code",
   "execution_count": 25,
   "metadata": {},
   "outputs": [],
   "source": [
    "initial_state = [0.5]"
   ]
  },
  {
   "cell_type": "code",
   "execution_count": 29,
   "metadata": {},
   "outputs": [
    {
     "name": "stdout",
     "output_type": "stream",
     "text": [
      "Acceptance rate: 0.0649\n"
     ]
    },
    {
     "data": {
      "image/png": "[encoded data removed]",
      "text/plain": [
       "<Figure size 432x288 with 1 Axes>"
      ]
     },
     "metadata": {
      "needs_background": "light"
     },
     "output_type": "display_data"
    }
   ],
   "source": [
    "samples, kernel_results = run_chain(initial_state, num_results=10000,num_burnin_steps=10000)\n",
    "print(\"Acceptance rate:\", kernel_results.is_accepted.numpy().mean())\n",
    "# Trace plots\n",
    "# Histogram of samples\n",
    "sns.distplot(samples)\n",
    "plt.show()\n"
   ]
  },
  {
   "cell_type": "code",
   "execution_count": 31,
   "metadata": {},
   "outputs": [],
   "source": [
    "jds = tfd.JointDistributionSequential([\n",
    "    tfd.Beta(concentration0=1, concentration1=1), # p\n",
    "    lambda p: tfd.Bernoulli(probs=p) # x\n",
    "])\n"
   ]
  },
  {
   "cell_type": "code",
   "execution_count": 33,
   "metadata": {},
   "outputs": [
    {
     "data": {
      "text/plain": [
       "[<tf.Tensor: shape=(), dtype=float32, numpy=0.1789839>,\n",
       " <tf.Tensor: shape=(), dtype=int32, numpy=0>]"
      ]
     },
     "execution_count": 33,
     "metadata": {},
     "output_type": "execute_result"
    }
   ],
   "source": [
    "dists, sample = jds.sample_distributions()\n",
    "sample\n"
   ]
  },
  {
   "cell_type": "code",
   "execution_count": 37,
   "metadata": {},
   "outputs": [
    {
     "data": {
      "text/plain": [
       "[<tf.Tensor: shape=(5, 3), dtype=float32, numpy=\n",
       " array([[0.35068566, 0.7209196 , 0.8552482 ],\n",
       "        [0.33476174, 0.7544198 , 0.8182914 ],\n",
       "        [0.24834579, 0.6293826 , 0.08132973],\n",
       "        [0.25461456, 0.3503687 , 0.77967286],\n",
       "        [0.25346714, 0.6793263 , 0.8735645 ]], dtype=float32)>,\n",
       " <tf.Tensor: shape=(5, 3), dtype=int32, numpy=\n",
       " array([[0, 1, 1],\n",
       "        [0, 1, 1],\n",
       "        [0, 0, 0],\n",
       "        [0, 0, 1],\n",
       "        [0, 1, 1]], dtype=int32)>]"
      ]
     },
     "execution_count": 37,
     "metadata": {},
     "output_type": "execute_result"
    }
   ],
   "source": [
    "jds.sample([5,3])"
   ]
  },
  {
   "cell_type": "code",
   "execution_count": null,
   "metadata": {},
   "outputs": [],
   "source": []
  }
 ],
 "metadata": {
  "kernelspec": {
   "display_name": "Python 3",
   "language": "python",
   "name": "python3"
  },
  "language_info": {
   "codemirror_mode": {
    "name": "ipython",
    "version": 3
   },
   "file_extension": ".py",
   "mimetype": "text/x-python",
   "name": "python",
   "nbconvert_exporter": "python",
   "pygments_lexer": "ipython3",
   "version": "3.7.3"
  }
 },
 "nbformat": 4,
 "nbformat_minor": 4
}
