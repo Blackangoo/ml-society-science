{
 "cells": [
  {
   "cell_type": "markdown",
   "metadata": {},
   "source": [
    "<figure>\n",
    "  <img style=\"float: left;\" src=\"./figures/unine.png\" width=\"200\"/>\n",
    "</figure>"
   ]
  },
  {
   "cell_type": "markdown",
   "metadata": {},
   "source": [
    "<figure>\n",
    "  <img style=\"float: left;\" src=\"./figures/fair_1.png\" width=\"200\"/>\n",
    "</figure>\n",
    "\n",
    "# Fairness"
   ]
  },
  {
   "cell_type": "markdown",
   "metadata": {},
   "source": [
    "Machine learning (ML) usage is increasing every day. Companies and organisations build ML models with the purpose of minimising human effort or improving performance in various tasks. So today Machine learning arguably affects our lives.\n",
    "\n",
    "Examples:\n",
    "1. Recommendation system\n",
    "2. Face recognition\n",
    "3. Self-driving cars\n",
    "4. Candidate selection e.x college admissions, CV screening\n",
    "5. Loan admissions\n",
    "\n",
    "There are a lot of examples that researchers demonstrate inadvertently discriminating against several population groups.    \n",
    "The most know is [ProPublica's](https://www.propublica.org/datastore/dataset/compas-recidivism-risk-score-data-and-analysis) research in COMPAS Dataset.\n",
    "\n",
    "When machine learning models are being used to make decisions, they cannot be separated from the social and ethical context in which they are applied, and those developing and deploying these models must take care to do so in a manner that accounts for both performance and fairness. \n",
    "\n",
    "So in the last decade Fairness has become one of the most active research areas in ML."
   ]
  },
  {
   "cell_type": "markdown",
   "metadata": {},
   "source": [
    "# A2. Sources of Bias.\n",
    "\n",
    "Bias may be introduced into a machine learning project at any step along the way, and it is important to carefully think through each potential source and how it may affect your results.\n",
    "\n",
    "\n",
    "Source of bias:\n",
    "- Data\n",
    "    1. Historical injustice.\n",
    "    2. Sample bias - Collection Bias.\n",
    "    3. Limited features.\n",
    "    4. Unbalanced dataset.\n",
    "    5. Proxy Variables.\n",
    "- Modelling\n",
    "    1. Data preprocessing\n",
    "    2. Model assumptions \n",
    "- Feedback loops.\n",
    "    1. decisions based on biassed models lead to biassed dataset.  \n",
    "\n",
    "<figure>\n",
    "  <img style=\"float: left;\" src=\"./figures/simple_pipeline.png\" width=\"600\"/>\n",
    "</figure>\n"
   ]
  },
  {
   "cell_type": "markdown",
   "metadata": {},
   "source": [
    "# A3. Load Dataset\n",
    "\n",
    "https://archive.ics.uci.edu/ml/datasets/adult"
   ]
  },
  {
   "cell_type": "code",
   "execution_count": 1,
   "metadata": {},
   "outputs": [],
   "source": [
    "import pandas as pd\n",
    "import numpy as np\n",
    "import seaborn as sns\n",
    "import matplotlib.pyplot as plt"
   ]
  },
  {
   "cell_type": "code",
   "execution_count": 2,
   "metadata": {},
   "outputs": [],
   "source": [
    "from collections import OrderedDict\n",
    "\n",
    "data_types = OrderedDict([\n",
    "    (\"age\", \"int\"),\n",
    "    (\"workclass\", \"category\"),\n",
    "    (\"final_weight\", \"int\"),  # originally it was called fnlwgt\n",
    "    (\"education\", \"category\"),\n",
    "    (\"education_num\", \"int\"),\n",
    "    (\"marital_status\", \"category\"),\n",
    "    (\"occupation\", \"category\"),\n",
    "    (\"relationship\", \"category\"),\n",
    "    (\"race\", \"category\"),\n",
    "    (\"sex\", \"category\"),\n",
    "    (\"capital_gain\", \"float\"),  # required because of NaN values\n",
    "    (\"capital_loss\", \"int\"),\n",
    "    (\"hours_per_week\", \"int\"),\n",
    "    (\"native_country\", \"category\"),\n",
    "    (\"income_class\", \"category\"),\n",
    "])\n",
    "target_column = \"income_class\""
   ]
  },
  {
   "cell_type": "code",
   "execution_count": 3,
   "metadata": {},
   "outputs": [],
   "source": [
    "def read_dataset(path):\n",
    "    return pd.read_csv(\n",
    "        path,\n",
    "        names=data_types,\n",
    "        index_col=None,\n",
    "\n",
    "        comment='|',  # test dataset has comment in it\n",
    "        skipinitialspace=True,  # Skip spaces after delimiter\n",
    "        na_values={\n",
    "            'capital_gain': 99999,\n",
    "            'workclass': '?',\n",
    "            'native_country': '?',\n",
    "            'occupation': '?',\n",
    "        },\n",
    "        dtype=data_types,\n",
    "    )\n",
    "\n",
    "def clean_dataset(data):\n",
    "    # Test dataset has dot at the end, we remove it in order\n",
    "    # to unify names between training and test datasets.\n",
    "    data['income_class'] = data.income_class.str.rstrip('.').astype('category')\n",
    "    \n",
    "    # Remove final weight column since there is no use\n",
    "    # for it during the classification.\n",
    "    data = data.drop('final_weight', axis=1)\n",
    "    \n",
    "    # Duplicates might create biases during the analysis and\n",
    "    # during prediction stage they might give over-optimistic\n",
    "    # (or pessimistic) results.\n",
    "    data = data.drop_duplicates()\n",
    "    \n",
    "    # Binary target variable (>50K == 1 and <=50K == 0)\n",
    "    data[target_column] = (data[target_column] == '>50K').astype(int)\n",
    "    \n",
    "    # Categorical dataset\n",
    "    categorical_features = data.select_dtypes('category').columns\n",
    "    data[categorical_features] = data.select_dtypes('category').apply(lambda x: x.cat.codes)\n",
    "    return data"
   ]
  },
  {
   "cell_type": "markdown",
   "metadata": {},
   "source": [
    "### load & clean dataset"
   ]
  },
  {
   "cell_type": "code",
   "execution_count": 4,
   "metadata": {},
   "outputs": [
    {
     "name": "stdout",
     "output_type": "stream",
     "text": [
      "Train dataset shape: (28938, 14)\n",
      "Test dataset shape: (15175, 14)\n"
     ]
    }
   ],
   "source": [
    "# get and clean train dataset\n",
    "TRAIN_DATA_FILE = './adult.data'#'https://archive.ics.uci.edu/ml/machine-learning-databases/adult/adult.data'\n",
    "train_data = clean_dataset(read_dataset(TRAIN_DATA_FILE))\n",
    "train_data = train_data.dropna()\n",
    "print(\"Train dataset shape:\", train_data.shape)\n",
    "\n",
    "# get and clean test dataset\n",
    "TEST_DATA_FILE = './adult.test'#'https://archive.ics.uci.edu/ml/machine-learning-databases/adult/adult.test'\n",
    "test_data = clean_dataset(read_dataset(TEST_DATA_FILE))\n",
    "test_data = test_data.dropna()\n",
    "print(\"Test dataset shape:\", test_data.shape)"
   ]
  },
  {
   "cell_type": "code",
   "execution_count": 5,
   "metadata": {},
   "outputs": [
    {
     "data": {
      "text/html": [
       "<div>\n",
       "<style scoped>\n",
       "    .dataframe tbody tr th:only-of-type {\n",
       "        vertical-align: middle;\n",
       "    }\n",
       "\n",
       "    .dataframe tbody tr th {\n",
       "        vertical-align: top;\n",
       "    }\n",
       "\n",
       "    .dataframe thead th {\n",
       "        text-align: right;\n",
       "    }\n",
       "</style>\n",
       "<table border=\"1\" class=\"dataframe\">\n",
       "  <thead>\n",
       "    <tr style=\"text-align: right;\">\n",
       "      <th></th>\n",
       "      <th>age</th>\n",
       "      <th>workclass</th>\n",
       "      <th>education</th>\n",
       "      <th>education_num</th>\n",
       "      <th>marital_status</th>\n",
       "      <th>occupation</th>\n",
       "      <th>relationship</th>\n",
       "      <th>race</th>\n",
       "      <th>sex</th>\n",
       "      <th>capital_gain</th>\n",
       "      <th>capital_loss</th>\n",
       "      <th>hours_per_week</th>\n",
       "      <th>native_country</th>\n",
       "      <th>income_class</th>\n",
       "    </tr>\n",
       "  </thead>\n",
       "  <tbody>\n",
       "    <tr>\n",
       "      <th>0</th>\n",
       "      <td>39</td>\n",
       "      <td>6</td>\n",
       "      <td>9</td>\n",
       "      <td>13</td>\n",
       "      <td>4</td>\n",
       "      <td>0</td>\n",
       "      <td>1</td>\n",
       "      <td>4</td>\n",
       "      <td>1</td>\n",
       "      <td>2174.0</td>\n",
       "      <td>0</td>\n",
       "      <td>40</td>\n",
       "      <td>38</td>\n",
       "      <td>0</td>\n",
       "    </tr>\n",
       "    <tr>\n",
       "      <th>1</th>\n",
       "      <td>50</td>\n",
       "      <td>5</td>\n",
       "      <td>9</td>\n",
       "      <td>13</td>\n",
       "      <td>2</td>\n",
       "      <td>3</td>\n",
       "      <td>0</td>\n",
       "      <td>4</td>\n",
       "      <td>1</td>\n",
       "      <td>0.0</td>\n",
       "      <td>0</td>\n",
       "      <td>13</td>\n",
       "      <td>38</td>\n",
       "      <td>0</td>\n",
       "    </tr>\n",
       "    <tr>\n",
       "      <th>2</th>\n",
       "      <td>38</td>\n",
       "      <td>3</td>\n",
       "      <td>11</td>\n",
       "      <td>9</td>\n",
       "      <td>0</td>\n",
       "      <td>5</td>\n",
       "      <td>1</td>\n",
       "      <td>4</td>\n",
       "      <td>1</td>\n",
       "      <td>0.0</td>\n",
       "      <td>0</td>\n",
       "      <td>40</td>\n",
       "      <td>38</td>\n",
       "      <td>0</td>\n",
       "    </tr>\n",
       "    <tr>\n",
       "      <th>3</th>\n",
       "      <td>53</td>\n",
       "      <td>3</td>\n",
       "      <td>1</td>\n",
       "      <td>7</td>\n",
       "      <td>2</td>\n",
       "      <td>5</td>\n",
       "      <td>0</td>\n",
       "      <td>2</td>\n",
       "      <td>1</td>\n",
       "      <td>0.0</td>\n",
       "      <td>0</td>\n",
       "      <td>40</td>\n",
       "      <td>38</td>\n",
       "      <td>0</td>\n",
       "    </tr>\n",
       "    <tr>\n",
       "      <th>4</th>\n",
       "      <td>28</td>\n",
       "      <td>3</td>\n",
       "      <td>9</td>\n",
       "      <td>13</td>\n",
       "      <td>2</td>\n",
       "      <td>9</td>\n",
       "      <td>5</td>\n",
       "      <td>2</td>\n",
       "      <td>0</td>\n",
       "      <td>0.0</td>\n",
       "      <td>0</td>\n",
       "      <td>40</td>\n",
       "      <td>4</td>\n",
       "      <td>0</td>\n",
       "    </tr>\n",
       "  </tbody>\n",
       "</table>\n",
       "</div>"
      ],
      "text/plain": [
       "   age  workclass  education  education_num  marital_status  occupation  \\\n",
       "0   39          6          9             13               4           0   \n",
       "1   50          5          9             13               2           3   \n",
       "2   38          3         11              9               0           5   \n",
       "3   53          3          1              7               2           5   \n",
       "4   28          3          9             13               2           9   \n",
       "\n",
       "   relationship  race  sex  capital_gain  capital_loss  hours_per_week  \\\n",
       "0             1     4    1        2174.0             0              40   \n",
       "1             0     4    1           0.0             0              13   \n",
       "2             1     4    1           0.0             0              40   \n",
       "3             0     2    1           0.0             0              40   \n",
       "4             5     2    0           0.0             0              40   \n",
       "\n",
       "   native_country  income_class  \n",
       "0              38             0  \n",
       "1              38             0  \n",
       "2              38             0  \n",
       "3              38             0  \n",
       "4               4             0  "
      ]
     },
     "execution_count": 5,
     "metadata": {},
     "output_type": "execute_result"
    }
   ],
   "source": [
    "train_data.head()"
   ]
  },
  {
   "cell_type": "markdown",
   "metadata": {},
   "source": [
    "### Data analysis"
   ]
  },
  {
   "cell_type": "code",
   "execution_count": 6,
   "metadata": {},
   "outputs": [
    {
     "data": {
      "image/png": "[encoded data removed]",
      "text/plain": [
       "<Figure size 640x480 with 1 Axes>"
      ]
     },
     "metadata": {},
     "output_type": "display_data"
    }
   ],
   "source": [
    "plt.figure()\n",
    "fig = sns.countplot(x=train_data[\"income_class\"])\n",
    "fig.set_xticklabels(['income <= 50K','income > 50K'])\n",
    "plt.title(\"Num of values in each category\")\n",
    "plt.show()\n",
    "plt.close()"
   ]
  },
  {
   "cell_type": "code",
   "execution_count": 7,
   "metadata": {},
   "outputs": [
    {
     "data": {
      "image/png": "[encoded data removed]",
      "text/plain": [
       "<Figure size 640x480 with 1 Axes>"
      ]
     },
     "metadata": {},
     "output_type": "display_data"
    }
   ],
   "source": [
    "plt.figure()\n",
    "fig = sns.countplot(x=train_data[\"sex\"])\n",
    "fig.set_xticklabels(['woman','men'])\n",
    "# plt.title(\"gender\")\n",
    "plt.show()\n",
    "plt.close()"
   ]
  },
  {
   "cell_type": "code",
   "execution_count": 8,
   "metadata": {},
   "outputs": [
    {
     "data": {
      "image/png": "[encoded data removed]",
      "text/plain": [
       "<Figure size 640x480 with 1 Axes>"
      ]
     },
     "metadata": {},
     "output_type": "display_data"
    }
   ],
   "source": [
    "plt.figure()\n",
    "fig = sns.countplot(data=train_data[[\"income_class\",\"sex\"]],\n",
    "                    x=\"income_class\",\n",
    "                    hue=\"sex\")\n",
    "fig.set_xticklabels(['income <= 50K','income > 50K'])\n",
    "plt.legend(title='sex', labels=['woman', 'men'])\n",
    "plt.title(\"Num of values in each category\")\n",
    "plt.show()\n",
    "plt.close()"
   ]
  },
  {
   "cell_type": "markdown",
   "metadata": {},
   "source": [
    "The dataset is quite imbalance between a gender, so we expect our model to be unfair.\n",
    "The source of the bias is coming from our societal bias."
   ]
  },
  {
   "cell_type": "markdown",
   "metadata": {},
   "source": [
    "# A4. Train a Model\n",
    "let's train our model and analyse the results."
   ]
  },
  {
   "cell_type": "code",
   "execution_count": 9,
   "metadata": {},
   "outputs": [],
   "source": [
    "features = train_data.columns.difference([target_column])\n",
    "\n",
    "# we define sex as our sensitive feature\n",
    "sensitive_feature = [\"sex\"]\n",
    "\n",
    "# all the rest are non sensitive feature\n",
    "non_sensitive_features = list(set(features).difference(set(sensitive_feature)))"
   ]
  },
  {
   "cell_type": "code",
   "execution_count": 10,
   "metadata": {},
   "outputs": [
    {
     "data": {
      "text/html": [
       "<style>#sk-container-id-1 {color: black;background-color: white;}#sk-container-id-1 pre{padding: 0;}#sk-container-id-1 div.sk-toggleable {background-color: white;}#sk-container-id-1 label.sk-toggleable__label {cursor: pointer;display: block;width: 100%;margin-bottom: 0;padding: 0.3em;box-sizing: border-box;text-align: center;}#sk-container-id-1 label.sk-toggleable__label-arrow:before {content: \"▸\";float: left;margin-right: 0.25em;color: #696969;}#sk-container-id-1 label.sk-toggleable__label-arrow:hover:before {color: black;}#sk-container-id-1 div.sk-estimator:hover label.sk-toggleable__label-arrow:before {color: black;}#sk-container-id-1 div.sk-toggleable__content {max-height: 0;max-width: 0;overflow: hidden;text-align: left;background-color: #f0f8ff;}#sk-container-id-1 div.sk-toggleable__content pre {margin: 0.2em;color: black;border-radius: 0.25em;background-color: #f0f8ff;}#sk-container-id-1 input.sk-toggleable__control:checked~div.sk-toggleable__content {max-height: 200px;max-width: 100%;overflow: auto;}#sk-container-id-1 input.sk-toggleable__control:checked~label.sk-toggleable__label-arrow:before {content: \"▾\";}#sk-container-id-1 div.sk-estimator input.sk-toggleable__control:checked~label.sk-toggleable__label {background-color: #d4ebff;}#sk-container-id-1 div.sk-label input.sk-toggleable__control:checked~label.sk-toggleable__label {background-color: #d4ebff;}#sk-container-id-1 input.sk-hidden--visually {border: 0;clip: rect(1px 1px 1px 1px);clip: rect(1px, 1px, 1px, 1px);height: 1px;margin: -1px;overflow: hidden;padding: 0;position: absolute;width: 1px;}#sk-container-id-1 div.sk-estimator {font-family: monospace;background-color: #f0f8ff;border: 1px dotted black;border-radius: 0.25em;box-sizing: border-box;margin-bottom: 0.5em;}#sk-container-id-1 div.sk-estimator:hover {background-color: #d4ebff;}#sk-container-id-1 div.sk-parallel-item::after {content: \"\";width: 100%;border-bottom: 1px solid gray;flex-grow: 1;}#sk-container-id-1 div.sk-label:hover label.sk-toggleable__label {background-color: #d4ebff;}#sk-container-id-1 div.sk-serial::before {content: \"\";position: absolute;border-left: 1px solid gray;box-sizing: border-box;top: 0;bottom: 0;left: 50%;z-index: 0;}#sk-container-id-1 div.sk-serial {display: flex;flex-direction: column;align-items: center;background-color: white;padding-right: 0.2em;padding-left: 0.2em;position: relative;}#sk-container-id-1 div.sk-item {position: relative;z-index: 1;}#sk-container-id-1 div.sk-parallel {display: flex;align-items: stretch;justify-content: center;background-color: white;position: relative;}#sk-container-id-1 div.sk-item::before, #sk-container-id-1 div.sk-parallel-item::before {content: \"\";position: absolute;border-left: 1px solid gray;box-sizing: border-box;top: 0;bottom: 0;left: 50%;z-index: -1;}#sk-container-id-1 div.sk-parallel-item {display: flex;flex-direction: column;z-index: 1;position: relative;background-color: white;}#sk-container-id-1 div.sk-parallel-item:first-child::after {align-self: flex-end;width: 50%;}#sk-container-id-1 div.sk-parallel-item:last-child::after {align-self: flex-start;width: 50%;}#sk-container-id-1 div.sk-parallel-item:only-child::after {width: 0;}#sk-container-id-1 div.sk-dashed-wrapped {border: 1px dashed gray;margin: 0 0.4em 0.5em 0.4em;box-sizing: border-box;padding-bottom: 0.4em;background-color: white;}#sk-container-id-1 div.sk-label label {font-family: monospace;font-weight: bold;display: inline-block;line-height: 1.2em;}#sk-container-id-1 div.sk-label-container {text-align: center;}#sk-container-id-1 div.sk-container {/* jupyter's `normalize.less` sets `[hidden] { display: none; }` but bootstrap.min.css set `[hidden] { display: none !important; }` so we also need the `!important` here to be able to override the default hidden behavior on the sphinx rendered scikit-learn.org. See: https://github.com/scikit-learn/scikit-learn/issues/21755 */display: inline-block !important;position: relative;}#sk-container-id-1 div.sk-text-repr-fallback {display: none;}</style><div id=\"sk-container-id-1\" class=\"sk-top-container\"><div class=\"sk-text-repr-fallback\"><pre>RandomForestClassifier(max_depth=10, n_estimators=1000)</pre><b>In a Jupyter environment, please rerun this cell to show the HTML representation or trust the notebook. <br />On GitHub, the HTML representation is unable to render, please try loading this page with nbviewer.org.</b></div><div class=\"sk-container\" hidden><div class=\"sk-item\"><div class=\"sk-estimator sk-toggleable\"><input class=\"sk-toggleable__control sk-hidden--visually\" id=\"sk-estimator-id-1\" type=\"checkbox\" checked><label for=\"sk-estimator-id-1\" class=\"sk-toggleable__label sk-toggleable__label-arrow\">RandomForestClassifier</label><div class=\"sk-toggleable__content\"><pre>RandomForestClassifier(max_depth=10, n_estimators=1000)</pre></div></div></div></div></div>"
      ],
      "text/plain": [
       "RandomForestClassifier(max_depth=10, n_estimators=1000)"
      ]
     },
     "execution_count": 10,
     "metadata": {},
     "output_type": "execute_result"
    }
   ],
   "source": [
    "from sklearn.ensemble import RandomForestClassifier\n",
    "\n",
    "model  = RandomForestClassifier(n_estimators=1000,\n",
    "                                max_depth=10)\n",
    "\n",
    "model.fit(X = train_data[sensitive_feature+non_sensitive_features],\n",
    "          y = train_data[target_column])"
   ]
  },
  {
   "cell_type": "markdown",
   "metadata": {},
   "source": [
    "# Measure performance scores\n",
    "\n",
    "Bellow are some of the most know mesurements scores\n",
    "\n",
    "\n",
    ">1. Accuracy: $\\frac{TP+TN}{TN + FP + FN + TP}$  \n",
    "2. Recall: $\\frac{TP}{ TP + FN }$ \n",
    "3. Precision: $\\frac{TP}{ TP + FP }$  \n",
    "4. F1-score: $2* \\frac{ Recall * Precision}{Precision + Recall}$  \n",
    "\n",
    "<div>\n",
    "<img style=\"float: left;\" src=\"./figures/conf_matrix.png\" width=\"300\"/>\n",
    "</div>"
   ]
  },
  {
   "cell_type": "code",
   "execution_count": 11,
   "metadata": {},
   "outputs": [],
   "source": [
    "from sklearn.metrics import accuracy_score\n",
    "from sklearn.metrics import confusion_matrix"
   ]
  },
  {
   "cell_type": "code",
   "execution_count": 12,
   "metadata": {},
   "outputs": [],
   "source": [
    "conf_matrix = confusion_matrix(y_true = test_data[target_column],\n",
    "                               y_pred = model.predict(test_data[sensitive_feature+non_sensitive_features]))\n",
    "conf_matrix = pd.DataFrame(conf_matrix)"
   ]
  },
  {
   "cell_type": "code",
   "execution_count": 13,
   "metadata": {},
   "outputs": [
    {
     "data": {
      "image/png": "[encoded data removed]",
      "text/plain": [
       "<Figure size 400x400 with 1 Axes>"
      ]
     },
     "metadata": {},
     "output_type": "display_data"
    }
   ],
   "source": [
    "plt.figure(figsize=(4,4))\n",
    "sns.heatmap(conf_matrix, annot=True, fmt='g', cbar=False, cmap=\"Blues\")\n",
    "plt.title(\"Confusion Map\")\n",
    "plt.xlabel(\"Prediction\")\n",
    "plt.ylabel(\"Actual\")\n",
    "plt.show()"
   ]
  },
  {
   "cell_type": "code",
   "execution_count": 14,
   "metadata": {},
   "outputs": [
    {
     "name": "stdout",
     "output_type": "stream",
     "text": [
      "accuracy score: 0.8568039538714992\n",
      "precision score: 0.792713567839196\n",
      "recall score: 0.530103612433492\n",
      "f1 score: 0.530103612433492\n"
     ]
    }
   ],
   "source": [
    "TN, FP, FN, TP = conf_matrix.values.ravel()\n",
    "\n",
    "acc_score = ( TN + TP ) / (TN + FP + FN + TP)\n",
    "precision_score = TP / (TP + FP)\n",
    "recall_score = TP / (TP + FN)\n",
    "f1_score = 2*(precision_score*recall_score)/(precision_score+recall_score)\n",
    "\n",
    "print(\"accuracy score:\", acc_score)\n",
    "print(\"precision score:\", precision_score)\n",
    "print(\"recall score:\", recall_score)\n",
    "print(\"f1 score:\", recall_score)"
   ]
  },
  {
   "cell_type": "code",
   "execution_count": 15,
   "metadata": {},
   "outputs": [
    {
     "name": "stdout",
     "output_type": "stream",
     "text": [
      "Accuracy_score: 0.8568039538714992\n"
     ]
    }
   ],
   "source": [
    "acc_score = accuracy_score(y_true = test_data[target_column],\n",
    "                           y_pred = model.predict(test_data[sensitive_feature+non_sensitive_features]))\n",
    "print(\"Accuracy_score:\", acc_score)"
   ]
  },
  {
   "cell_type": "markdown",
   "metadata": {},
   "source": [
    "# A5. Analysis of model fairness\n",
    "\n",
    "\n",
    "Unfortunately there is not a single definition of fairness. There are many, often competing, ways to measure whether a given model is statistically “fair”, but it’s important to remember to start from the social and policy goals for equity and fairness and map those to the statistical properties we want in our models to help achieve those goals. Most of the definitions involve splitting the population into groups and compare metrics on those groups.\n",
    "\n",
    "Different definition preserve different fairness aspects. So the desired fairness definition is depending on the application. In general, this requires consideration of the project’s goals, and a detailed discussion between the data scientists, decision makers, and those who will be affected by the application of the model.\n",
    "\n",
    "Bellow we will define the most known fairness definitions.\n",
    "\n",
    "1. **Demographic Parity** - equal positive outcome rates\n",
    "2. **Equalized Opportunities** - equal true positive  rates\n",
    "3. **Equalized Odds** -  equal true positive and false positive rate\n",
    "4. **Predictive Parity** - equal Positive precision  \n",
    ".  \n",
    ".  \n",
    ".  "
   ]
  },
  {
   "cell_type": "code",
   "execution_count": 16,
   "metadata": {},
   "outputs": [],
   "source": [
    "predictions = model.predict(test_data[sensitive_feature+non_sensitive_features])\n",
    "predictions = pd.Series(predictions,index = test_data.index)\n",
    "sensitive_atribute = test_data[sensitive_feature[0]]"
   ]
  },
  {
   "cell_type": "code",
   "execution_count": 17,
   "metadata": {},
   "outputs": [],
   "source": [
    "woman_mask = sensitive_atribute == 0\n",
    "conf_matrix_0 = confusion_matrix(y_true = test_data.loc[woman_mask,target_column],\n",
    "                                 y_pred = predictions.loc[woman_mask])\n",
    "conf_matrix_0 = pd.DataFrame(conf_matrix_0)"
   ]
  },
  {
   "cell_type": "code",
   "execution_count": 18,
   "metadata": {},
   "outputs": [],
   "source": [
    "man_mask = sensitive_atribute == 1\n",
    "conf_matrix_1 = confusion_matrix(y_true = test_data.loc[man_mask,target_column],\n",
    "                                 y_pred = predictions.loc[man_mask])\n",
    "conf_matrix_1 = pd.DataFrame(conf_matrix_1)"
   ]
  },
  {
   "cell_type": "code",
   "execution_count": 19,
   "metadata": {},
   "outputs": [
    {
     "data": {
      "image/png": "[encoded data removed]",
      "text/plain": [
       "<Figure size 800x400 with 2 Axes>"
      ]
     },
     "metadata": {},
     "output_type": "display_data"
    }
   ],
   "source": [
    "fig, axes = plt.subplots(1, 2, figsize = (8,4))\n",
    "sns.heatmap(conf_matrix_0, annot=True, fmt='g', cbar=False, cmap=\"Blues\", ax=axes[0])\n",
    "axes[0].set_title(\"Woman Confusion matrix\")\n",
    "axes[0].set_ylabel('Actual')\n",
    "axes[0].set_xlabel('Prediction')\n",
    "\n",
    "sns.heatmap(conf_matrix_1, annot=True, fmt='g', cbar=False, cmap=\"Blues\", ax=axes[1])\n",
    "axes[1].set_title(\"Men Confusion matrix\")\n",
    "axes[1].set_ylabel('Actual')\n",
    "axes[1].set_xlabel('Prediction')\n",
    "plt.show()\n",
    "plt.close()"
   ]
  },
  {
   "cell_type": "markdown",
   "metadata": {},
   "source": [
    "## F1.  Demographic Parity\n",
    "\n",
    "**Demographic parity** , also referred to as **statistical parity** , **acceptance rate parity**  and **benchmarking**\n",
    "\n",
    "Demographic Parity states that the positive outcome rates between sensitive group must be the same.\n",
    "\n",
    "---------------\n",
    "> **Definition Demographic Parity :** A classifier $C$ is said that satisfy **demographic parity** if $$ P_c(\\hat{Y}= 1 | S = s ) =  P_c(\\hat{Y} = 1), \\quad  \\forall s\\in S $$\n",
    "in case of 2 sensitive classes, $ s \\in \\{0,1\\}  $ we can also equivalent write:\n",
    "$$ P_c(\\hat{Y}= 1 | S = 0 ) =  P_c(\\hat{Y}= 1 | S = 1 ) $$  \n",
    "---------------"
   ]
  },
  {
   "cell_type": "markdown",
   "metadata": {},
   "source": [
    "**How to measure Demographic parity?**\n",
    "\n",
    "we can measure the Demographic parity using the Demographic parity difference metric.\n",
    "\n",
    "> **Demographic parity difference :** we can measure the demographic parity using the next formula:\n",
    "  $$  \\text{Metric} =  max_s[P_c(\\hat{Y}= 1 | S = s )] -  min_s[P_c(\\hat{Y}= 1 | S = s )] $$  "
   ]
  },
  {
   "cell_type": "code",
   "execution_count": 20,
   "metadata": {},
   "outputs": [],
   "source": [
    "def demographic_parity_difference(predictions, sensitive_attribute):\n",
    "    \"\"\"\n",
    "    Implementation of demographic parity difference for different groups of sensitive attribute\n",
    "    1. For each group calculate the propotion of accepted rate.\n",
    "    2. Find the maximum and the minim group.\n",
    "    3. Calcaulte the difference.\n",
    "    \"\"\"\n",
    "    # 1. For each group calculate the proportion of accepted rate.\n",
    "    unique_groups = np.sort(sensitive_attribute.unique())\n",
    "    proportion_of_accepted_rate = []\n",
    "    for group in unique_groups:\n",
    "        pred_group = predictions[sensitive_attribute==group]\n",
    "        accepted_rate = (pred_group==1).sum() / pred_group.shape[0]\n",
    "        proportion_of_accepted_rate += [accepted_rate]\n",
    "\n",
    "    # 2. Find the maximum and the minimum accepted_rate.\n",
    "    maximum_accepted_rate = max(proportion_of_accepted_rate)\n",
    "    minimum_accepted_rate = min(proportion_of_accepted_rate)\n",
    "\n",
    "    # 3. Calculate the different.\n",
    "    difference = maximum_accepted_rate - minimum_accepted_rate\n",
    "    \n",
    "    return difference, proportion_of_accepted_rate"
   ]
  },
  {
   "cell_type": "code",
   "execution_count": 21,
   "metadata": {},
   "outputs": [],
   "source": [
    "predictions = model.predict(test_data[sensitive_feature+non_sensitive_features])\n",
    "sensitive_attribute = test_data[\"sex\"]"
   ]
  },
  {
   "cell_type": "code",
   "execution_count": 22,
   "metadata": {},
   "outputs": [],
   "source": [
    "demographic_metric, rates = demographic_parity_difference(predictions, sensitive_attribute)"
   ]
  },
  {
   "cell_type": "code",
   "execution_count": 23,
   "metadata": {},
   "outputs": [
    {
     "name": "stdout",
     "output_type": "stream",
     "text": [
      "Demographic parity difference is: 0.14094\n"
     ]
    }
   ],
   "source": [
    "print(f\"Demographic parity difference is: {round(demographic_metric,5)}\")"
   ]
  },
  {
   "cell_type": "code",
   "execution_count": 24,
   "metadata": {},
   "outputs": [
    {
     "name": "stdout",
     "output_type": "stream",
     "text": [
      "The rate of different groups are: [0.06401249024199844, 0.20495473087255]\n"
     ]
    }
   ],
   "source": [
    "print(f\"The rate of different groups are: {rates}\")"
   ]
  },
  {
   "cell_type": "markdown",
   "metadata": {},
   "source": [
    "---------------\n",
    "**When to use demographic parity?** \n",
    "1. We are aware of **historical biases** that may have affected the quality of our data. E.x not presents of specific minority in a specific work.\n",
    "2. We want to **change the state of our current world to improve it**. For example, we want to have equal admitions of different group in a specific project.\n",
    "\n",
    "\n",
    "**Potential issues?** \n",
    "1. **Laziness**: We can satisfy demographic parity in we accept random people in group S=0 but qualified people in group  b unless we have the same proportion of positive outcome. We avoid lasyness because classfication is usually perfomred by optimizing an perfomance metric.\n",
    "2. **Not optimality compatible**: A classifier that satisfy demographic parity is suboptimal, if the dataset demographic parity is not hold.\n",
    "---------------"
   ]
  },
  {
   "cell_type": "markdown",
   "metadata": {},
   "source": [
    "## F2. Equalized Opotunities\n",
    "\n",
    "**Equalized Opportunities** , also referred to as **true positive parity**, **sensitivity**.\n",
    "\n",
    "Equalized Opportunities states that each group has equal true positive rates.\n",
    "\n",
    "---------------\n",
    "> **Definition Equalized Opotunities :** A classifire $C$ is said that satisfy **equalized opotunities** if $$ P_c(\\hat{Y} = 1 | S = s, Y = 1 ) =  P_c(\\hat{Y} = 1 | Y = 1), \\quad  \\forall s\\in S $$\n",
    "in case of 2 sensitive classes, $ s \\in \\{0,1\\}  $ we can also equivalent write:\n",
    "$$ P_c(\\hat{Y}= 1 | S = 0, Y = 1 ) =  P_c(\\hat{Y}= 1 | S = 1, Y = 1 ) $$  \n",
    "---------------"
   ]
  },
  {
   "cell_type": "markdown",
   "metadata": {},
   "source": [
    "**How to measure Equalized Opportunities?**\n",
    "\n",
    "we can measure the equalized Opportunities using the equalized opportunities difference metric.\n",
    "\n",
    "> **equalized opportunities difference :** we can measure the equalized opportunities using the next formula:\n",
    "  $$  \\text{Metric} =  max_s[P_c(\\hat{Y}= 1 | S = s, Y = 1 )] -  min_s[P_c(\\hat{Y}= 1 | S = s, Y = 1 )] $$  "
   ]
  },
  {
   "cell_type": "markdown",
   "metadata": {},
   "source": [
    "**Hint**\n",
    "\n",
    "> **True Positive Rate** : To calculate the $P_c(\\hat{Y}= 1 | Y = 1 )$ you can do the following:\n",
    "  $$  P_c(\\hat{Y}= 1 | Y = 1 ) = \\frac{P_c(\\hat{Y}= 1, Y = 1 )}{P_c( Y = 1 )} = \\frac{TP}{P} = \\frac{TP}{TP+FN} $$ "
   ]
  },
  {
   "cell_type": "code",
   "execution_count": 25,
   "metadata": {},
   "outputs": [],
   "source": [
    "def equalized_opportunities_difference(predictions, actual, sensitive_attribute):\n",
    "    \"\"\"\n",
    "    Implementation of equalized opportunities difference for different groups of sensitive attribute\n",
    "    1. For each group calculate the TPR.\n",
    "    2. Find the maximum and the minim group.\n",
    "    3. Calculate the difference.\n",
    "    \"\"\"\n",
    "    # 1. For each group calculate the TPR.\n",
    "    unique_groups = np.sort(sensitive_attribute.unique())\n",
    "    true_positive_rates = []\n",
    "    for group in unique_groups:\n",
    "        pred_group = predictions[sensitive_attribute==group]\n",
    "        actual_group = actual[sensitive_attribute==group]\n",
    "        conf_matrix = confusion_matrix(y_true = actual_group,\n",
    "                                       y_pred = pred_group)\n",
    "        TN, FP, FN, TP = conf_matrix.ravel()\n",
    "        \n",
    "        true_positive_rate = TP / (TP + FN)\n",
    "        true_positive_rates += [true_positive_rate]\n",
    "\n",
    "    # 2. Find the maximum and the minimum accepted_rate.\n",
    "    maximum_tpr = max(true_positive_rates)\n",
    "    minimum_tpr = min(true_positive_rates)\n",
    "\n",
    "    # 3. Calculate the different.\n",
    "    difference = maximum_tpr - minimum_tpr\n",
    "    \n",
    "    return difference, true_positive_rates"
   ]
  },
  {
   "cell_type": "code",
   "execution_count": 26,
   "metadata": {},
   "outputs": [],
   "source": [
    "predictions = model.predict(test_data[sensitive_feature+non_sensitive_features])\n",
    "sensitive_attribute = test_data[\"sex\"]\n",
    "actual = test_data[target_column]"
   ]
  },
  {
   "cell_type": "code",
   "execution_count": 27,
   "metadata": {},
   "outputs": [],
   "source": [
    "equalized_opportunities_metric, _ = equalized_opportunities_difference(predictions, actual, sensitive_attribute)"
   ]
  },
  {
   "cell_type": "code",
   "execution_count": 28,
   "metadata": {},
   "outputs": [
    {
     "name": "stdout",
     "output_type": "stream",
     "text": [
      "equalized opportunities difference is: 0.06606\n"
     ]
    }
   ],
   "source": [
    "print(f\"equalized opportunities difference is: {round(equalized_opportunities_metric,5)}\")"
   ]
  },
  {
   "cell_type": "markdown",
   "metadata": {},
   "source": [
    "---------------\n",
    "**When to use equalized opportunities?**\n",
    "1. When is a strong emphasis on predicting the positive outcome correctly. e.x college admissions\n",
    "2. When False Positives are not costly for the stakeholder. e.x spam detection\n",
    "\n",
    "**Potential issues?** \n",
    "1. **Not optimality compatible**: A classifier that satisfy demographic parity is suboptimal, if the dataset demographic parity is not hold.\n",
    "---------------"
   ]
  },
  {
   "cell_type": "markdown",
   "metadata": {},
   "source": [
    "## F3. Equalized Odds\n",
    "\n",
    "**Equalized Odds** , also referred to as\n",
    "\n",
    "Equalized Odds states that the true positive rates (TPR) and false positive rates (FPR) between sensitive group must be the same.\n",
    "\n",
    "- TPR = TP / total_positives  = TP / (TP+FN)\n",
    "- FPR = FP / total_negatives = FP / (FP+TN)\n",
    "---------------\n",
    "> **Definition Equalized Odds :** A classifier $C$ is said that satisfy **equalized odds** if $$ P_c(\\hat{Y} = 1 | S = s, Y = y ) =  P_c(\\hat{Y} = 1 | Y = y), \\quad  \\forall s\\in S, \\forall y\\in Y $$\n",
    "in case of 2 sensitive classes, $ s \\in \\{0,1\\}  $ we want to satisfy both:\n",
    "$$ P_c(\\hat{Y}= 1 | S = 0, Y = 1 ) =  P_c(\\hat{Y}= 1 | S = 1, Y = 1 ) $$ \n",
    "and \n",
    "$$ P_c(\\hat{Y}= 1 | S = 0, Y = 0 ) =  P_c(\\hat{Y}= 1 | S = 1, Y = 0 ) $$  \n",
    "---------------"
   ]
  },
  {
   "cell_type": "markdown",
   "metadata": {},
   "source": [
    "**How to measure Equalized Opportunities?**\n",
    "\n",
    "we can measure the equalized Opportunities using the equalized opportunities difference metric.\n",
    "\n",
    "> **equalized opportunities difference :** we can measure the equalized opportunities using the next formula:\n",
    "  $$   \\text{Metric} = \\text{true_positive_rate_difference} + \\text{false_positive_rate_difference}  $$\n",
    "where\n",
    "  $$ \\text{true_positive_rate_difference} =  max_s[P_c(\\hat{Y}= 1 | S = s, Y = 1 )] -  min_s[P_c(\\hat{Y}= 1 | S = s, Y = 1 )] $$ \n",
    "  $$ \\text{false_positive_rate_difference} =  max_s[P_c(\\hat{Y}= 1 | S = s, Y = 0 )] -  min_s[P_c(\\hat{Y}= 1 | S = s, Y = 0 )] $$  "
   ]
  },
  {
   "cell_type": "code",
   "execution_count": 29,
   "metadata": {},
   "outputs": [],
   "source": [
    "def equalized_odds_difference(predictions, actual, sensitive_attribute):\n",
    "    \"\"\"\n",
    "    Implementation of equalized odds difference for different groups of sensitive attribute\n",
    "    1. For each group calculate the TPR.\n",
    "    2. Find the maximum and the minim group.\n",
    "    3. Calcaulte the difference.\n",
    "    \"\"\"\n",
    "    # 1. For each group calculate the TPR.\n",
    "    unique_groups = np.sort(sensitive_attribute.unique())\n",
    "    true_positive_rates = []\n",
    "    false_positive_rates = []\n",
    "    for group in unique_groups:\n",
    "        pred_group = predictions[sensitive_attribute==group]\n",
    "        actual_group = actual[sensitive_attribute==group]\n",
    "        conf_matrix = confusion_matrix(y_true = actual_group,\n",
    "                                       y_pred = pred_group)\n",
    "        TN, FP, FN, TP = conf_matrix.ravel()\n",
    "        \n",
    "        true_positive_rate = TP / (TP + FN)\n",
    "        false_positive_rate = FP / (FP + TN)\n",
    "        \n",
    "        true_positive_rates += [true_positive_rate]\n",
    "        false_positive_rates += [false_positive_rate]\n",
    "\n",
    "    # 2. Find the maximum and the minimum accepted_rate.\n",
    "    maximum_tpr = max(true_positive_rates)\n",
    "    minimum_tpr = min(true_positive_rates)\n",
    "    \n",
    "    maximum_fpr = max(false_positive_rates)\n",
    "    minimum_fpr = min(false_positive_rates)\n",
    "\n",
    "    # 3. Calculate the different.\n",
    "    difference_tpr = maximum_tpr - minimum_tpr\n",
    "    difference_fpr = maximum_fpr - minimum_fpr\n",
    "    difference = difference_tpr + difference_fpr\n",
    "    \n",
    "    return difference, (true_positive_rates,false_positive_rates)"
   ]
  },
  {
   "cell_type": "code",
   "execution_count": 30,
   "metadata": {},
   "outputs": [],
   "source": [
    "predictions = model.predict(test_data[sensitive_feature+non_sensitive_features])\n",
    "sensitive_attribute = test_data[\"sex\"]\n",
    "actual = test_data[target_column]"
   ]
  },
  {
   "cell_type": "code",
   "execution_count": 31,
   "metadata": {},
   "outputs": [],
   "source": [
    "equalized_odds_metrics, _ = equalized_odds_difference(predictions, actual, sensitive_attribute)"
   ]
  },
  {
   "cell_type": "code",
   "execution_count": 32,
   "metadata": {},
   "outputs": [
    {
     "name": "stdout",
     "output_type": "stream",
     "text": [
      "equalized odds difference is: 0.11566\n"
     ]
    }
   ],
   "source": [
    "print(f\"equalized odds difference is: {round(equalized_odds_metrics,5)}\")"
   ]
  },
  {
   "cell_type": "code",
   "execution_count": 33,
   "metadata": {},
   "outputs": [],
   "source": [
    "results = pd.DataFrame([acc_score,\n",
    "                        precision_score,\n",
    "                        recall_score,\n",
    "                        f1_score,\n",
    "                        demographic_metric,\n",
    "                        equalized_opportunities_metric,\n",
    "                        equalized_odds_metrics], \n",
    "                       index = [\"accuracy\",\n",
    "                                \"precision\",\n",
    "                                \"recall\",\n",
    "                                \"f1_score\",\n",
    "                                \"demographic_metric\",\n",
    "                                \"equalized_opportunities\",\n",
    "                                \"equalized_odds\"],\n",
    "                       columns = [\"model\"])"
   ]
  },
  {
   "cell_type": "markdown",
   "metadata": {},
   "source": [
    "----------------\n",
    "**When to use equalized odds?** \n",
    "1. When is a strong emphasis on predicting the positive outcome correctly. e.x college admissions\n",
    "2. When we strongly care about minimising costly False Positives\n",
    "\n",
    "**Potential issues?** \n",
    "1. **Not optimality compatible**: A classifier that satisfy equalized odds is suboptimal, if the dataset demographic parity is not hold. Its more constrained than the equal opportunities, so the effect on perforce will be stronger\n",
    "---------------"
   ]
  },
  {
   "cell_type": "markdown",
   "metadata": {},
   "source": [
    "For your project you have explained why you choose the specific fairness criteria."
   ]
  },
  {
   "cell_type": "code",
   "execution_count": 34,
   "metadata": {},
   "outputs": [],
   "source": [
    "def compute_metric(y_pred, y_true, sensitive_feature):\n",
    "    \n",
    "    conf_matrix = confusion_matrix(y_true = y_true,\n",
    "                                   y_pred = y_pred)\n",
    "    conf_matrix = pd.DataFrame(conf_matrix)\n",
    "\n",
    "    TN, FP, FN, TP = conf_matrix.values.ravel()\n",
    "\n",
    "    acc_score = ( TN + TP ) / (TN + FP + FN + TP)\n",
    "    precision_score = TP  / (TP + FP)\n",
    "    recall_score = TP  / (TP + FN)\n",
    "    f1_score = 2*(precision_score*recall_score)/(precision_score+recall_score)\n",
    "    \n",
    "    demographic_metric, _ = demographic_parity_difference(y_pred,\n",
    "                                                          sensitive_feature)\n",
    "    \n",
    "    equalized_opportunities_metric, _ = equalized_opportunities_difference(y_pred,\n",
    "                                                                           y_true,\n",
    "                                                                          sensitive_feature)\n",
    "    equalized_odds_metrics, _ = equalized_odds_difference(y_pred,\n",
    "                                                          y_true,\n",
    "                                                          sensitive_feature)\n",
    "    \n",
    "    return {\n",
    "            \"accuracy\": acc_score,\n",
    "            \"precision\": precision_score,\n",
    "            \"recall\": recall_score,\n",
    "            \"f1_score\": f1_score,\n",
    "            \"demographic_metric\": demographic_metric,\n",
    "            \"equalized_opportunities\" : equalized_opportunities_metric,\n",
    "            \"equalized_odds\": equalized_odds_metrics\n",
    "            }"
   ]
  },
  {
   "cell_type": "markdown",
   "metadata": {},
   "source": [
    "# B. Correct the unfair Clasifier\n",
    "\n",
    "In summary there are 3 general methods to correct an unfair clasifier.\n",
    "\n",
    "1. **Pre-Processing**: make changes in the data before training the model i.e remove correleted features\n",
    "2. **In-Processing**: make changes in the model to correct fairness i.e add aditional loss terms to ensure fairness.\n",
    "3. **Post-Processing**: make changes after the model's output i.e fix classification threshold.\n",
    "\n",
    "\n",
    "<div>\n",
    "<img style=\"float: left;\" src=\"./figures/corect_unfairness.png\" width=\"400\"/>\n",
    "</div>"
   ]
  },
  {
   "cell_type": "markdown",
   "metadata": {},
   "source": [
    "# B1. Pre-Processing\n",
    "\n",
    "# B1.1 Unawareness\n",
    "A very intuitive but **wrong solution** is to assume that ignoring the sensitive feature we can build a fair classifier.\n",
    "This approach is wrong because other feature may be correlated with our sensitive features.\n",
    "\n",
    "We will build a **Unawareness** classifier and the compare the results with our previous classifier."
   ]
  },
  {
   "cell_type": "code",
   "execution_count": 35,
   "metadata": {},
   "outputs": [
    {
     "data": {
      "text/html": [
       "<style>#sk-container-id-2 {color: black;background-color: white;}#sk-container-id-2 pre{padding: 0;}#sk-container-id-2 div.sk-toggleable {background-color: white;}#sk-container-id-2 label.sk-toggleable__label {cursor: pointer;display: block;width: 100%;margin-bottom: 0;padding: 0.3em;box-sizing: border-box;text-align: center;}#sk-container-id-2 label.sk-toggleable__label-arrow:before {content: \"▸\";float: left;margin-right: 0.25em;color: #696969;}#sk-container-id-2 label.sk-toggleable__label-arrow:hover:before {color: black;}#sk-container-id-2 div.sk-estimator:hover label.sk-toggleable__label-arrow:before {color: black;}#sk-container-id-2 div.sk-toggleable__content {max-height: 0;max-width: 0;overflow: hidden;text-align: left;background-color: #f0f8ff;}#sk-container-id-2 div.sk-toggleable__content pre {margin: 0.2em;color: black;border-radius: 0.25em;background-color: #f0f8ff;}#sk-container-id-2 input.sk-toggleable__control:checked~div.sk-toggleable__content {max-height: 200px;max-width: 100%;overflow: auto;}#sk-container-id-2 input.sk-toggleable__control:checked~label.sk-toggleable__label-arrow:before {content: \"▾\";}#sk-container-id-2 div.sk-estimator input.sk-toggleable__control:checked~label.sk-toggleable__label {background-color: #d4ebff;}#sk-container-id-2 div.sk-label input.sk-toggleable__control:checked~label.sk-toggleable__label {background-color: #d4ebff;}#sk-container-id-2 input.sk-hidden--visually {border: 0;clip: rect(1px 1px 1px 1px);clip: rect(1px, 1px, 1px, 1px);height: 1px;margin: -1px;overflow: hidden;padding: 0;position: absolute;width: 1px;}#sk-container-id-2 div.sk-estimator {font-family: monospace;background-color: #f0f8ff;border: 1px dotted black;border-radius: 0.25em;box-sizing: border-box;margin-bottom: 0.5em;}#sk-container-id-2 div.sk-estimator:hover {background-color: #d4ebff;}#sk-container-id-2 div.sk-parallel-item::after {content: \"\";width: 100%;border-bottom: 1px solid gray;flex-grow: 1;}#sk-container-id-2 div.sk-label:hover label.sk-toggleable__label {background-color: #d4ebff;}#sk-container-id-2 div.sk-serial::before {content: \"\";position: absolute;border-left: 1px solid gray;box-sizing: border-box;top: 0;bottom: 0;left: 50%;z-index: 0;}#sk-container-id-2 div.sk-serial {display: flex;flex-direction: column;align-items: center;background-color: white;padding-right: 0.2em;padding-left: 0.2em;position: relative;}#sk-container-id-2 div.sk-item {position: relative;z-index: 1;}#sk-container-id-2 div.sk-parallel {display: flex;align-items: stretch;justify-content: center;background-color: white;position: relative;}#sk-container-id-2 div.sk-item::before, #sk-container-id-2 div.sk-parallel-item::before {content: \"\";position: absolute;border-left: 1px solid gray;box-sizing: border-box;top: 0;bottom: 0;left: 50%;z-index: -1;}#sk-container-id-2 div.sk-parallel-item {display: flex;flex-direction: column;z-index: 1;position: relative;background-color: white;}#sk-container-id-2 div.sk-parallel-item:first-child::after {align-self: flex-end;width: 50%;}#sk-container-id-2 div.sk-parallel-item:last-child::after {align-self: flex-start;width: 50%;}#sk-container-id-2 div.sk-parallel-item:only-child::after {width: 0;}#sk-container-id-2 div.sk-dashed-wrapped {border: 1px dashed gray;margin: 0 0.4em 0.5em 0.4em;box-sizing: border-box;padding-bottom: 0.4em;background-color: white;}#sk-container-id-2 div.sk-label label {font-family: monospace;font-weight: bold;display: inline-block;line-height: 1.2em;}#sk-container-id-2 div.sk-label-container {text-align: center;}#sk-container-id-2 div.sk-container {/* jupyter's `normalize.less` sets `[hidden] { display: none; }` but bootstrap.min.css set `[hidden] { display: none !important; }` so we also need the `!important` here to be able to override the default hidden behavior on the sphinx rendered scikit-learn.org. See: https://github.com/scikit-learn/scikit-learn/issues/21755 */display: inline-block !important;position: relative;}#sk-container-id-2 div.sk-text-repr-fallback {display: none;}</style><div id=\"sk-container-id-2\" class=\"sk-top-container\"><div class=\"sk-text-repr-fallback\"><pre>RandomForestClassifier(max_depth=10, n_estimators=1000)</pre><b>In a Jupyter environment, please rerun this cell to show the HTML representation or trust the notebook. <br />On GitHub, the HTML representation is unable to render, please try loading this page with nbviewer.org.</b></div><div class=\"sk-container\" hidden><div class=\"sk-item\"><div class=\"sk-estimator sk-toggleable\"><input class=\"sk-toggleable__control sk-hidden--visually\" id=\"sk-estimator-id-2\" type=\"checkbox\" checked><label for=\"sk-estimator-id-2\" class=\"sk-toggleable__label sk-toggleable__label-arrow\">RandomForestClassifier</label><div class=\"sk-toggleable__content\"><pre>RandomForestClassifier(max_depth=10, n_estimators=1000)</pre></div></div></div></div></div>"
      ],
      "text/plain": [
       "RandomForestClassifier(max_depth=10, n_estimators=1000)"
      ]
     },
     "execution_count": 35,
     "metadata": {},
     "output_type": "execute_result"
    }
   ],
   "source": [
    "from sklearn.ensemble import RandomForestClassifier\n",
    "\n",
    "unaware_model  = RandomForestClassifier(n_estimators=1000,\n",
    "                                        max_depth=10)\n",
    "\n",
    "unaware_model.fit(X = train_data[non_sensitive_features],\n",
    "                  y = train_data[target_column])"
   ]
  },
  {
   "cell_type": "code",
   "execution_count": 36,
   "metadata": {},
   "outputs": [
    {
     "data": {
      "text/plain": [
       "array([0, 0, 0, ..., 1, 0, 1])"
      ]
     },
     "execution_count": 36,
     "metadata": {},
     "output_type": "execute_result"
    }
   ],
   "source": [
    "unaware_model.predict(test_data[non_sensitive_features])"
   ]
  },
  {
   "cell_type": "code",
   "execution_count": 37,
   "metadata": {},
   "outputs": [],
   "source": [
    "unaware_metrics = compute_metric(y_pred = unaware_model.predict(test_data[non_sensitive_features]),\n",
    "                                 y_true = test_data[target_column],\n",
    "                                 sensitive_feature = test_data[\"sex\"])"
   ]
  },
  {
   "cell_type": "code",
   "execution_count": 38,
   "metadata": {},
   "outputs": [],
   "source": [
    "unaware_results = pd.DataFrame(unaware_metrics,\n",
    "                               index = [\"unaware_model\"]).T"
   ]
  },
  {
   "cell_type": "code",
   "execution_count": 39,
   "metadata": {},
   "outputs": [
    {
     "data": {
      "text/html": [
       "<div>\n",
       "<style scoped>\n",
       "    .dataframe tbody tr th:only-of-type {\n",
       "        vertical-align: middle;\n",
       "    }\n",
       "\n",
       "    .dataframe tbody tr th {\n",
       "        vertical-align: top;\n",
       "    }\n",
       "\n",
       "    .dataframe thead th {\n",
       "        text-align: right;\n",
       "    }\n",
       "</style>\n",
       "<table border=\"1\" class=\"dataframe\">\n",
       "  <thead>\n",
       "    <tr style=\"text-align: right;\">\n",
       "      <th></th>\n",
       "      <th>unaware_model</th>\n",
       "    </tr>\n",
       "  </thead>\n",
       "  <tbody>\n",
       "    <tr>\n",
       "      <th>accuracy</th>\n",
       "      <td>0.857595</td>\n",
       "    </tr>\n",
       "    <tr>\n",
       "      <th>precision</th>\n",
       "      <td>0.796717</td>\n",
       "    </tr>\n",
       "    <tr>\n",
       "      <th>recall</th>\n",
       "      <td>0.530104</td>\n",
       "    </tr>\n",
       "    <tr>\n",
       "      <th>f1_score</th>\n",
       "      <td>0.636624</td>\n",
       "    </tr>\n",
       "    <tr>\n",
       "      <th>demographic_metric</th>\n",
       "      <td>0.140632</td>\n",
       "    </tr>\n",
       "    <tr>\n",
       "      <th>equalized_opportunities</th>\n",
       "      <td>0.066061</td>\n",
       "    </tr>\n",
       "    <tr>\n",
       "      <th>equalized_odds</th>\n",
       "      <td>0.115043</td>\n",
       "    </tr>\n",
       "  </tbody>\n",
       "</table>\n",
       "</div>"
      ],
      "text/plain": [
       "                         unaware_model\n",
       "accuracy                      0.857595\n",
       "precision                     0.796717\n",
       "recall                        0.530104\n",
       "f1_score                      0.636624\n",
       "demographic_metric            0.140632\n",
       "equalized_opportunities       0.066061\n",
       "equalized_odds                0.115043"
      ]
     },
     "execution_count": 39,
     "metadata": {},
     "output_type": "execute_result"
    }
   ],
   "source": [
    "unaware_results"
   ]
  },
  {
   "cell_type": "markdown",
   "metadata": {},
   "source": [
    "## Compare the results of 2 models"
   ]
  },
  {
   "cell_type": "code",
   "execution_count": 40,
   "metadata": {},
   "outputs": [
    {
     "data": {
      "text/html": [
       "<div>\n",
       "<style scoped>\n",
       "    .dataframe tbody tr th:only-of-type {\n",
       "        vertical-align: middle;\n",
       "    }\n",
       "\n",
       "    .dataframe tbody tr th {\n",
       "        vertical-align: top;\n",
       "    }\n",
       "\n",
       "    .dataframe thead th {\n",
       "        text-align: right;\n",
       "    }\n",
       "</style>\n",
       "<table border=\"1\" class=\"dataframe\">\n",
       "  <thead>\n",
       "    <tr style=\"text-align: right;\">\n",
       "      <th></th>\n",
       "      <th>model</th>\n",
       "      <th>unaware_model</th>\n",
       "    </tr>\n",
       "  </thead>\n",
       "  <tbody>\n",
       "    <tr>\n",
       "      <th>accuracy</th>\n",
       "      <td>0.856804</td>\n",
       "      <td>0.857595</td>\n",
       "    </tr>\n",
       "    <tr>\n",
       "      <th>precision</th>\n",
       "      <td>0.792714</td>\n",
       "      <td>0.796717</td>\n",
       "    </tr>\n",
       "    <tr>\n",
       "      <th>recall</th>\n",
       "      <td>0.530104</td>\n",
       "      <td>0.530104</td>\n",
       "    </tr>\n",
       "    <tr>\n",
       "      <th>f1_score</th>\n",
       "      <td>0.635342</td>\n",
       "      <td>0.636624</td>\n",
       "    </tr>\n",
       "    <tr>\n",
       "      <th>demographic_metric</th>\n",
       "      <td>0.140942</td>\n",
       "      <td>0.140632</td>\n",
       "    </tr>\n",
       "    <tr>\n",
       "      <th>equalized_opportunities</th>\n",
       "      <td>0.066061</td>\n",
       "      <td>0.066061</td>\n",
       "    </tr>\n",
       "    <tr>\n",
       "      <th>equalized_odds</th>\n",
       "      <td>0.115660</td>\n",
       "      <td>0.115043</td>\n",
       "    </tr>\n",
       "  </tbody>\n",
       "</table>\n",
       "</div>"
      ],
      "text/plain": [
       "                            model  unaware_model\n",
       "accuracy                 0.856804       0.857595\n",
       "precision                0.792714       0.796717\n",
       "recall                   0.530104       0.530104\n",
       "f1_score                 0.635342       0.636624\n",
       "demographic_metric       0.140942       0.140632\n",
       "equalized_opportunities  0.066061       0.066061\n",
       "equalized_odds           0.115660       0.115043"
      ]
     },
     "execution_count": 40,
     "metadata": {},
     "output_type": "execute_result"
    }
   ],
   "source": [
    "all_results = pd.concat([results, unaware_results],axis=1)\n",
    "all_results"
   ]
  },
  {
   "cell_type": "markdown",
   "metadata": {},
   "source": [
    "### Conclusion\n",
    "Our conclusion is that we are not able to vanish unfairness by excluding sensitive features.  \n",
    "The reason in that some other feature leak information about our sensitive attribute."
   ]
  },
  {
   "cell_type": "markdown",
   "metadata": {},
   "source": [
    "## B.2 Post processing\n",
    "From the above results we expect that our sensitive feature are correlate with non-sensitive feature in our analysis.\n",
    "We will try to find and exclude also those feature in order to improve our fairness properties."
   ]
  },
  {
   "cell_type": "code",
   "execution_count": 41,
   "metadata": {},
   "outputs": [],
   "source": [
    "corr = {}\n",
    "for f in non_sensitive_features:\n",
    "    corr[f] =np.corrcoef(test_data[sensitive_feature[0]], test_data[f])[0,1]\n",
    "corr = np.abs(pd.DataFrame(data=corr, index=[\"corr\"]).T).sort_values(by=\"corr\",ascending = False)"
   ]
  },
  {
   "cell_type": "code",
   "execution_count": 42,
   "metadata": {},
   "outputs": [
    {
     "data": {
      "text/plain": [
       "<Figure size 640x480 with 0 Axes>"
      ]
     },
     "metadata": {},
     "output_type": "display_data"
    },
    {
     "data": {
      "image/png": "[encoded data removed]",
      "text/plain": [
       "<Figure size 640x480 with 1 Axes>"
      ]
     },
     "metadata": {},
     "output_type": "display_data"
    }
   ],
   "source": [
    "plt.figure()\n",
    "corr.plot(kind=\"bar\")\n",
    "plt.title(\"Correlation of sensitive attribute\")\n",
    "plt.show()\n",
    "plt.close()"
   ]
  },
  {
   "cell_type": "markdown",
   "metadata": {},
   "source": [
    "#### build classifier excluding k most correlated feature"
   ]
  },
  {
   "cell_type": "code",
   "execution_count": 43,
   "metadata": {},
   "outputs": [],
   "source": [
    "k=3\n",
    "k_most_correlated = corr.iloc[0:k].index.values.tolist()"
   ]
  },
  {
   "cell_type": "code",
   "execution_count": 44,
   "metadata": {},
   "outputs": [
    {
     "name": "stdout",
     "output_type": "stream",
     "text": [
      "===========iteration1===========\n",
      "We exclude from training:  ['relationship']\n",
      "===========iteration2===========\n",
      "We exclude from training:  ['relationship', 'hours_per_week']\n",
      "===========iteration3===========\n",
      "We exclude from training:  ['relationship', 'hours_per_week', 'marital_status']\n"
     ]
    }
   ],
   "source": [
    "for i in range(len(k_most_correlated)):\n",
    "    print(f\"===========iteration{i+1}===========\")\n",
    "    training_features = list(set(non_sensitive_features).difference(set(k_most_correlated[0:i+1])))\n",
    "    print(\"We exclude from training: \", k_most_correlated[0:i+1])\n",
    "    \n",
    "    # 1. train\n",
    "    post_processing_model  = RandomForestClassifier(n_estimators=1000,\n",
    "                                                    max_depth=10)\n",
    "\n",
    "    post_processing_model.fit(X = train_data[training_features],\n",
    "                              y = train_data[target_column])\n",
    "    \n",
    "\n",
    "    # 2. compute matrix\n",
    "    post_processing_metrics = compute_metric(y_pred= post_processing_model.predict(test_data[training_features]),\n",
    "                                             y_true= test_data[target_column],\n",
    "                                             sensitive_feature = test_data[\"sex\"])\n",
    "    \n",
    "    # 3. append result\n",
    "    post_processing_results = pd.DataFrame(post_processing_metrics,\n",
    "                                           index = [f\"post_prossesing_{i+1}\"]).T\n",
    "    \n",
    "    all_results = pd.concat([all_results, post_processing_results],axis=1)"
   ]
  },
  {
   "cell_type": "code",
   "execution_count": 45,
   "metadata": {},
   "outputs": [
    {
     "data": {
      "text/html": [
       "<div>\n",
       "<style scoped>\n",
       "    .dataframe tbody tr th:only-of-type {\n",
       "        vertical-align: middle;\n",
       "    }\n",
       "\n",
       "    .dataframe tbody tr th {\n",
       "        vertical-align: top;\n",
       "    }\n",
       "\n",
       "    .dataframe thead th {\n",
       "        text-align: right;\n",
       "    }\n",
       "</style>\n",
       "<table border=\"1\" class=\"dataframe\">\n",
       "  <thead>\n",
       "    <tr style=\"text-align: right;\">\n",
       "      <th></th>\n",
       "      <th>model</th>\n",
       "      <th>unaware_model</th>\n",
       "      <th>post_prossesing_1</th>\n",
       "      <th>post_prossesing_2</th>\n",
       "      <th>post_prossesing_3</th>\n",
       "    </tr>\n",
       "  </thead>\n",
       "  <tbody>\n",
       "    <tr>\n",
       "      <th>accuracy</th>\n",
       "      <td>0.856804</td>\n",
       "      <td>0.857595</td>\n",
       "      <td>0.856409</td>\n",
       "      <td>0.854102</td>\n",
       "      <td>0.833871</td>\n",
       "    </tr>\n",
       "    <tr>\n",
       "      <th>precision</th>\n",
       "      <td>0.792714</td>\n",
       "      <td>0.796717</td>\n",
       "      <td>0.799742</td>\n",
       "      <td>0.783299</td>\n",
       "      <td>0.842243</td>\n",
       "    </tr>\n",
       "    <tr>\n",
       "      <th>recall</th>\n",
       "      <td>0.530104</td>\n",
       "      <td>0.530104</td>\n",
       "      <td>0.520022</td>\n",
       "      <td>0.525343</td>\n",
       "      <td>0.361803</td>\n",
       "    </tr>\n",
       "    <tr>\n",
       "      <th>f1_score</th>\n",
       "      <td>0.635342</td>\n",
       "      <td>0.636624</td>\n",
       "      <td>0.630239</td>\n",
       "      <td>0.628897</td>\n",
       "      <td>0.506170</td>\n",
       "    </tr>\n",
       "    <tr>\n",
       "      <th>demographic_metric</th>\n",
       "      <td>0.140942</td>\n",
       "      <td>0.140632</td>\n",
       "      <td>0.146162</td>\n",
       "      <td>0.141049</td>\n",
       "      <td>0.068056</td>\n",
       "    </tr>\n",
       "    <tr>\n",
       "      <th>equalized_opportunities</th>\n",
       "      <td>0.066061</td>\n",
       "      <td>0.066061</td>\n",
       "      <td>0.102008</td>\n",
       "      <td>0.070817</td>\n",
       "      <td>0.026245</td>\n",
       "    </tr>\n",
       "    <tr>\n",
       "      <th>equalized_odds</th>\n",
       "      <td>0.115660</td>\n",
       "      <td>0.115043</td>\n",
       "      <td>0.153497</td>\n",
       "      <td>0.121290</td>\n",
       "      <td>0.026951</td>\n",
       "    </tr>\n",
       "  </tbody>\n",
       "</table>\n",
       "</div>"
      ],
      "text/plain": [
       "                            model  unaware_model  post_prossesing_1  \\\n",
       "accuracy                 0.856804       0.857595           0.856409   \n",
       "precision                0.792714       0.796717           0.799742   \n",
       "recall                   0.530104       0.530104           0.520022   \n",
       "f1_score                 0.635342       0.636624           0.630239   \n",
       "demographic_metric       0.140942       0.140632           0.146162   \n",
       "equalized_opportunities  0.066061       0.066061           0.102008   \n",
       "equalized_odds           0.115660       0.115043           0.153497   \n",
       "\n",
       "                         post_prossesing_2  post_prossesing_3  \n",
       "accuracy                          0.854102           0.833871  \n",
       "precision                         0.783299           0.842243  \n",
       "recall                            0.525343           0.361803  \n",
       "f1_score                          0.628897           0.506170  \n",
       "demographic_metric                0.141049           0.068056  \n",
       "equalized_opportunities           0.070817           0.026245  \n",
       "equalized_odds                    0.121290           0.026951  "
      ]
     },
     "execution_count": 45,
     "metadata": {},
     "output_type": "execute_result"
    }
   ],
   "source": [
    "all_results"
   ]
  },
  {
   "cell_type": "code",
   "execution_count": 46,
   "metadata": {},
   "outputs": [
    {
     "data": {
      "text/plain": [
       "<AxesSubplot: >"
      ]
     },
     "execution_count": 46,
     "metadata": {},
     "output_type": "execute_result"
    },
    {
     "data": {
      "image/png": "[encoded data removed]",
      "text/plain": [
       "<Figure size 640x480 with 1 Axes>"
      ]
     },
     "metadata": {},
     "output_type": "display_data"
    }
   ],
   "source": [
    "all_results.plot(kind=\"bar\")"
   ]
  },
  {
   "cell_type": "code",
   "execution_count": 47,
   "metadata": {},
   "outputs": [
    {
     "data": {
      "text/html": [
       "<div>\n",
       "<style scoped>\n",
       "    .dataframe tbody tr th:only-of-type {\n",
       "        vertical-align: middle;\n",
       "    }\n",
       "\n",
       "    .dataframe tbody tr th {\n",
       "        vertical-align: top;\n",
       "    }\n",
       "\n",
       "    .dataframe thead th {\n",
       "        text-align: right;\n",
       "    }\n",
       "</style>\n",
       "<table border=\"1\" class=\"dataframe\">\n",
       "  <thead>\n",
       "    <tr style=\"text-align: right;\">\n",
       "      <th></th>\n",
       "      <th>model</th>\n",
       "      <th>unaware_model</th>\n",
       "      <th>post_prossesing_1</th>\n",
       "      <th>post_prossesing_2</th>\n",
       "      <th>post_prossesing_3</th>\n",
       "    </tr>\n",
       "  </thead>\n",
       "  <tbody>\n",
       "    <tr>\n",
       "      <th>accuracy</th>\n",
       "      <td>0.856804</td>\n",
       "      <td>0.857595</td>\n",
       "      <td>0.856409</td>\n",
       "      <td>0.854102</td>\n",
       "      <td>0.833871</td>\n",
       "    </tr>\n",
       "    <tr>\n",
       "      <th>precision</th>\n",
       "      <td>0.792714</td>\n",
       "      <td>0.796717</td>\n",
       "      <td>0.799742</td>\n",
       "      <td>0.783299</td>\n",
       "      <td>0.842243</td>\n",
       "    </tr>\n",
       "    <tr>\n",
       "      <th>recall</th>\n",
       "      <td>0.530104</td>\n",
       "      <td>0.530104</td>\n",
       "      <td>0.520022</td>\n",
       "      <td>0.525343</td>\n",
       "      <td>0.361803</td>\n",
       "    </tr>\n",
       "    <tr>\n",
       "      <th>f1_score</th>\n",
       "      <td>0.635342</td>\n",
       "      <td>0.636624</td>\n",
       "      <td>0.630239</td>\n",
       "      <td>0.628897</td>\n",
       "      <td>0.506170</td>\n",
       "    </tr>\n",
       "    <tr>\n",
       "      <th>demographic_metric</th>\n",
       "      <td>0.140942</td>\n",
       "      <td>0.140632</td>\n",
       "      <td>0.146162</td>\n",
       "      <td>0.141049</td>\n",
       "      <td>0.068056</td>\n",
       "    </tr>\n",
       "    <tr>\n",
       "      <th>equalized_opportunities</th>\n",
       "      <td>0.066061</td>\n",
       "      <td>0.066061</td>\n",
       "      <td>0.102008</td>\n",
       "      <td>0.070817</td>\n",
       "      <td>0.026245</td>\n",
       "    </tr>\n",
       "    <tr>\n",
       "      <th>equalized_odds</th>\n",
       "      <td>0.115660</td>\n",
       "      <td>0.115043</td>\n",
       "      <td>0.153497</td>\n",
       "      <td>0.121290</td>\n",
       "      <td>0.026951</td>\n",
       "    </tr>\n",
       "  </tbody>\n",
       "</table>\n",
       "</div>"
      ],
      "text/plain": [
       "                            model  unaware_model  post_prossesing_1  \\\n",
       "accuracy                 0.856804       0.857595           0.856409   \n",
       "precision                0.792714       0.796717           0.799742   \n",
       "recall                   0.530104       0.530104           0.520022   \n",
       "f1_score                 0.635342       0.636624           0.630239   \n",
       "demographic_metric       0.140942       0.140632           0.146162   \n",
       "equalized_opportunities  0.066061       0.066061           0.102008   \n",
       "equalized_odds           0.115660       0.115043           0.153497   \n",
       "\n",
       "                         post_prossesing_2  post_prossesing_3  \n",
       "accuracy                          0.854102           0.833871  \n",
       "precision                         0.783299           0.842243  \n",
       "recall                            0.525343           0.361803  \n",
       "f1_score                          0.628897           0.506170  \n",
       "demographic_metric                0.141049           0.068056  \n",
       "equalized_opportunities           0.070817           0.026245  \n",
       "equalized_odds                    0.121290           0.026951  "
      ]
     },
     "execution_count": 47,
     "metadata": {},
     "output_type": "execute_result"
    }
   ],
   "source": [
    "all_results"
   ]
  },
  {
   "cell_type": "markdown",
   "metadata": {},
   "source": [
    "# B2. Post-Processing"
   ]
  },
  {
   "cell_type": "code",
   "execution_count": 48,
   "metadata": {},
   "outputs": [],
   "source": [
    "propa = model.predict_proba(test_data[sensitive_feature+non_sensitive_features])"
   ]
  },
  {
   "cell_type": "code",
   "execution_count": 49,
   "metadata": {},
   "outputs": [],
   "source": [
    "ts = np.linspace(0,1,50)"
   ]
  },
  {
   "cell_type": "code",
   "execution_count": 50,
   "metadata": {},
   "outputs": [],
   "source": [
    "p = propa[:, 1]"
   ]
  },
  {
   "cell_type": "code",
   "execution_count": 51,
   "metadata": {},
   "outputs": [
    {
     "name": "stderr",
     "output_type": "stream",
     "text": [
      "/var/folders/cr/h97h0km17v725pm92zr1lrk80000gn/T/ipykernel_82560/4292309794.py:10: RuntimeWarning: invalid value encountered in long_scalars\n",
      "  precision_score = TP  / (TP + FP)\n"
     ]
    }
   ],
   "source": [
    "metric_ts = []\n",
    "for t in ts:\n",
    "    class_1_mask = p >= t\n",
    "    \n",
    "    prediction = pd.Series(class_1_mask * 1,index=test_data.index)\n",
    "    \n",
    "    metrics = compute_metric(y_pred = prediction,\n",
    "                             y_true = test_data[target_column],\n",
    "                             sensitive_feature = test_data[sensitive_feature[0]])\n",
    "    \n",
    "    metric_ts += [metrics]"
   ]
  },
  {
   "cell_type": "code",
   "execution_count": 52,
   "metadata": {},
   "outputs": [],
   "source": [
    "ts_results = pd.DataFrame(metric_ts,index = ts)"
   ]
  },
  {
   "cell_type": "code",
   "execution_count": 53,
   "metadata": {},
   "outputs": [
    {
     "data": {
      "text/html": [
       "<div>\n",
       "<style scoped>\n",
       "    .dataframe tbody tr th:only-of-type {\n",
       "        vertical-align: middle;\n",
       "    }\n",
       "\n",
       "    .dataframe tbody tr th {\n",
       "        vertical-align: top;\n",
       "    }\n",
       "\n",
       "    .dataframe thead th {\n",
       "        text-align: right;\n",
       "    }\n",
       "</style>\n",
       "<table border=\"1\" class=\"dataframe\">\n",
       "  <thead>\n",
       "    <tr style=\"text-align: right;\">\n",
       "      <th></th>\n",
       "      <th>accuracy</th>\n",
       "      <th>precision</th>\n",
       "      <th>recall</th>\n",
       "      <th>f1_score</th>\n",
       "      <th>demographic_metric</th>\n",
       "      <th>equalized_opportunities</th>\n",
       "      <th>equalized_odds</th>\n",
       "    </tr>\n",
       "  </thead>\n",
       "  <tbody>\n",
       "    <tr>\n",
       "      <th>0.000000</th>\n",
       "      <td>0.235321</td>\n",
       "      <td>0.235321</td>\n",
       "      <td>1.000000</td>\n",
       "      <td>0.380988</td>\n",
       "      <td>0.000000</td>\n",
       "      <td>0.000000</td>\n",
       "      <td>0.000000</td>\n",
       "    </tr>\n",
       "    <tr>\n",
       "      <th>0.020408</th>\n",
       "      <td>0.463130</td>\n",
       "      <td>0.304478</td>\n",
       "      <td>0.997760</td>\n",
       "      <td>0.466575</td>\n",
       "      <td>0.202811</td>\n",
       "      <td>0.000582</td>\n",
       "      <td>0.181477</td>\n",
       "    </tr>\n",
       "    <tr>\n",
       "      <th>0.040816</th>\n",
       "      <td>0.569951</td>\n",
       "      <td>0.352383</td>\n",
       "      <td>0.987679</td>\n",
       "      <td>0.519440</td>\n",
       "      <td>0.334621</td>\n",
       "      <td>0.029111</td>\n",
       "      <td>0.336101</td>\n",
       "    </tr>\n",
       "    <tr>\n",
       "      <th>0.061224</th>\n",
       "      <td>0.630774</td>\n",
       "      <td>0.387411</td>\n",
       "      <td>0.978997</td>\n",
       "      <td>0.555141</td>\n",
       "      <td>0.378643</td>\n",
       "      <td>0.045878</td>\n",
       "      <td>0.387093</td>\n",
       "    </tr>\n",
       "    <tr>\n",
       "      <th>0.081633</th>\n",
       "      <td>0.666161</td>\n",
       "      <td>0.411213</td>\n",
       "      <td>0.969476</td>\n",
       "      <td>0.577481</td>\n",
       "      <td>0.380622</td>\n",
       "      <td>0.065814</td>\n",
       "      <td>0.396894</td>\n",
       "    </tr>\n",
       "    <tr>\n",
       "      <th>0.102041</th>\n",
       "      <td>0.696079</td>\n",
       "      <td>0.434055</td>\n",
       "      <td>0.959395</td>\n",
       "      <td>0.597697</td>\n",
       "      <td>0.373076</td>\n",
       "      <td>0.074661</td>\n",
       "      <td>0.387574</td>\n",
       "    </tr>\n",
       "    <tr>\n",
       "      <th>0.122449</th>\n",
       "      <td>0.723690</td>\n",
       "      <td>0.457984</td>\n",
       "      <td>0.949314</td>\n",
       "      <td>0.617880</td>\n",
       "      <td>0.380504</td>\n",
       "      <td>0.089761</td>\n",
       "      <td>0.402484</td>\n",
       "    </tr>\n",
       "    <tr>\n",
       "      <th>0.142857</th>\n",
       "      <td>0.743591</td>\n",
       "      <td>0.477240</td>\n",
       "      <td>0.939513</td>\n",
       "      <td>0.632959</td>\n",
       "      <td>0.378262</td>\n",
       "      <td>0.109364</td>\n",
       "      <td>0.411523</td>\n",
       "    </tr>\n",
       "    <tr>\n",
       "      <th>0.163265</th>\n",
       "      <td>0.756969</td>\n",
       "      <td>0.491301</td>\n",
       "      <td>0.925231</td>\n",
       "      <td>0.641803</td>\n",
       "      <td>0.375319</td>\n",
       "      <td>0.129888</td>\n",
       "      <td>0.423132</td>\n",
       "    </tr>\n",
       "    <tr>\n",
       "      <th>0.183673</th>\n",
       "      <td>0.768501</td>\n",
       "      <td>0.504488</td>\n",
       "      <td>0.912910</td>\n",
       "      <td>0.649855</td>\n",
       "      <td>0.368894</td>\n",
       "      <td>0.140237</td>\n",
       "      <td>0.422302</td>\n",
       "    </tr>\n",
       "    <tr>\n",
       "      <th>0.204082</th>\n",
       "      <td>0.777990</td>\n",
       "      <td>0.516160</td>\n",
       "      <td>0.903388</td>\n",
       "      <td>0.656960</td>\n",
       "      <td>0.360472</td>\n",
       "      <td>0.145581</td>\n",
       "      <td>0.415053</td>\n",
       "    </tr>\n",
       "    <tr>\n",
       "      <th>0.224490</th>\n",
       "      <td>0.786491</td>\n",
       "      <td>0.527378</td>\n",
       "      <td>0.892747</td>\n",
       "      <td>0.663062</td>\n",
       "      <td>0.350683</td>\n",
       "      <td>0.143337</td>\n",
       "      <td>0.400330</td>\n",
       "    </tr>\n",
       "    <tr>\n",
       "      <th>0.244898</th>\n",
       "      <td>0.795783</td>\n",
       "      <td>0.540522</td>\n",
       "      <td>0.881546</td>\n",
       "      <td>0.670144</td>\n",
       "      <td>0.345196</td>\n",
       "      <td>0.142512</td>\n",
       "      <td>0.391907</td>\n",
       "    </tr>\n",
       "    <tr>\n",
       "      <th>0.265306</th>\n",
       "      <td>0.803756</td>\n",
       "      <td>0.552805</td>\n",
       "      <td>0.869224</td>\n",
       "      <td>0.675811</td>\n",
       "      <td>0.342965</td>\n",
       "      <td>0.159115</td>\n",
       "      <td>0.402459</td>\n",
       "    </tr>\n",
       "    <tr>\n",
       "      <th>0.285714</th>\n",
       "      <td>0.810675</td>\n",
       "      <td>0.564630</td>\n",
       "      <td>0.853822</td>\n",
       "      <td>0.679746</td>\n",
       "      <td>0.333950</td>\n",
       "      <td>0.176221</td>\n",
       "      <td>0.405910</td>\n",
       "    </tr>\n",
       "    <tr>\n",
       "      <th>0.306122</th>\n",
       "      <td>0.820560</td>\n",
       "      <td>0.582748</td>\n",
       "      <td>0.836180</td>\n",
       "      <td>0.686832</td>\n",
       "      <td>0.320633</td>\n",
       "      <td>0.178152</td>\n",
       "      <td>0.391006</td>\n",
       "    </tr>\n",
       "    <tr>\n",
       "      <th>0.326531</th>\n",
       "      <td>0.829456</td>\n",
       "      <td>0.601278</td>\n",
       "      <td>0.817138</td>\n",
       "      <td>0.692783</td>\n",
       "      <td>0.303689</td>\n",
       "      <td>0.174247</td>\n",
       "      <td>0.367348</td>\n",
       "    </tr>\n",
       "    <tr>\n",
       "      <th>0.346939</th>\n",
       "      <td>0.839539</td>\n",
       "      <td>0.626391</td>\n",
       "      <td>0.788295</td>\n",
       "      <td>0.698078</td>\n",
       "      <td>0.280052</td>\n",
       "      <td>0.162845</td>\n",
       "      <td>0.330482</td>\n",
       "    </tr>\n",
       "    <tr>\n",
       "      <th>0.367347</th>\n",
       "      <td>0.846524</td>\n",
       "      <td>0.649711</td>\n",
       "      <td>0.754691</td>\n",
       "      <td>0.698277</td>\n",
       "      <td>0.257413</td>\n",
       "      <td>0.145776</td>\n",
       "      <td>0.291844</td>\n",
       "    </tr>\n",
       "    <tr>\n",
       "      <th>0.387755</th>\n",
       "      <td>0.851862</td>\n",
       "      <td>0.674033</td>\n",
       "      <td>0.717446</td>\n",
       "      <td>0.695062</td>\n",
       "      <td>0.232613</td>\n",
       "      <td>0.118120</td>\n",
       "      <td>0.242874</td>\n",
       "    </tr>\n",
       "    <tr>\n",
       "      <th>0.408163</th>\n",
       "      <td>0.856672</td>\n",
       "      <td>0.704692</td>\n",
       "      <td>0.672921</td>\n",
       "      <td>0.688440</td>\n",
       "      <td>0.209623</td>\n",
       "      <td>0.110982</td>\n",
       "      <td>0.214399</td>\n",
       "    </tr>\n",
       "    <tr>\n",
       "      <th>0.428571</th>\n",
       "      <td>0.858715</td>\n",
       "      <td>0.734627</td>\n",
       "      <td>0.625595</td>\n",
       "      <td>0.675741</td>\n",
       "      <td>0.183812</td>\n",
       "      <td>0.100511</td>\n",
       "      <td>0.180985</td>\n",
       "    </tr>\n",
       "    <tr>\n",
       "      <th>0.448980</th>\n",
       "      <td>0.858517</td>\n",
       "      <td>0.748257</td>\n",
       "      <td>0.600952</td>\n",
       "      <td>0.666563</td>\n",
       "      <td>0.172787</td>\n",
       "      <td>0.087855</td>\n",
       "      <td>0.160973</td>\n",
       "    </tr>\n",
       "    <tr>\n",
       "      <th>0.469388</th>\n",
       "      <td>0.859044</td>\n",
       "      <td>0.772036</td>\n",
       "      <td>0.569028</td>\n",
       "      <td>0.655167</td>\n",
       "      <td>0.156968</td>\n",
       "      <td>0.076955</td>\n",
       "      <td>0.137470</td>\n",
       "    </tr>\n",
       "    <tr>\n",
       "      <th>0.489796</th>\n",
       "      <td>0.857199</td>\n",
       "      <td>0.787941</td>\n",
       "      <td>0.537945</td>\n",
       "      <td>0.639374</td>\n",
       "      <td>0.143560</td>\n",
       "      <td>0.060802</td>\n",
       "      <td>0.113160</td>\n",
       "    </tr>\n",
       "    <tr>\n",
       "      <th>0.510204</th>\n",
       "      <td>0.856672</td>\n",
       "      <td>0.797021</td>\n",
       "      <td>0.524503</td>\n",
       "      <td>0.632663</td>\n",
       "      <td>0.140108</td>\n",
       "      <td>0.076071</td>\n",
       "      <td>0.123841</td>\n",
       "    </tr>\n",
       "    <tr>\n",
       "      <th>0.530612</th>\n",
       "      <td>0.856540</td>\n",
       "      <td>0.805970</td>\n",
       "      <td>0.514142</td>\n",
       "      <td>0.627800</td>\n",
       "      <td>0.136775</td>\n",
       "      <td>0.080415</td>\n",
       "      <td>0.125028</td>\n",
       "    </tr>\n",
       "    <tr>\n",
       "      <th>0.551020</th>\n",
       "      <td>0.856804</td>\n",
       "      <td>0.817727</td>\n",
       "      <td>0.503780</td>\n",
       "      <td>0.623462</td>\n",
       "      <td>0.133140</td>\n",
       "      <td>0.084759</td>\n",
       "      <td>0.125726</td>\n",
       "    </tr>\n",
       "    <tr>\n",
       "      <th>0.571429</th>\n",
       "      <td>0.856343</td>\n",
       "      <td>0.833893</td>\n",
       "      <td>0.486418</td>\n",
       "      <td>0.614432</td>\n",
       "      <td>0.127982</td>\n",
       "      <td>0.099531</td>\n",
       "      <td>0.134505</td>\n",
       "    </tr>\n",
       "    <tr>\n",
       "      <th>0.591837</th>\n",
       "      <td>0.854300</td>\n",
       "      <td>0.847293</td>\n",
       "      <td>0.464576</td>\n",
       "      <td>0.600109</td>\n",
       "      <td>0.121438</td>\n",
       "      <td>0.102716</td>\n",
       "      <td>0.133193</td>\n",
       "    </tr>\n",
       "    <tr>\n",
       "      <th>0.612245</th>\n",
       "      <td>0.851137</td>\n",
       "      <td>0.862431</td>\n",
       "      <td>0.437132</td>\n",
       "      <td>0.580190</td>\n",
       "      <td>0.113785</td>\n",
       "      <td>0.109658</td>\n",
       "      <td>0.134851</td>\n",
       "    </tr>\n",
       "    <tr>\n",
       "      <th>0.632653</th>\n",
       "      <td>0.847710</td>\n",
       "      <td>0.881818</td>\n",
       "      <td>0.407449</td>\n",
       "      <td>0.557364</td>\n",
       "      <td>0.105822</td>\n",
       "      <td>0.118102</td>\n",
       "      <td>0.137806</td>\n",
       "    </tr>\n",
       "    <tr>\n",
       "      <th>0.653061</th>\n",
       "      <td>0.845206</td>\n",
       "      <td>0.900919</td>\n",
       "      <td>0.384486</td>\n",
       "      <td>0.538960</td>\n",
       "      <td>0.098000</td>\n",
       "      <td>0.115785</td>\n",
       "      <td>0.130694</td>\n",
       "    </tr>\n",
       "    <tr>\n",
       "      <th>0.673469</th>\n",
       "      <td>0.840593</td>\n",
       "      <td>0.922287</td>\n",
       "      <td>0.352282</td>\n",
       "      <td>0.509828</td>\n",
       "      <td>0.087974</td>\n",
       "      <td>0.102467</td>\n",
       "      <td>0.113886</td>\n",
       "    </tr>\n",
       "    <tr>\n",
       "      <th>0.693878</th>\n",
       "      <td>0.836442</td>\n",
       "      <td>0.939467</td>\n",
       "      <td>0.325959</td>\n",
       "      <td>0.483992</td>\n",
       "      <td>0.079073</td>\n",
       "      <td>0.085726</td>\n",
       "      <td>0.094556</td>\n",
       "    </tr>\n",
       "    <tr>\n",
       "      <th>0.714286</th>\n",
       "      <td>0.832883</td>\n",
       "      <td>0.953550</td>\n",
       "      <td>0.304677</td>\n",
       "      <td>0.461800</td>\n",
       "      <td>0.073154</td>\n",
       "      <td>0.083324</td>\n",
       "      <td>0.089756</td>\n",
       "    </tr>\n",
       "    <tr>\n",
       "      <th>0.734694</th>\n",
       "      <td>0.827282</td>\n",
       "      <td>0.975000</td>\n",
       "      <td>0.273033</td>\n",
       "      <td>0.426602</td>\n",
       "      <td>0.062366</td>\n",
       "      <td>0.066504</td>\n",
       "      <td>0.069326</td>\n",
       "    </tr>\n",
       "    <tr>\n",
       "      <th>0.755102</th>\n",
       "      <td>0.823130</td>\n",
       "      <td>0.982590</td>\n",
       "      <td>0.252870</td>\n",
       "      <td>0.402227</td>\n",
       "      <td>0.056370</td>\n",
       "      <td>0.057096</td>\n",
       "      <td>0.058643</td>\n",
       "    </tr>\n",
       "    <tr>\n",
       "      <th>0.775510</th>\n",
       "      <td>0.819440</td>\n",
       "      <td>0.989399</td>\n",
       "      <td>0.235228</td>\n",
       "      <td>0.380090</td>\n",
       "      <td>0.051468</td>\n",
       "      <td>0.048604</td>\n",
       "      <td>0.049519</td>\n",
       "    </tr>\n",
       "    <tr>\n",
       "      <th>0.795918</th>\n",
       "      <td>0.818451</td>\n",
       "      <td>0.991566</td>\n",
       "      <td>0.230468</td>\n",
       "      <td>0.374006</td>\n",
       "      <td>0.050462</td>\n",
       "      <td>0.049191</td>\n",
       "      <td>0.049823</td>\n",
       "    </tr>\n",
       "    <tr>\n",
       "      <th>0.816327</th>\n",
       "      <td>0.816409</td>\n",
       "      <td>0.991239</td>\n",
       "      <td>0.221787</td>\n",
       "      <td>0.362471</td>\n",
       "      <td>0.047967</td>\n",
       "      <td>0.043027</td>\n",
       "      <td>0.043659</td>\n",
       "    </tr>\n",
       "    <tr>\n",
       "      <th>0.836735</th>\n",
       "      <td>0.815025</td>\n",
       "      <td>0.993540</td>\n",
       "      <td>0.215346</td>\n",
       "      <td>0.353970</td>\n",
       "      <td>0.047247</td>\n",
       "      <td>0.047869</td>\n",
       "      <td>0.048216</td>\n",
       "    </tr>\n",
       "    <tr>\n",
       "      <th>0.857143</th>\n",
       "      <td>0.813245</td>\n",
       "      <td>0.998647</td>\n",
       "      <td>0.206665</td>\n",
       "      <td>0.342459</td>\n",
       "      <td>0.047301</td>\n",
       "      <td>0.060466</td>\n",
       "      <td>0.060608</td>\n",
       "    </tr>\n",
       "    <tr>\n",
       "      <th>0.877551</th>\n",
       "      <td>0.810544</td>\n",
       "      <td>1.000000</td>\n",
       "      <td>0.194903</td>\n",
       "      <td>0.326225</td>\n",
       "      <td>0.046853</td>\n",
       "      <td>0.073567</td>\n",
       "      <td>0.073567</td>\n",
       "    </tr>\n",
       "    <tr>\n",
       "      <th>0.897959</th>\n",
       "      <td>0.807578</td>\n",
       "      <td>1.000000</td>\n",
       "      <td>0.182302</td>\n",
       "      <td>0.308385</td>\n",
       "      <td>0.045028</td>\n",
       "      <td>0.077329</td>\n",
       "      <td>0.077329</td>\n",
       "    </tr>\n",
       "    <tr>\n",
       "      <th>0.918367</th>\n",
       "      <td>0.801252</td>\n",
       "      <td>1.000000</td>\n",
       "      <td>0.155419</td>\n",
       "      <td>0.269026</td>\n",
       "      <td>0.039896</td>\n",
       "      <td>0.076598</td>\n",
       "      <td>0.076598</td>\n",
       "    </tr>\n",
       "    <tr>\n",
       "      <th>0.938776</th>\n",
       "      <td>0.794530</td>\n",
       "      <td>1.000000</td>\n",
       "      <td>0.126855</td>\n",
       "      <td>0.225149</td>\n",
       "      <td>0.035052</td>\n",
       "      <td>0.080122</td>\n",
       "      <td>0.080122</td>\n",
       "    </tr>\n",
       "    <tr>\n",
       "      <th>0.959184</th>\n",
       "      <td>0.781680</td>\n",
       "      <td>1.000000</td>\n",
       "      <td>0.072249</td>\n",
       "      <td>0.134761</td>\n",
       "      <td>0.020660</td>\n",
       "      <td>0.050561</td>\n",
       "      <td>0.050561</td>\n",
       "    </tr>\n",
       "    <tr>\n",
       "      <th>0.979592</th>\n",
       "      <td>0.769226</td>\n",
       "      <td>1.000000</td>\n",
       "      <td>0.019322</td>\n",
       "      <td>0.037912</td>\n",
       "      <td>0.006865</td>\n",
       "      <td>0.023000</td>\n",
       "      <td>0.023000</td>\n",
       "    </tr>\n",
       "    <tr>\n",
       "      <th>1.000000</th>\n",
       "      <td>0.764679</td>\n",
       "      <td>NaN</td>\n",
       "      <td>0.000000</td>\n",
       "      <td>NaN</td>\n",
       "      <td>0.000000</td>\n",
       "      <td>0.000000</td>\n",
       "      <td>0.000000</td>\n",
       "    </tr>\n",
       "  </tbody>\n",
       "</table>\n",
       "</div>"
      ],
      "text/plain": [
       "          accuracy  precision    recall  f1_score  demographic_metric  \\\n",
       "0.000000  0.235321   0.235321  1.000000  0.380988            0.000000   \n",
       "0.020408  0.463130   0.304478  0.997760  0.466575            0.202811   \n",
       "0.040816  0.569951   0.352383  0.987679  0.519440            0.334621   \n",
       "0.061224  0.630774   0.387411  0.978997  0.555141            0.378643   \n",
       "0.081633  0.666161   0.411213  0.969476  0.577481            0.380622   \n",
       "0.102041  0.696079   0.434055  0.959395  0.597697            0.373076   \n",
       "0.122449  0.723690   0.457984  0.949314  0.617880            0.380504   \n",
       "0.142857  0.743591   0.477240  0.939513  0.632959            0.378262   \n",
       "0.163265  0.756969   0.491301  0.925231  0.641803            0.375319   \n",
       "0.183673  0.768501   0.504488  0.912910  0.649855            0.368894   \n",
       "0.204082  0.777990   0.516160  0.903388  0.656960            0.360472   \n",
       "0.224490  0.786491   0.527378  0.892747  0.663062            0.350683   \n",
       "0.244898  0.795783   0.540522  0.881546  0.670144            0.345196   \n",
       "0.265306  0.803756   0.552805  0.869224  0.675811            0.342965   \n",
       "0.285714  0.810675   0.564630  0.853822  0.679746            0.333950   \n",
       "0.306122  0.820560   0.582748  0.836180  0.686832            0.320633   \n",
       "0.326531  0.829456   0.601278  0.817138  0.692783            0.303689   \n",
       "0.346939  0.839539   0.626391  0.788295  0.698078            0.280052   \n",
       "0.367347  0.846524   0.649711  0.754691  0.698277            0.257413   \n",
       "0.387755  0.851862   0.674033  0.717446  0.695062            0.232613   \n",
       "0.408163  0.856672   0.704692  0.672921  0.688440            0.209623   \n",
       "0.428571  0.858715   0.734627  0.625595  0.675741            0.183812   \n",
       "0.448980  0.858517   0.748257  0.600952  0.666563            0.172787   \n",
       "0.469388  0.859044   0.772036  0.569028  0.655167            0.156968   \n",
       "0.489796  0.857199   0.787941  0.537945  0.639374            0.143560   \n",
       "0.510204  0.856672   0.797021  0.524503  0.632663            0.140108   \n",
       "0.530612  0.856540   0.805970  0.514142  0.627800            0.136775   \n",
       "0.551020  0.856804   0.817727  0.503780  0.623462            0.133140   \n",
       "0.571429  0.856343   0.833893  0.486418  0.614432            0.127982   \n",
       "0.591837  0.854300   0.847293  0.464576  0.600109            0.121438   \n",
       "0.612245  0.851137   0.862431  0.437132  0.580190            0.113785   \n",
       "0.632653  0.847710   0.881818  0.407449  0.557364            0.105822   \n",
       "0.653061  0.845206   0.900919  0.384486  0.538960            0.098000   \n",
       "0.673469  0.840593   0.922287  0.352282  0.509828            0.087974   \n",
       "0.693878  0.836442   0.939467  0.325959  0.483992            0.079073   \n",
       "0.714286  0.832883   0.953550  0.304677  0.461800            0.073154   \n",
       "0.734694  0.827282   0.975000  0.273033  0.426602            0.062366   \n",
       "0.755102  0.823130   0.982590  0.252870  0.402227            0.056370   \n",
       "0.775510  0.819440   0.989399  0.235228  0.380090            0.051468   \n",
       "0.795918  0.818451   0.991566  0.230468  0.374006            0.050462   \n",
       "0.816327  0.816409   0.991239  0.221787  0.362471            0.047967   \n",
       "0.836735  0.815025   0.993540  0.215346  0.353970            0.047247   \n",
       "0.857143  0.813245   0.998647  0.206665  0.342459            0.047301   \n",
       "0.877551  0.810544   1.000000  0.194903  0.326225            0.046853   \n",
       "0.897959  0.807578   1.000000  0.182302  0.308385            0.045028   \n",
       "0.918367  0.801252   1.000000  0.155419  0.269026            0.039896   \n",
       "0.938776  0.794530   1.000000  0.126855  0.225149            0.035052   \n",
       "0.959184  0.781680   1.000000  0.072249  0.134761            0.020660   \n",
       "0.979592  0.769226   1.000000  0.019322  0.037912            0.006865   \n",
       "1.000000  0.764679        NaN  0.000000       NaN            0.000000   \n",
       "\n",
       "          equalized_opportunities  equalized_odds  \n",
       "0.000000                 0.000000        0.000000  \n",
       "0.020408                 0.000582        0.181477  \n",
       "0.040816                 0.029111        0.336101  \n",
       "0.061224                 0.045878        0.387093  \n",
       "0.081633                 0.065814        0.396894  \n",
       "0.102041                 0.074661        0.387574  \n",
       "0.122449                 0.089761        0.402484  \n",
       "0.142857                 0.109364        0.411523  \n",
       "0.163265                 0.129888        0.423132  \n",
       "0.183673                 0.140237        0.422302  \n",
       "0.204082                 0.145581        0.415053  \n",
       "0.224490                 0.143337        0.400330  \n",
       "0.244898                 0.142512        0.391907  \n",
       "0.265306                 0.159115        0.402459  \n",
       "0.285714                 0.176221        0.405910  \n",
       "0.306122                 0.178152        0.391006  \n",
       "0.326531                 0.174247        0.367348  \n",
       "0.346939                 0.162845        0.330482  \n",
       "0.367347                 0.145776        0.291844  \n",
       "0.387755                 0.118120        0.242874  \n",
       "0.408163                 0.110982        0.214399  \n",
       "0.428571                 0.100511        0.180985  \n",
       "0.448980                 0.087855        0.160973  \n",
       "0.469388                 0.076955        0.137470  \n",
       "0.489796                 0.060802        0.113160  \n",
       "0.510204                 0.076071        0.123841  \n",
       "0.530612                 0.080415        0.125028  \n",
       "0.551020                 0.084759        0.125726  \n",
       "0.571429                 0.099531        0.134505  \n",
       "0.591837                 0.102716        0.133193  \n",
       "0.612245                 0.109658        0.134851  \n",
       "0.632653                 0.118102        0.137806  \n",
       "0.653061                 0.115785        0.130694  \n",
       "0.673469                 0.102467        0.113886  \n",
       "0.693878                 0.085726        0.094556  \n",
       "0.714286                 0.083324        0.089756  \n",
       "0.734694                 0.066504        0.069326  \n",
       "0.755102                 0.057096        0.058643  \n",
       "0.775510                 0.048604        0.049519  \n",
       "0.795918                 0.049191        0.049823  \n",
       "0.816327                 0.043027        0.043659  \n",
       "0.836735                 0.047869        0.048216  \n",
       "0.857143                 0.060466        0.060608  \n",
       "0.877551                 0.073567        0.073567  \n",
       "0.897959                 0.077329        0.077329  \n",
       "0.918367                 0.076598        0.076598  \n",
       "0.938776                 0.080122        0.080122  \n",
       "0.959184                 0.050561        0.050561  \n",
       "0.979592                 0.023000        0.023000  \n",
       "1.000000                 0.000000        0.000000  "
      ]
     },
     "execution_count": 53,
     "metadata": {},
     "output_type": "execute_result"
    }
   ],
   "source": [
    "ts_results"
   ]
  },
  {
   "cell_type": "code",
   "execution_count": 54,
   "metadata": {
    "scrolled": false
   },
   "outputs": [
    {
     "data": {
      "text/plain": [
       "<AxesSubplot: >"
      ]
     },
     "execution_count": 54,
     "metadata": {},
     "output_type": "execute_result"
    },
    {
     "data": {
      "image/png": "[encoded data removed]",
      "text/plain": [
       "<Figure size 640x480 with 1 Axes>"
      ]
     },
     "metadata": {},
     "output_type": "display_data"
    }
   ],
   "source": [
    "ts_results.plot()"
   ]
  },
  {
   "cell_type": "markdown",
   "metadata": {},
   "source": [
    "# different classification theshold for each group"
   ]
  },
  {
   "cell_type": "markdown",
   "metadata": {},
   "source": [
    "# implement roc curve"
   ]
  },
  {
   "cell_type": "code",
   "execution_count": 55,
   "metadata": {},
   "outputs": [],
   "source": [
    "def roc_curve(y_true, scores, thresholds):\n",
    "    \"\"\"\n",
    "    Custom impementation of roc curve for binary clasification.\n",
    "    \"\"\"\n",
    "    number_of_positives = (y_true == 1).sum()\n",
    "    tpr, fpr, ppr = [], [], []\n",
    "    for thr in thresholds:\n",
    "        prediction_thr = (scores > thr) * 1\n",
    "\n",
    "        conf_matrix = confusion_matrix(y_true = y_true,\n",
    "                                   y_pred = prediction_thr)\n",
    "    \n",
    "        TN, FP, FN, TP = conf_matrix.ravel()    \n",
    "        tpr += [TP / (TP + FN)]\n",
    "        fpr += [FP / (FP + TN)]\n",
    "        ppr += [(TP+ FP) / (TN + FP + FN+ TP)]\n",
    "    \n",
    "    return fpr, tpr, ppr, thresholds"
   ]
  },
  {
   "cell_type": "code",
   "execution_count": 56,
   "metadata": {},
   "outputs": [],
   "source": [
    "predicted_propabilities = model.predict_proba(test_data[sensitive_feature+non_sensitive_features])[:, 1]\n",
    "predicted_propabilities = pd.Series(predicted_propabilities,\n",
    "                                    index=test_data.index)"
   ]
  },
  {
   "cell_type": "code",
   "execution_count": 57,
   "metadata": {},
   "outputs": [],
   "source": [
    "thresholds = np.linspace(0.0, 1.0, 100)\n",
    "fpr, tpr, ppr, thresholds = roc_curve(y_true= test_data[target_column].values, \n",
    "                                      scores= predicted_propabilities.values, \n",
    "                                      thresholds= thresholds)"
   ]
  },
  {
   "cell_type": "code",
   "execution_count": 59,
   "metadata": {},
   "outputs": [
    {
     "data": {
      "text/plain": [
       "[<matplotlib.lines.Line2D at 0x15407a400>]"
      ]
     },
     "execution_count": 59,
     "metadata": {},
     "output_type": "execute_result"
    },
    {
     "data": {
      "image/png": "[encoded data removed]",
      "text/plain": [
       "<Figure size 640x480 with 1 Axes>"
      ]
     },
     "metadata": {},
     "output_type": "display_data"
    }
   ],
   "source": [
    "plt.plot(fpr,tpr)"
   ]
  },
  {
   "cell_type": "markdown",
   "metadata": {},
   "source": [
    "# Calculate roc curve for different groups"
   ]
  },
  {
   "cell_type": "code",
   "execution_count": 60,
   "metadata": {},
   "outputs": [],
   "source": [
    "mask_group_0 = test_data[\"sex\"] == 0\n",
    "mask_group_1 = np.logical_not(mask_group_0)\n",
    "\n",
    "# group s=0\n",
    "y_true_group_0 = test_data.loc[mask_group_0, target_column].values\n",
    "scores_group_0 = predicted_propabilities.loc[mask_group_0].values\n",
    "fpr_group_0, tpr_group_0, ppr_group_0, _ = roc_curve(y_true = y_true_group_0,\n",
    "                                                     scores = scores_group_0,\n",
    "                                                     thresholds = thresholds)\n",
    "\n",
    "# group s=1\n",
    "y_true_group_1 = test_data.loc[mask_group_1,target_column].values\n",
    "scores_group_1 = predicted_propabilities.loc[mask_group_1].values\n",
    "fpr_group_1, tpr_group_1, ppr_group_1, _ = roc_curve(y_true = y_true_group_1,\n",
    "                                                     scores = scores_group_1,\n",
    "                                                     thresholds = thresholds)"
   ]
  },
  {
   "cell_type": "markdown",
   "metadata": {},
   "source": [
    "## 1. positive predictive rate for different groups"
   ]
  },
  {
   "cell_type": "code",
   "execution_count": 63,
   "metadata": {},
   "outputs": [
    {
     "data": {
      "image/png": "[encoded data removed]",
      "text/plain": [
       "<Figure size 640x480 with 1 Axes>"
      ]
     },
     "metadata": {},
     "output_type": "display_data"
    }
   ],
   "source": [
    "plt.figure()\n",
    "plt.plot(thresholds, ppr_group_0, linestyle='-', marker='.', label = \"group 0\")\n",
    "plt.plot(thresholds, ppr_group_1, linestyle='-', marker=\".\", label = \"group 1\")\n",
    "plt.axhline(y = 0.8, color = 'r', linestyle = '--', linewidth = 0.5, label = \"different classodoers\")\n",
    "plt.axhline(y = 0.5, color = 'r', linestyle = '--', linewidth = 0.5)\n",
    "plt.axhline(y = 0.3, color = 'r', linestyle = '--', linewidth = 0.5)\n",
    "plt.ylabel(\"positive positive rate\")\n",
    "plt.xlabel(\"thresholds\")\n",
    "plt.title(\"Positive predictive rate for different classification thresholds\")\n",
    "plt.legend()\n",
    "plt.show()\n",
    "plt.close()"
   ]
  },
  {
   "cell_type": "markdown",
   "metadata": {},
   "source": [
    "## 2. Roc curve for different groups"
   ]
  },
  {
   "cell_type": "code",
   "execution_count": 64,
   "metadata": {},
   "outputs": [
    {
     "data": {
      "text/plain": [
       "(array([1.00000000e+00, 4.81159640e-03, 2.45634442e-03, 6.58906216e-04,\n",
       "        9.19670754e-20]),\n",
       " array([1.        , 0.30254383, 0.26604492, 0.22530225, 0.1558669 ]))"
      ]
     },
     "execution_count": 64,
     "metadata": {},
     "output_type": "execute_result"
    }
   ],
   "source": [
    "# !pip install intersect\n",
    "from intersect import intersection\n",
    "\n",
    "x, y = intersection(fpr_group_0, tpr_group_0, fpr_group_1, tpr_group_1)\n",
    "x, y"
   ]
  },
  {
   "cell_type": "code",
   "execution_count": 65,
   "metadata": {},
   "outputs": [
    {
     "data": {
      "image/png": "[encoded data removed]",
      "text/plain": [
       "<Figure size 640x480 with 1 Axes>"
      ]
     },
     "metadata": {},
     "output_type": "display_data"
    }
   ],
   "source": [
    "plt.figure()\n",
    "plt.plot(fpr_group_0, tpr_group_0, linestyle='-', marker='.', label = \"group_0\")\n",
    "plt.plot(fpr_group_1, tpr_group_1, linestyle='-', marker=\".\", label = \"group_1\")\n",
    "plt.scatter(x, y, color=\"r\",s = 50)\n",
    "plt.xlabel(\"false positive rate\")\n",
    "plt.ylabel(\"true positive rate\")\n",
    "plt.title(\"Roc curve\")\n",
    "plt.legend()\n",
    "plt.show()\n",
    "plt.close()"
   ]
  },
  {
   "cell_type": "code",
   "execution_count": 66,
   "metadata": {},
   "outputs": [],
   "source": [
    "def get_close_thresholds(metrics_group_0, metrics_group_1, error, thresholds_list):\n",
    "    fpr_group_0, tpr_group_0 = metrics_group_0\n",
    "    fpr_group_1, tpr_group_1 = metrics_group_1\n",
    "    \n",
    "    fpr_error = pd.DataFrame(np.abs(np.subtract.outer(fpr_group_0, fpr_group_1))) \n",
    "    tpr_error = pd.DataFrame(np.abs(np.subtract.outer(tpr_group_0, tpr_group_1)))\n",
    "    error_matrix = fpr_error + tpr_error\n",
    "    \n",
    "    accepted_error_matrix = pd.melt(error_matrix < error, ignore_index =False)\n",
    "    thresholds = accepted_error_matrix[accepted_error_matrix[\"value\"]==True]\n",
    "    thresholds.reset_index(inplace=True)\n",
    "    thresholds = thresholds.rename({\"index\":\"thr_group_0\",\n",
    "                       \"variable\":\"thr_group_1\"},\n",
    "                      axis=1)\n",
    "    \n",
    "    theshold_pair = [(thresholds_list[i],thresholds_list[j]) for i,j in thresholds[[\"thr_group_0\",\"thr_group_1\"]].values]\n",
    "    return theshold_pair, thresholds"
   ]
  },
  {
   "cell_type": "code",
   "execution_count": 67,
   "metadata": {},
   "outputs": [],
   "source": [
    "accepted_threholds, thresholds_indexs = get_close_thresholds(metrics_group_0=(fpr_group_0, tpr_group_0),\n",
    "                                                             metrics_group_1=(fpr_group_1, tpr_group_1),\n",
    "                                                             error = 0.01,\n",
    "                                                             thresholds_list=thresholds)"
   ]
  },
  {
   "cell_type": "code",
   "execution_count": 68,
   "metadata": {},
   "outputs": [],
   "source": [
    "def predict_whit_different_thesholds(predicted_propabilities, mask_group_0, thr0, mask_group_1 ,thr1):\n",
    "    thr_series_0 = mask_group_0 *  thr0\n",
    "    thr_series_1 = mask_group_1 * thr1\n",
    "    thr = thr_series_0 + thr_series_1\n",
    "    \n",
    "    prediction = predicted_propabilities > thr\n",
    "    return prediction"
   ]
  },
  {
   "cell_type": "code",
   "execution_count": 69,
   "metadata": {},
   "outputs": [
    {
     "name": "stderr",
     "output_type": "stream",
     "text": [
      "/var/folders/cr/h97h0km17v725pm92zr1lrk80000gn/T/ipykernel_82560/4292309794.py:10: RuntimeWarning: invalid value encountered in long_scalars\n",
      "  precision_score = TP  / (TP + FP)\n",
      "/var/folders/cr/h97h0km17v725pm92zr1lrk80000gn/T/ipykernel_82560/4292309794.py:10: RuntimeWarning: invalid value encountered in long_scalars\n",
      "  precision_score = TP  / (TP + FP)\n",
      "/var/folders/cr/h97h0km17v725pm92zr1lrk80000gn/T/ipykernel_82560/4292309794.py:10: RuntimeWarning: invalid value encountered in long_scalars\n",
      "  precision_score = TP  / (TP + FP)\n",
      "/var/folders/cr/h97h0km17v725pm92zr1lrk80000gn/T/ipykernel_82560/4292309794.py:10: RuntimeWarning: invalid value encountered in long_scalars\n",
      "  precision_score = TP  / (TP + FP)\n",
      "/var/folders/cr/h97h0km17v725pm92zr1lrk80000gn/T/ipykernel_82560/4292309794.py:10: RuntimeWarning: invalid value encountered in long_scalars\n",
      "  precision_score = TP  / (TP + FP)\n",
      "/var/folders/cr/h97h0km17v725pm92zr1lrk80000gn/T/ipykernel_82560/4292309794.py:10: RuntimeWarning: invalid value encountered in long_scalars\n",
      "  precision_score = TP  / (TP + FP)\n"
     ]
    }
   ],
   "source": [
    "metric_ts = []\n",
    "for (thr0, thr1) in accepted_threholds:\n",
    "    predictions = predict_whit_different_thesholds(predicted_propabilities = predicted_propabilities,\n",
    "                                     mask_group_0 = mask_group_0 ,\n",
    "                                     thr0=thr0,\n",
    "                                     mask_group_1 = mask_group_1 ,\n",
    "                                     thr1=thr1)\n",
    "    \n",
    "    metrics = compute_metric(y_pred = predictions,\n",
    "                             y_true = test_data[target_column],\n",
    "                             sensitive_feature = test_data[sensitive_feature[0]])\n",
    "    \n",
    "    metric_ts += [metrics]"
   ]
  },
  {
   "cell_type": "code",
   "execution_count": 70,
   "metadata": {},
   "outputs": [],
   "source": [
    "results_for_different_thr = pd.DataFrame(metric_ts)"
   ]
  },
  {
   "cell_type": "code",
   "execution_count": 71,
   "metadata": {},
   "outputs": [
    {
     "data": {
      "text/html": [
       "<div>\n",
       "<style scoped>\n",
       "    .dataframe tbody tr th:only-of-type {\n",
       "        vertical-align: middle;\n",
       "    }\n",
       "\n",
       "    .dataframe tbody tr th {\n",
       "        vertical-align: top;\n",
       "    }\n",
       "\n",
       "    .dataframe thead th {\n",
       "        text-align: right;\n",
       "    }\n",
       "</style>\n",
       "<table border=\"1\" class=\"dataframe\">\n",
       "  <thead>\n",
       "    <tr style=\"text-align: right;\">\n",
       "      <th></th>\n",
       "      <th>accuracy</th>\n",
       "      <th>precision</th>\n",
       "      <th>recall</th>\n",
       "      <th>f1_score</th>\n",
       "      <th>demographic_metric</th>\n",
       "      <th>equalized_opportunities</th>\n",
       "      <th>equalized_odds</th>\n",
       "    </tr>\n",
       "  </thead>\n",
       "  <tbody>\n",
       "    <tr>\n",
       "      <th>0</th>\n",
       "      <td>0.235321</td>\n",
       "      <td>0.235321</td>\n",
       "      <td>1.000000</td>\n",
       "      <td>0.380988</td>\n",
       "      <td>0.000000</td>\n",
       "      <td>0.000000</td>\n",
       "      <td>0.000000</td>\n",
       "    </tr>\n",
       "    <tr>\n",
       "      <th>1</th>\n",
       "      <td>0.843558</td>\n",
       "      <td>0.909091</td>\n",
       "      <td>0.372445</td>\n",
       "      <td>0.528407</td>\n",
       "      <td>0.073368</td>\n",
       "      <td>0.000696</td>\n",
       "      <td>0.007992</td>\n",
       "    </tr>\n",
       "    <tr>\n",
       "      <th>2</th>\n",
       "      <td>0.839012</td>\n",
       "      <td>0.923423</td>\n",
       "      <td>0.344441</td>\n",
       "      <td>0.501734</td>\n",
       "      <td>0.067111</td>\n",
       "      <td>0.005579</td>\n",
       "      <td>0.009924</td>\n",
       "    </tr>\n",
       "    <tr>\n",
       "      <th>3</th>\n",
       "      <td>0.838023</td>\n",
       "      <td>0.926437</td>\n",
       "      <td>0.338561</td>\n",
       "      <td>0.495898</td>\n",
       "      <td>0.064425</td>\n",
       "      <td>0.001421</td>\n",
       "      <td>0.004916</td>\n",
       "    </tr>\n",
       "    <tr>\n",
       "      <th>4</th>\n",
       "      <td>0.836310</td>\n",
       "      <td>0.935846</td>\n",
       "      <td>0.326799</td>\n",
       "      <td>0.484433</td>\n",
       "      <td>0.063074</td>\n",
       "      <td>0.003340</td>\n",
       "      <td>0.006734</td>\n",
       "    </tr>\n",
       "    <tr>\n",
       "      <th>...</th>\n",
       "      <td>...</td>\n",
       "      <td>...</td>\n",
       "      <td>...</td>\n",
       "      <td>...</td>\n",
       "      <td>...</td>\n",
       "      <td>...</td>\n",
       "      <td>...</td>\n",
       "    </tr>\n",
       "    <tr>\n",
       "      <th>70</th>\n",
       "      <td>0.764679</td>\n",
       "      <td>NaN</td>\n",
       "      <td>0.000000</td>\n",
       "      <td>NaN</td>\n",
       "      <td>0.000000</td>\n",
       "      <td>0.000000</td>\n",
       "      <td>0.000000</td>\n",
       "    </tr>\n",
       "    <tr>\n",
       "      <th>71</th>\n",
       "      <td>0.764679</td>\n",
       "      <td>NaN</td>\n",
       "      <td>0.000000</td>\n",
       "      <td>NaN</td>\n",
       "      <td>0.000000</td>\n",
       "      <td>0.000000</td>\n",
       "      <td>0.000000</td>\n",
       "    </tr>\n",
       "    <tr>\n",
       "      <th>72</th>\n",
       "      <td>0.764679</td>\n",
       "      <td>NaN</td>\n",
       "      <td>0.000000</td>\n",
       "      <td>NaN</td>\n",
       "      <td>0.000000</td>\n",
       "      <td>0.000000</td>\n",
       "      <td>0.000000</td>\n",
       "    </tr>\n",
       "    <tr>\n",
       "      <th>73</th>\n",
       "      <td>0.764679</td>\n",
       "      <td>NaN</td>\n",
       "      <td>0.000000</td>\n",
       "      <td>NaN</td>\n",
       "      <td>0.000000</td>\n",
       "      <td>0.000000</td>\n",
       "      <td>0.000000</td>\n",
       "    </tr>\n",
       "    <tr>\n",
       "      <th>74</th>\n",
       "      <td>0.764679</td>\n",
       "      <td>NaN</td>\n",
       "      <td>0.000000</td>\n",
       "      <td>NaN</td>\n",
       "      <td>0.000000</td>\n",
       "      <td>0.000000</td>\n",
       "      <td>0.000000</td>\n",
       "    </tr>\n",
       "  </tbody>\n",
       "</table>\n",
       "<p>75 rows × 7 columns</p>\n",
       "</div>"
      ],
      "text/plain": [
       "    accuracy  precision    recall  f1_score  demographic_metric  \\\n",
       "0   0.235321   0.235321  1.000000  0.380988            0.000000   \n",
       "1   0.843558   0.909091  0.372445  0.528407            0.073368   \n",
       "2   0.839012   0.923423  0.344441  0.501734            0.067111   \n",
       "3   0.838023   0.926437  0.338561  0.495898            0.064425   \n",
       "4   0.836310   0.935846  0.326799  0.484433            0.063074   \n",
       "..       ...        ...       ...       ...                 ...   \n",
       "70  0.764679        NaN  0.000000       NaN            0.000000   \n",
       "71  0.764679        NaN  0.000000       NaN            0.000000   \n",
       "72  0.764679        NaN  0.000000       NaN            0.000000   \n",
       "73  0.764679        NaN  0.000000       NaN            0.000000   \n",
       "74  0.764679        NaN  0.000000       NaN            0.000000   \n",
       "\n",
       "    equalized_opportunities  equalized_odds  \n",
       "0                  0.000000        0.000000  \n",
       "1                  0.000696        0.007992  \n",
       "2                  0.005579        0.009924  \n",
       "3                  0.001421        0.004916  \n",
       "4                  0.003340        0.006734  \n",
       "..                      ...             ...  \n",
       "70                 0.000000        0.000000  \n",
       "71                 0.000000        0.000000  \n",
       "72                 0.000000        0.000000  \n",
       "73                 0.000000        0.000000  \n",
       "74                 0.000000        0.000000  \n",
       "\n",
       "[75 rows x 7 columns]"
      ]
     },
     "execution_count": 71,
     "metadata": {},
     "output_type": "execute_result"
    }
   ],
   "source": [
    "results_for_different_thr"
   ]
  },
  {
   "cell_type": "code",
   "execution_count": 72,
   "metadata": {},
   "outputs": [
    {
     "data": {
      "text/plain": [
       "1"
      ]
     },
     "execution_count": 72,
     "metadata": {},
     "output_type": "execute_result"
    }
   ],
   "source": [
    "results_for_different_thr[\"f1_score\"].idxmax()"
   ]
  },
  {
   "cell_type": "code",
   "execution_count": 73,
   "metadata": {},
   "outputs": [],
   "source": [
    "best_model = results_for_different_thr.loc[[1]]"
   ]
  },
  {
   "cell_type": "code",
   "execution_count": 74,
   "metadata": {},
   "outputs": [],
   "source": [
    "best_model.rename(index={1: 'post-prossesing equalized odds'},inplace=True)"
   ]
  },
  {
   "cell_type": "code",
   "execution_count": 75,
   "metadata": {},
   "outputs": [
    {
     "data": {
      "text/html": [
       "<div>\n",
       "<style scoped>\n",
       "    .dataframe tbody tr th:only-of-type {\n",
       "        vertical-align: middle;\n",
       "    }\n",
       "\n",
       "    .dataframe tbody tr th {\n",
       "        vertical-align: top;\n",
       "    }\n",
       "\n",
       "    .dataframe thead th {\n",
       "        text-align: right;\n",
       "    }\n",
       "</style>\n",
       "<table border=\"1\" class=\"dataframe\">\n",
       "  <thead>\n",
       "    <tr style=\"text-align: right;\">\n",
       "      <th></th>\n",
       "      <th>accuracy</th>\n",
       "      <th>precision</th>\n",
       "      <th>recall</th>\n",
       "      <th>f1_score</th>\n",
       "      <th>demographic_metric</th>\n",
       "      <th>equalized_opportunities</th>\n",
       "      <th>equalized_odds</th>\n",
       "    </tr>\n",
       "  </thead>\n",
       "  <tbody>\n",
       "    <tr>\n",
       "      <th>post-prossesing equalized odds</th>\n",
       "      <td>0.843558</td>\n",
       "      <td>0.909091</td>\n",
       "      <td>0.372445</td>\n",
       "      <td>0.528407</td>\n",
       "      <td>0.073368</td>\n",
       "      <td>0.000696</td>\n",
       "      <td>0.007992</td>\n",
       "    </tr>\n",
       "  </tbody>\n",
       "</table>\n",
       "</div>"
      ],
      "text/plain": [
       "                                accuracy  precision    recall  f1_score  \\\n",
       "post-prossesing equalized odds  0.843558   0.909091  0.372445  0.528407   \n",
       "\n",
       "                                demographic_metric  equalized_opportunities  \\\n",
       "post-prossesing equalized odds            0.073368                 0.000696   \n",
       "\n",
       "                                equalized_odds  \n",
       "post-prossesing equalized odds        0.007992  "
      ]
     },
     "execution_count": 75,
     "metadata": {},
     "output_type": "execute_result"
    }
   ],
   "source": [
    "best_model"
   ]
  },
  {
   "cell_type": "code",
   "execution_count": 76,
   "metadata": {},
   "outputs": [],
   "source": [
    "all_results = pd.concat([all_results, best_model.T],axis=1)"
   ]
  },
  {
   "cell_type": "code",
   "execution_count": 81,
   "metadata": {},
   "outputs": [
    {
     "data": {
      "text/plain": [
       "<AxesSubplot: >"
      ]
     },
     "execution_count": 81,
     "metadata": {},
     "output_type": "execute_result"
    },
    {
     "data": {
      "image/png": "[encoded data removed]",
      "text/plain": [
       "<Figure size 640x480 with 1 Axes>"
      ]
     },
     "metadata": {},
     "output_type": "display_data"
    }
   ],
   "source": [
    "all_results.plot(kind=\"bar\")"
   ]
  },
  {
   "cell_type": "code",
   "execution_count": 204,
   "metadata": {},
   "outputs": [
    {
     "data": {
      "text/html": [
       "<div>\n",
       "<style scoped>\n",
       "    .dataframe tbody tr th:only-of-type {\n",
       "        vertical-align: middle;\n",
       "    }\n",
       "\n",
       "    .dataframe tbody tr th {\n",
       "        vertical-align: top;\n",
       "    }\n",
       "\n",
       "    .dataframe thead th {\n",
       "        text-align: right;\n",
       "    }\n",
       "</style>\n",
       "<table border=\"1\" class=\"dataframe\">\n",
       "  <thead>\n",
       "    <tr style=\"text-align: right;\">\n",
       "      <th></th>\n",
       "      <th>model</th>\n",
       "      <th>unaware_model</th>\n",
       "      <th>post_prossesing_1</th>\n",
       "      <th>post_prossesing_2</th>\n",
       "      <th>post_prossesing_3</th>\n",
       "      <th>accuracy</th>\n",
       "      <th>precision</th>\n",
       "      <th>recall</th>\n",
       "      <th>f1_score</th>\n",
       "      <th>demographic_metric</th>\n",
       "      <th>equalized_opportunities</th>\n",
       "      <th>equalized_odds</th>\n",
       "      <th>post-prossesing equalized odds</th>\n",
       "    </tr>\n",
       "  </thead>\n",
       "  <tbody>\n",
       "    <tr>\n",
       "      <th>accuracy</th>\n",
       "      <td>0.856870</td>\n",
       "      <td>0.857002</td>\n",
       "      <td>0.856474</td>\n",
       "      <td>0.853641</td>\n",
       "      <td>0.833740</td>\n",
       "      <td>NaN</td>\n",
       "      <td>NaN</td>\n",
       "      <td>NaN</td>\n",
       "      <td>NaN</td>\n",
       "      <td>NaN</td>\n",
       "      <td>NaN</td>\n",
       "      <td>NaN</td>\n",
       "      <td>0.839539</td>\n",
       "    </tr>\n",
       "    <tr>\n",
       "      <th>precision</th>\n",
       "      <td>0.793046</td>\n",
       "      <td>0.793957</td>\n",
       "      <td>0.800604</td>\n",
       "      <td>0.780316</td>\n",
       "      <td>0.843381</td>\n",
       "      <td>NaN</td>\n",
       "      <td>NaN</td>\n",
       "      <td>NaN</td>\n",
       "      <td>NaN</td>\n",
       "      <td>NaN</td>\n",
       "      <td>NaN</td>\n",
       "      <td>NaN</td>\n",
       "      <td>0.921365</td>\n",
       "    </tr>\n",
       "    <tr>\n",
       "      <th>recall</th>\n",
       "      <td>0.530104</td>\n",
       "      <td>0.529824</td>\n",
       "      <td>0.519462</td>\n",
       "      <td>0.526183</td>\n",
       "      <td>0.360403</td>\n",
       "      <td>NaN</td>\n",
       "      <td>NaN</td>\n",
       "      <td>NaN</td>\n",
       "      <td>NaN</td>\n",
       "      <td>NaN</td>\n",
       "      <td>NaN</td>\n",
       "      <td>NaN</td>\n",
       "      <td>0.347802</td>\n",
       "    </tr>\n",
       "    <tr>\n",
       "      <th>f1_score</th>\n",
       "      <td>0.635448</td>\n",
       "      <td>0.635539</td>\n",
       "      <td>0.630095</td>\n",
       "      <td>0.628533</td>\n",
       "      <td>0.505003</td>\n",
       "      <td>NaN</td>\n",
       "      <td>NaN</td>\n",
       "      <td>NaN</td>\n",
       "      <td>NaN</td>\n",
       "      <td>NaN</td>\n",
       "      <td>NaN</td>\n",
       "      <td>NaN</td>\n",
       "      <td>0.504981</td>\n",
       "    </tr>\n",
       "    <tr>\n",
       "      <th>demographic_metric</th>\n",
       "      <td>0.141432</td>\n",
       "      <td>0.140445</td>\n",
       "      <td>0.146254</td>\n",
       "      <td>0.142048</td>\n",
       "      <td>0.067555</td>\n",
       "      <td>NaN</td>\n",
       "      <td>NaN</td>\n",
       "      <td>NaN</td>\n",
       "      <td>NaN</td>\n",
       "      <td>NaN</td>\n",
       "      <td>NaN</td>\n",
       "      <td>NaN</td>\n",
       "      <td>0.066051</td>\n",
       "    </tr>\n",
       "    <tr>\n",
       "      <th>equalized_opportunities</th>\n",
       "      <td>0.066061</td>\n",
       "      <td>0.063643</td>\n",
       "      <td>0.103426</td>\n",
       "      <td>0.071817</td>\n",
       "      <td>0.026663</td>\n",
       "      <td>NaN</td>\n",
       "      <td>NaN</td>\n",
       "      <td>NaN</td>\n",
       "      <td>NaN</td>\n",
       "      <td>NaN</td>\n",
       "      <td>NaN</td>\n",
       "      <td>NaN</td>\n",
       "      <td>0.005014</td>\n",
       "    </tr>\n",
       "    <tr>\n",
       "      <th>equalized_odds</th>\n",
       "      <td>0.116241</td>\n",
       "      <td>0.113037</td>\n",
       "      <td>0.154851</td>\n",
       "      <td>0.123347</td>\n",
       "      <td>0.026943</td>\n",
       "      <td>NaN</td>\n",
       "      <td>NaN</td>\n",
       "      <td>NaN</td>\n",
       "      <td>NaN</td>\n",
       "      <td>NaN</td>\n",
       "      <td>NaN</td>\n",
       "      <td>NaN</td>\n",
       "      <td>0.009204</td>\n",
       "    </tr>\n",
       "  </tbody>\n",
       "</table>\n",
       "</div>"
      ],
      "text/plain": [
       "                            model  unaware_model  post_prossesing_1  \\\n",
       "accuracy                 0.856870       0.857002           0.856474   \n",
       "precision                0.793046       0.793957           0.800604   \n",
       "recall                   0.530104       0.529824           0.519462   \n",
       "f1_score                 0.635448       0.635539           0.630095   \n",
       "demographic_metric       0.141432       0.140445           0.146254   \n",
       "equalized_opportunities  0.066061       0.063643           0.103426   \n",
       "equalized_odds           0.116241       0.113037           0.154851   \n",
       "\n",
       "                         post_prossesing_2  post_prossesing_3  accuracy  \\\n",
       "accuracy                          0.853641           0.833740       NaN   \n",
       "precision                         0.780316           0.843381       NaN   \n",
       "recall                            0.526183           0.360403       NaN   \n",
       "f1_score                          0.628533           0.505003       NaN   \n",
       "demographic_metric                0.142048           0.067555       NaN   \n",
       "equalized_opportunities           0.071817           0.026663       NaN   \n",
       "equalized_odds                    0.123347           0.026943       NaN   \n",
       "\n",
       "                         precision  recall  f1_score  demographic_metric  \\\n",
       "accuracy                       NaN     NaN       NaN                 NaN   \n",
       "precision                      NaN     NaN       NaN                 NaN   \n",
       "recall                         NaN     NaN       NaN                 NaN   \n",
       "f1_score                       NaN     NaN       NaN                 NaN   \n",
       "demographic_metric             NaN     NaN       NaN                 NaN   \n",
       "equalized_opportunities        NaN     NaN       NaN                 NaN   \n",
       "equalized_odds                 NaN     NaN       NaN                 NaN   \n",
       "\n",
       "                         equalized_opportunities  equalized_odds  \\\n",
       "accuracy                                     NaN             NaN   \n",
       "precision                                    NaN             NaN   \n",
       "recall                                       NaN             NaN   \n",
       "f1_score                                     NaN             NaN   \n",
       "demographic_metric                           NaN             NaN   \n",
       "equalized_opportunities                      NaN             NaN   \n",
       "equalized_odds                               NaN             NaN   \n",
       "\n",
       "                         post-prossesing equalized odds  \n",
       "accuracy                                       0.839539  \n",
       "precision                                      0.921365  \n",
       "recall                                         0.347802  \n",
       "f1_score                                       0.504981  \n",
       "demographic_metric                             0.066051  \n",
       "equalized_opportunities                        0.005014  \n",
       "equalized_odds                                 0.009204  "
      ]
     },
     "execution_count": 204,
     "metadata": {},
     "output_type": "execute_result"
    }
   ],
   "source": [
    "all_results"
   ]
  },
  {
   "cell_type": "code",
   "execution_count": null,
   "metadata": {},
   "outputs": [],
   "source": []
  }
 ],
 "metadata": {
  "kernelspec": {
   "display_name": "ml-society",
   "language": "python",
   "name": "ml-society"
  },
  "language_info": {
   "codemirror_mode": {
    "name": "ipython",
    "version": 3
   },
   "file_extension": ".py",
   "mimetype": "text/x-python",
   "name": "python",
   "nbconvert_exporter": "python",
   "pygments_lexer": "ipython3",
   "version": "3.9.12"
  }
 },
 "nbformat": 4,
 "nbformat_minor": 1
}