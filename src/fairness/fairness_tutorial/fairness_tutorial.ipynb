{
 "cells": [
  {
   "cell_type": "markdown",
   "metadata": {},
   "source": [
    "<figure>\n",
    "  <img style=\"float: left;\" src=\"./figures/unine.png\" width=\"200\"/>\n",
    "</figure>"
   ]
  },
  {
   "cell_type": "markdown",
   "metadata": {},
   "source": [
    "<figure>\n",
    "  <img style=\"float: left;\" src=\"./figures/fair_1.png\" width=\"200\"/>\n",
    "</figure>\n",
    "\n",
    "# Fairness"
   ]
  },
  {
   "cell_type": "markdown",
   "metadata": {},
   "source": [
    "Machine learning (ML) usage is increasing every day. Companies and Organisation build ML model with the perpuse of minimize the humman efford or improve performance in varius task. So ML is arguably affects our lives directly or not.\n",
    "\n",
    "Examples:\n",
    "1. Recomendation system\n",
    "2. Candidate selection e.x college admitions, CV screening\n",
    "3. Loan admitions\n",
    "4. Estimate the propability if someone commits a crime.\n",
    "\n",
    "There are a lot of examples that research demostrate inadvertently discriminating against several polulation groups. The most know is the reaserch Public Republica in Compas Dataset.\n",
    "\n",
    "When machine learning models are being used to make decisions, they cannot be separated from the social and ethical context in which they are applied, and those developing and deploying these models must take care to do so in a manner that accounts for both performance and fairness. \n",
    "\n",
    "So the last decade Fairness is becomes one of the most active reachard areas in ML."
   ]
  },
  {
   "cell_type": "markdown",
   "metadata": {},
   "source": [
    "# A2. Causes of Unfair Models\n",
    "\n",
    "Bias may be introduced into a machine learning project at any step along the way and it is important to carefully think through each potential source and how it may affect your results. \n",
    "\n",
    "ML bias comes directly from our words dataset.\n",
    "Essentially, this bias comes from human bias existing in training dataset due to historical reasons.\n",
    "\n",
    "Source of bias:\n",
    "- Data\n",
    "    1. Historical injustice.\n",
    "    2. Collection bias.\n",
    "    3. Limited features.\n",
    "    4. Unbalance dataset.\n",
    "    5. Proxy Variables.\n",
    "- Modeling\n",
    "    1. Data preprossesing \n",
    "    2. Model assumptions \n",
    "- Feedback loops.\n",
    "    1. desitions based on biased model lead to biased dataset."
   ]
  },
  {
   "cell_type": "markdown",
   "metadata": {},
   "source": [
    "# A3. Load Dataset\n",
    "\n",
    "https://archive.ics.uci.edu/ml/datasets/adult"
   ]
  },
  {
   "cell_type": "code",
   "execution_count": 1,
   "metadata": {},
   "outputs": [],
   "source": [
    "import pandas as pd\n",
    "import numpy as np\n",
    "import seaborn as sns\n",
    "import matplotlib.pyplot as plt"
   ]
  },
  {
   "cell_type": "code",
   "execution_count": 2,
   "metadata": {},
   "outputs": [],
   "source": [
    "from collections import OrderedDict\n",
    "\n",
    "data_types = OrderedDict([\n",
    "    (\"age\", \"int\"),\n",
    "    (\"workclass\", \"category\"),\n",
    "    (\"final_weight\", \"int\"),  # originally it was called fnlwgt\n",
    "    (\"education\", \"category\"),\n",
    "    (\"education_num\", \"int\"),\n",
    "    (\"marital_status\", \"category\"),\n",
    "    (\"occupation\", \"category\"),\n",
    "    (\"relationship\", \"category\"),\n",
    "    (\"race\", \"category\"),\n",
    "    (\"sex\", \"category\"),\n",
    "    (\"capital_gain\", \"float\"),  # required because of NaN values\n",
    "    (\"capital_loss\", \"int\"),\n",
    "    (\"hours_per_week\", \"int\"),\n",
    "    (\"native_country\", \"category\"),\n",
    "    (\"income_class\", \"category\"),\n",
    "])\n",
    "target_column = \"income_class\""
   ]
  },
  {
   "cell_type": "code",
   "execution_count": 3,
   "metadata": {},
   "outputs": [],
   "source": [
    "def read_dataset(path):\n",
    "    return pd.read_csv(\n",
    "        path,\n",
    "        names=data_types,\n",
    "        index_col=None,\n",
    "\n",
    "        comment='|',  # test dataset has comment in it\n",
    "        skipinitialspace=True,  # Skip spaces after delimiter\n",
    "        na_values={\n",
    "            'capital_gain': 99999,\n",
    "            'workclass': '?',\n",
    "            'native_country': '?',\n",
    "            'occupation': '?',\n",
    "        },\n",
    "        dtype=data_types,\n",
    "    )\n",
    "\n",
    "def clean_dataset(data):\n",
    "    # Test dataset has dot at the end, we remove it in order\n",
    "    # to unify names between training and test datasets.\n",
    "    data['income_class'] = data.income_class.str.rstrip('.').astype('category')\n",
    "    \n",
    "    # Remove final weight column since there is no use\n",
    "    # for it during the classification.\n",
    "    data = data.drop('final_weight', axis=1)\n",
    "    \n",
    "    # Duplicates might create biases during the analysis and\n",
    "    # during prediction stage they might give over-optimistic\n",
    "    # (or pessimistic) results.\n",
    "    data = data.drop_duplicates()\n",
    "    \n",
    "    # Binarize target variable (>50K == 1 and <=50K == 0)\n",
    "    data[target_column] = (data[target_column] == '>50K').astype(int)\n",
    "    \n",
    "    # Categorical dataset\n",
    "    categorical_features = data.select_dtypes('category').columns\n",
    "    data[categorical_features] = data.select_dtypes('category').apply(lambda x: x.cat.codes)\n",
    "    return data"
   ]
  },
  {
   "cell_type": "markdown",
   "metadata": {},
   "source": [
    "### load & clean dataset"
   ]
  },
  {
   "cell_type": "code",
   "execution_count": 4,
   "metadata": {},
   "outputs": [
    {
     "name": "stdout",
     "output_type": "stream",
     "text": [
      "Train dataset shape: (28938, 14)\n",
      "Test dataset shape: (15175, 14)\n"
     ]
    }
   ],
   "source": [
    "# get and clean train dataset\n",
    "TRAIN_DATA_FILE = 'https://archive.ics.uci.edu/ml/machine-learning-databases/adult/adult.data'\n",
    "train_data = clean_dataset(read_dataset(TRAIN_DATA_FILE))\n",
    "train_data = train_data.dropna()\n",
    "print(\"Train dataset shape:\", train_data.shape)\n",
    "\n",
    "# get and clean test dataset\n",
    "TEST_DATA_FILE = 'https://archive.ics.uci.edu/ml/machine-learning-databases/adult/adult.test'\n",
    "test_data = clean_dataset(read_dataset(TEST_DATA_FILE))\n",
    "test_data = test_data.dropna()\n",
    "print(\"Test dataset shape:\", test_data.shape)"
   ]
  },
  {
   "cell_type": "markdown",
   "metadata": {},
   "source": [
    "### data analysis"
   ]
  },
  {
   "cell_type": "code",
   "execution_count": 5,
   "metadata": {},
   "outputs": [
    {
     "data": {
      "image/png": "[encoded data removed]",
      "text/plain": [
       "<Figure size 640x480 with 1 Axes>"
      ]
     },
     "metadata": {},
     "output_type": "display_data"
    }
   ],
   "source": [
    "plt.figure()\n",
    "fig = sns.countplot(x=train_data[\"income_class\"])\n",
    "fig.set_xticklabels(['income <= 50K','income > 50K'])\n",
    "plt.title(\"Num of values in each category\")\n",
    "plt.show()\n",
    "plt.close()"
   ]
  },
  {
   "cell_type": "code",
   "execution_count": 8,
   "metadata": {},
   "outputs": [
    {
     "data": {
      "image/png": "[encoded data removed]",
      "text/plain": [
       "<Figure size 640x480 with 1 Axes>"
      ]
     },
     "metadata": {},
     "output_type": "display_data"
    }
   ],
   "source": [
    "plt.figure()\n",
    "fig = sns.countplot(x=train_data[\"sex\"])\n",
    "fig.set_xticklabels(['woman','men'])\n",
    "# plt.title(\"gender\")\n",
    "plt.show()\n",
    "plt.close()"
   ]
  },
  {
   "cell_type": "code",
   "execution_count": 6,
   "metadata": {},
   "outputs": [
    {
     "data": {
      "image/png": "[encoded data removed]",
      "text/plain": [
       "<Figure size 640x480 with 1 Axes>"
      ]
     },
     "metadata": {},
     "output_type": "display_data"
    }
   ],
   "source": [
    "plt.figure()\n",
    "fig = sns.countplot(data=train_data[[\"income_class\",\"sex\"]],\n",
    "                    x=\"income_class\",\n",
    "                    hue=\"sex\")\n",
    "\n",
    "fig.set_xticklabels(['income <= 50K','income > 50K'])\n",
    "plt.legend(title='sex', labels=['woman', 'men'])\n",
    "plt.title(\"Num of values in each category\")\n",
    "plt.show()\n",
    "plt.close()"
   ]
  },
  {
   "cell_type": "markdown",
   "metadata": {},
   "source": [
    "The dataset is quite imbalance between gender, so we expect our model to be unfair.  \n",
    "The source of the bias is comming from our sosietal bias."
   ]
  },
  {
   "cell_type": "markdown",
   "metadata": {},
   "source": [
    "# A4. Train a Model\n",
    "lets train our model and analyse the results."
   ]
  },
  {
   "cell_type": "code",
   "execution_count": 9,
   "metadata": {},
   "outputs": [],
   "source": [
    "features = train_data.columns.difference([target_column])\n",
    "\n",
    "# we difine sex as our sensitive feature\n",
    "sensitive_feature = [\"sex\"]\n",
    "\n",
    "# all the rest are non senstitive feature\n",
    "non_sensitive_features = list(set(features).difference(set(sensitive_feature)))"
   ]
  },
  {
   "cell_type": "code",
   "execution_count": 10,
   "metadata": {},
   "outputs": [
    {
     "data": {
      "text/html": [
       "<style>#sk-container-id-1 {color: black;background-color: white;}#sk-container-id-1 pre{padding: 0;}#sk-container-id-1 div.sk-toggleable {background-color: white;}#sk-container-id-1 label.sk-toggleable__label {cursor: pointer;display: block;width: 100%;margin-bottom: 0;padding: 0.3em;box-sizing: border-box;text-align: center;}#sk-container-id-1 label.sk-toggleable__label-arrow:before {content: \"▸\";float: left;margin-right: 0.25em;color: #696969;}#sk-container-id-1 label.sk-toggleable__label-arrow:hover:before {color: black;}#sk-container-id-1 div.sk-estimator:hover label.sk-toggleable__label-arrow:before {color: black;}#sk-container-id-1 div.sk-toggleable__content {max-height: 0;max-width: 0;overflow: hidden;text-align: left;background-color: #f0f8ff;}#sk-container-id-1 div.sk-toggleable__content pre {margin: 0.2em;color: black;border-radius: 0.25em;background-color: #f0f8ff;}#sk-container-id-1 input.sk-toggleable__control:checked~div.sk-toggleable__content {max-height: 200px;max-width: 100%;overflow: auto;}#sk-container-id-1 input.sk-toggleable__control:checked~label.sk-toggleable__label-arrow:before {content: \"▾\";}#sk-container-id-1 div.sk-estimator input.sk-toggleable__control:checked~label.sk-toggleable__label {background-color: #d4ebff;}#sk-container-id-1 div.sk-label input.sk-toggleable__control:checked~label.sk-toggleable__label {background-color: #d4ebff;}#sk-container-id-1 input.sk-hidden--visually {border: 0;clip: rect(1px 1px 1px 1px);clip: rect(1px, 1px, 1px, 1px);height: 1px;margin: -1px;overflow: hidden;padding: 0;position: absolute;width: 1px;}#sk-container-id-1 div.sk-estimator {font-family: monospace;background-color: #f0f8ff;border: 1px dotted black;border-radius: 0.25em;box-sizing: border-box;margin-bottom: 0.5em;}#sk-container-id-1 div.sk-estimator:hover {background-color: #d4ebff;}#sk-container-id-1 div.sk-parallel-item::after {content: \"\";width: 100%;border-bottom: 1px solid gray;flex-grow: 1;}#sk-container-id-1 div.sk-label:hover label.sk-toggleable__label {background-color: #d4ebff;}#sk-container-id-1 div.sk-serial::before {content: \"\";position: absolute;border-left: 1px solid gray;box-sizing: border-box;top: 0;bottom: 0;left: 50%;z-index: 0;}#sk-container-id-1 div.sk-serial {display: flex;flex-direction: column;align-items: center;background-color: white;padding-right: 0.2em;padding-left: 0.2em;position: relative;}#sk-container-id-1 div.sk-item {position: relative;z-index: 1;}#sk-container-id-1 div.sk-parallel {display: flex;align-items: stretch;justify-content: center;background-color: white;position: relative;}#sk-container-id-1 div.sk-item::before, #sk-container-id-1 div.sk-parallel-item::before {content: \"\";position: absolute;border-left: 1px solid gray;box-sizing: border-box;top: 0;bottom: 0;left: 50%;z-index: -1;}#sk-container-id-1 div.sk-parallel-item {display: flex;flex-direction: column;z-index: 1;position: relative;background-color: white;}#sk-container-id-1 div.sk-parallel-item:first-child::after {align-self: flex-end;width: 50%;}#sk-container-id-1 div.sk-parallel-item:last-child::after {align-self: flex-start;width: 50%;}#sk-container-id-1 div.sk-parallel-item:only-child::after {width: 0;}#sk-container-id-1 div.sk-dashed-wrapped {border: 1px dashed gray;margin: 0 0.4em 0.5em 0.4em;box-sizing: border-box;padding-bottom: 0.4em;background-color: white;}#sk-container-id-1 div.sk-label label {font-family: monospace;font-weight: bold;display: inline-block;line-height: 1.2em;}#sk-container-id-1 div.sk-label-container {text-align: center;}#sk-container-id-1 div.sk-container {/* jupyter's `normalize.less` sets `[hidden] { display: none; }` but bootstrap.min.css set `[hidden] { display: none !important; }` so we also need the `!important` here to be able to override the default hidden behavior on the sphinx rendered scikit-learn.org. See: https://github.com/scikit-learn/scikit-learn/issues/21755 */display: inline-block !important;position: relative;}#sk-container-id-1 div.sk-text-repr-fallback {display: none;}</style><div id=\"sk-container-id-1\" class=\"sk-top-container\"><div class=\"sk-text-repr-fallback\"><pre>RandomForestClassifier(max_depth=10, n_estimators=1000)</pre><b>In a Jupyter environment, please rerun this cell to show the HTML representation or trust the notebook. <br />On GitHub, the HTML representation is unable to render, please try loading this page with nbviewer.org.</b></div><div class=\"sk-container\" hidden><div class=\"sk-item\"><div class=\"sk-estimator sk-toggleable\"><input class=\"sk-toggleable__control sk-hidden--visually\" id=\"sk-estimator-id-1\" type=\"checkbox\" checked><label for=\"sk-estimator-id-1\" class=\"sk-toggleable__label sk-toggleable__label-arrow\">RandomForestClassifier</label><div class=\"sk-toggleable__content\"><pre>RandomForestClassifier(max_depth=10, n_estimators=1000)</pre></div></div></div></div></div>"
      ],
      "text/plain": [
       "RandomForestClassifier(max_depth=10, n_estimators=1000)"
      ]
     },
     "execution_count": 10,
     "metadata": {},
     "output_type": "execute_result"
    }
   ],
   "source": [
    "from sklearn.ensemble import RandomForestClassifier\n",
    "\n",
    "model  = RandomForestClassifier(n_estimators=1000,\n",
    "                                max_depth=10)\n",
    "\n",
    "model.fit(X = train_data[sensitive_feature+non_sensitive_features],\n",
    "          y = train_data[target_column])"
   ]
  },
  {
   "cell_type": "markdown",
   "metadata": {},
   "source": [
    "# Mesure perfomance scores\n",
    "\n",
    "<div>\n",
    "<img style=\"float: left;\" src=\"./figures/conf_matrix.png\" width=\"300\"/>\n",
    "</div>\n"
   ]
  },
  {
   "cell_type": "code",
   "execution_count": 11,
   "metadata": {},
   "outputs": [],
   "source": [
    "from sklearn.metrics import accuracy_score\n",
    "from sklearn.metrics import confusion_matrix, ConfusionMatrixDisplay"
   ]
  },
  {
   "cell_type": "code",
   "execution_count": 12,
   "metadata": {},
   "outputs": [],
   "source": [
    "conf_matrix = confusion_matrix(y_true = test_data[target_column],\n",
    "                               y_pred = model.predict(test_data[sensitive_feature+non_sensitive_features]))\n",
    "conf_matrix = pd.DataFrame(conf_matrix)"
   ]
  },
  {
   "cell_type": "code",
   "execution_count": 13,
   "metadata": {},
   "outputs": [
    {
     "data": {
      "image/png": "[encoded data removed]",
      "text/plain": [
       "<Figure size 400x400 with 1 Axes>"
      ]
     },
     "metadata": {},
     "output_type": "display_data"
    }
   ],
   "source": [
    "plt.figure(figsize=(4,4))\n",
    "sns.heatmap(conf_matrix, annot=True, fmt='g', cbar=False, cmap=\"Blues\")\n",
    "plt.title(\"Confution Map\")\n",
    "plt.xlabel(\"Prediction\")\n",
    "plt.ylabel(\"Actual\")\n",
    "plt.show()"
   ]
  },
  {
   "cell_type": "code",
   "execution_count": 14,
   "metadata": {},
   "outputs": [
    {
     "name": "stdout",
     "output_type": "stream",
     "text": [
      "accuracy score: 0.8567380560131795\n",
      "precision score: 0.7936107608238756\n",
      "recall score: 0.5287034444133296\n",
      "f1 score: 0.5287034444133296\n"
     ]
    }
   ],
   "source": [
    "TN, FP, FN, TP = conf_matrix.values.ravel()\n",
    "\n",
    "acc_score = ( TN + TP ) / (TN + FP + FN + TP)\n",
    "precision_score = TP / (TP + FP)\n",
    "recall_score = TP / (TP + FN)\n",
    "f1_score = 2*(precision_score*recall_score)/(precision_score+recall_score)\n",
    "print(\"accuracy score:\", acc_score)\n",
    "print(\"precision score:\", precision_score)\n",
    "print(\"recall score:\", recall_score)\n",
    "print(\"f1 score:\", recall_score)"
   ]
  },
  {
   "cell_type": "code",
   "execution_count": 15,
   "metadata": {},
   "outputs": [
    {
     "name": "stdout",
     "output_type": "stream",
     "text": [
      "Accuracy_score: 0.8567380560131795\n"
     ]
    }
   ],
   "source": [
    "acc_score = accuracy_score(y_true = test_data[target_column],\n",
    "                           y_pred = model.predict(test_data[sensitive_feature+non_sensitive_features]))\n",
    "print(\"Accuracy_score:\", acc_score)"
   ]
  },
  {
   "cell_type": "markdown",
   "metadata": {},
   "source": [
    "# A5. Analysis of model fairness\n",
    "\n",
    "\n",
    "Unfortunatly there is not a sigle defition of fairness.There are many different, often competing, ways to measure whether a given model is statistically “fair” but it’s important to remember to start from the social and policy goals for equity and fairness and map those to the statistical properties we want in our models to help achieve those goals. Most of the definitions involve splitting the population into groups and compare metrics on those groups. \n",
    "\n",
    "Different definition preserve different fairness aspects. So the disired fairness definition is depenting on the aplication. In general, this requires consideration of the project’s goals and a detailed discussion between the data scientists, decision makers, and those who will be affected by the application of the model.\n",
    "\n",
    "Bellow we will define the most known fairness definitions."
   ]
  },
  {
   "cell_type": "code",
   "execution_count": 41,
   "metadata": {},
   "outputs": [],
   "source": [
    "predictions = model.predict(test_data[sensitive_feature+non_sensitive_features])\n",
    "predictions = pd.Series(predictions,index = test_data.index)\n",
    "sensitive_atribute = test_data[sensitive_feature[0]]"
   ]
  },
  {
   "cell_type": "code",
   "execution_count": 48,
   "metadata": {},
   "outputs": [],
   "source": [
    "woman_mask = sensitive_atribute == 0\n",
    "conf_matrix_0 = confusion_matrix(y_true = test_data.loc[woman_mask,target_column],\n",
    "                                 y_pred = predictions.loc[woman_mask])\n",
    "conf_matrix_0 = pd.DataFrame(conf_matrix_0)"
   ]
  },
  {
   "cell_type": "code",
   "execution_count": 51,
   "metadata": {},
   "outputs": [],
   "source": [
    "man_mask = sensitive_atribute == 1\n",
    "conf_matrix_1 = confusion_matrix(y_true = test_data.loc[man_mask,target_column],\n",
    "                                 y_pred = predictions.loc[man_mask])\n",
    "conf_matrix_1 = pd.DataFrame(conf_matrix_1)"
   ]
  },
  {
   "cell_type": "code",
   "execution_count": 64,
   "metadata": {},
   "outputs": [
    {
     "data": {
      "image/png": "[encoded data removed]",
      "text/plain": [
       "<Figure size 800x400 with 2 Axes>"
      ]
     },
     "metadata": {},
     "output_type": "display_data"
    }
   ],
   "source": [
    "fig, axes = plt.subplots(1, 2, figsize = (8,4))\n",
    "sns.heatmap(conf_matrix_0, annot=True, fmt='g', cbar=False, cmap=\"Blues\", ax=axes[0])\n",
    "axes[0].set_title(\"Woman Confusion matrix\")\n",
    "axes[0].set_ylabel('Actual')\n",
    "axes[0].set_xlabel('Prediction')\n",
    "\n",
    "sns.heatmap(conf_matrix_1, annot=True, fmt='g', cbar=False, cmap=\"Blues\", ax=axes[1])\n",
    "axes[1].set_title(\"Men Confusion matrix\")\n",
    "axes[1].set_ylabel('Actual')\n",
    "axes[1].set_xlabel('Prediction')\n",
    "plt.show()\n",
    "plt.close()"
   ]
  },
  {
   "cell_type": "markdown",
   "metadata": {},
   "source": [
    "## F1.  Demographic Parity\n",
    "\n",
    "**Demographic parity** , also referred to as **statistical parity** , **acceptance rate parity**  and **benchmarking**\n",
    "\n",
    "Demographic Parity states that the positive outcome rates between sensitive group must be the same.\n",
    "\n",
    "---------------\n",
    "> **Definition Demographic Parity :** A classifire $C$ is said that satisfy **demographic parity** if $$ P_c(\\hat{Y}= 1 | S = s ) =  P_c(\\hat{Y} = 1), \\quad  \\forall s\\in S $$\n",
    "in case of 2 sensitive classes, $ s \\in \\{0,1\\}  $ we can also equivalent write:\n",
    "$$ P_c(\\hat{Y}= 1 | S = 0 ) =  P_c(\\hat{Y}= 1 | S = 1 ) $$  \n",
    "---------------"
   ]
  },
  {
   "cell_type": "markdown",
   "metadata": {},
   "source": [
    "**How to mesure Demographic parity?**   \n",
    "\n",
    "we can mesure the Demographic parity using the Demographic parity difference metric.\n",
    "\n",
    "> **Demographic parity difference :** we can mesure the demographic parity using the next formula: \n",
    "  $$  \\text{Metric} =  max_s[P_c(\\hat{Y}= 1 | S = s )] -  min_s[P_c(\\hat{Y}= 1 | S = s )] $$  "
   ]
  },
  {
   "cell_type": "code",
   "execution_count": 14,
   "metadata": {},
   "outputs": [],
   "source": [
    "def demorgafic_parity_difference(predictions, sesitive_atribute):\n",
    "    \"\"\"\n",
    "    Implemention of demografic parity difference for different groups of sentitive artibute\n",
    "    1. For each group calculate the propotion of accepted rate.\n",
    "    2. Find the maximum and the minim group.\n",
    "    3. Calcaulte the difference.\n",
    "    \"\"\"\n",
    "    # 1. For each group calculate the propotion of accepted rate.\n",
    "    unique_groups = np.sort(sesitive_atribute.unique())\n",
    "    propotion_of_accepted_rate = []\n",
    "    for group in unique_groups:\n",
    "        pred_group = predictions[sesitive_atribute==group]\n",
    "        accepted_rate = (pred_group==1).sum() / pred_group.shape[0]\n",
    "        propotion_of_accepted_rate += [accepted_rate]\n",
    "\n",
    "    # 2. Find the maximum and the minimum accepted_rate.\n",
    "    maximum_accepted_rate = max(propotion_of_accepted_rate)\n",
    "    minimum_accepted_rate = min(propotion_of_accepted_rate)\n",
    "\n",
    "    # 3. Calcaulte the different.\n",
    "    difference = maximum_accepted_rate - minimum_accepted_rate\n",
    "    \n",
    "    return difference, propotion_of_accepted_rate"
   ]
  },
  {
   "cell_type": "code",
   "execution_count": 15,
   "metadata": {},
   "outputs": [],
   "source": [
    "predictions = model.predict(test_data[sensitive_feature+non_sensitive_features])\n",
    "sesitive_atribute = test_data[\"sex\"]"
   ]
  },
  {
   "cell_type": "code",
   "execution_count": 16,
   "metadata": {},
   "outputs": [],
   "source": [
    "demorgafic_metric, rates = demorgafic_parity_difference(predictions, sesitive_atribute)"
   ]
  },
  {
   "cell_type": "code",
   "execution_count": 17,
   "metadata": {},
   "outputs": [
    {
     "name": "stdout",
     "output_type": "stream",
     "text": [
      "Demorgafic parity difference is: 0.14162\n"
     ]
    }
   ],
   "source": [
    "print(f\"Demorgafic parity difference is: {round(demorgafic_metric,5)}\")"
   ]
  },
  {
   "cell_type": "code",
   "execution_count": 18,
   "metadata": {},
   "outputs": [
    {
     "name": "stdout",
     "output_type": "stream",
     "text": [
      "The rate of different groups are: [0.06284153005464481, 0.20445726793353894]\n"
     ]
    }
   ],
   "source": [
    "print(f\"The rate of different groups are: {rates}\")"
   ]
  },
  {
   "cell_type": "markdown",
   "metadata": {},
   "source": [
    "---------------\n",
    "**When to use demographic parity?** \n",
    "1. We are aware of **historical biases** that may have affected the quality of our data. E.x not presents of spesific minority in a spesific work.\n",
    "2. We want to **change the state of our current world to improve it**. For example we want to have equal admitions of different group in a spesific project.\n",
    "\n",
    "\n",
    "**Potential issues?** \n",
    "1. **Lazyness**: We can satisfy demografic parity in we accept random people in group S=0 but qualified people in group  b unless we have the same propotion of positive outcome. We avoid lasyness because classfication is usually perfomred by optimizing an perfomance metric.\n",
    "2. **Not optimality compatible**: A classifier that satisfy demographic parity is suboptimal, if the dataset demographic parity is not hold.\n",
    "---------------"
   ]
  },
  {
   "cell_type": "markdown",
   "metadata": {},
   "source": [
    "## F2. Equalized Opotunities\n",
    "\n",
    "**Equalized Opotunities** , also referred to as **true positive parity**, **sensitivity**.\n",
    "\n",
    "Equalized Opotunities states that each group has equal true positive rates.\n",
    "\n",
    "---------------\n",
    "> **Definition Equalized Opotunities :** A classifire $C$ is said that satisfy **equalized opotunities** if $$ P_c(\\hat{Y} = 1 | S = s, Y = 1 ) =  P_c(\\hat{Y} = 1 | Y = 1), \\quad  \\forall s\\in S $$\n",
    "in case of 2 sensitive classes, $ s \\in \\{0,1\\}  $ we can also equivalent write:\n",
    "$$ P_c(\\hat{Y}= 1 | S = 0, Y = 1 ) =  P_c(\\hat{Y}= 1 | S = 1, Y = 1 ) $$  \n",
    "---------------"
   ]
  },
  {
   "cell_type": "markdown",
   "metadata": {},
   "source": [
    "**How to mesure Equalized Opotunities?**   \n",
    "\n",
    "we can mesure the equalized Opotunities using the equalized opotunities difference metric.\n",
    "\n",
    "> **equalized opotunities difference :** we can mesure the equalized opotunities using the next formula: \n",
    "  $$  \\text{Metric} =  max_s[P_c(\\hat{Y}= 1 | S = s, Y = 1 )] -  min_s[P_c(\\hat{Y}= 1 | S = s, Y = 1 )] $$  "
   ]
  },
  {
   "cell_type": "code",
   "execution_count": 19,
   "metadata": {},
   "outputs": [],
   "source": [
    "def equalized_opotunities_difference(predictions, actual, sesitive_atribute):\n",
    "    \"\"\"\n",
    "    Implemention of equalized opotunities difference for different groups of sentitive artibute\n",
    "    1. For each group calculate the TPR.\n",
    "    2. Find the maximum and the minim group.\n",
    "    3. Calcaulte the difference.\n",
    "    \"\"\"\n",
    "    # 1. For each group calculate the TPR.\n",
    "    unique_groups = np.sort(sesitive_atribute.unique())\n",
    "    true_positive_rates = []\n",
    "    for group in unique_groups:\n",
    "        pred_group = predictions[sesitive_atribute==group]\n",
    "        actual_group = actual[sesitive_atribute==group]\n",
    "        conf_matrix = confusion_matrix(y_true = actual_group,\n",
    "                                       y_pred = pred_group)\n",
    "        TN, FP, FN, TP = conf_matrix.ravel()\n",
    "        \n",
    "        true_positive_rate = TP / (TP + FN)\n",
    "        true_positive_rates += [true_positive_rate]\n",
    "\n",
    "    # 2. Find the maximum and the minimum accepted_rate.\n",
    "    maximum_tpr = max(true_positive_rates)\n",
    "    minimum_tpr = min(true_positive_rates)\n",
    "\n",
    "    # 3. Calcaulte the different.\n",
    "    difference = maximum_tpr - minimum_tpr\n",
    "    \n",
    "    return difference, true_positive_rates"
   ]
  },
  {
   "cell_type": "code",
   "execution_count": 20,
   "metadata": {},
   "outputs": [],
   "source": [
    "predictions = model.predict(test_data[sensitive_feature+non_sensitive_features])\n",
    "sesitive_atribute = test_data[\"sex\"]\n",
    "actual = test_data[target_column]"
   ]
  },
  {
   "cell_type": "code",
   "execution_count": 21,
   "metadata": {},
   "outputs": [],
   "source": [
    "equalized_opotunities_metric, _ = equalized_opotunities_difference(predictions, actual, sesitive_atribute)"
   ]
  },
  {
   "cell_type": "code",
   "execution_count": 22,
   "metadata": {},
   "outputs": [
    {
     "name": "stdout",
     "output_type": "stream",
     "text": [
      "equalized opotunities difference is: 0.0724\n"
     ]
    }
   ],
   "source": [
    "print(f\"equalized opotunities difference is: {round(equalized_opotunities_metric,5)}\")"
   ]
  },
  {
   "cell_type": "markdown",
   "metadata": {},
   "source": [
    "#### TODO\n",
    "\n",
    "---------------\n",
    "**When to use equalized opotunities?** \n",
    "1. When is a strong emphasis on predicting the positive outcome correctly. e.x college admitions\n",
    "2. When False Positives are not costly for the stateholder. e.x spam detection\n",
    "\n",
    "**Potential issues?** \n",
    "1. **Lazyness**: We can satisfy demografic parity in we accept random people in group S=0 but qualified people in group  b unless we have the same propotion of positive outcome. We avoid lasyness because classfication is usually perfomred by optimizing an perfomance metric.\n",
    "2. **Not optimality compatible**: A classifier that satisfy demographic parity is suboptimal, if the dataset demographic parity is not hold.\n",
    "---------------"
   ]
  },
  {
   "cell_type": "markdown",
   "metadata": {},
   "source": [
    "## F3. Equalized Odds\n",
    "\n",
    "**Equalized Odds** , also referred to as\n",
    "\n",
    "Equalized Odds states that the true posite rates (TPR) and false positive rates (FPR) between sensitive group must be the same.\n",
    "\n",
    "- TPR = TP / total_positives  = TP / (TP+FN)\n",
    "- FPR = FP / total_negatives = FP / (FP+TN)\n",
    "---------------\n",
    "> **Definition Equalized Odds :** A classifire $C$ is said that satisfy **equalized odds** if $$ P_c(\\hat{Y} = 1 | S = s, Y = y ) =  P_c(\\hat{Y} = 1 | Y = y), \\quad  \\forall s\\in S, \\forall y\\in Y $$\n",
    "in case of 2 sensitive classes, $ s \\in \\{0,1\\}  $ we want to satisfie both:\n",
    "$$ P_c(\\hat{Y}= 1 | S = 0, Y = 1 ) =  P_c(\\hat{Y}= 1 | S = 1, Y = 1 ) $$ \n",
    "and \n",
    "$$ P_c(\\hat{Y}= 1 | S = 0, Y = 0 ) =  P_c(\\hat{Y}= 1 | S = 1, Y = 0 ) $$  \n",
    "---------------"
   ]
  },
  {
   "cell_type": "markdown",
   "metadata": {},
   "source": [
    "**How to mesure Equalized Opotunities?**   \n",
    "\n",
    "we can mesure the equalized Opotunities using the equalized opotunities difference metric.\n",
    "\n",
    "> **equalized opotunities difference :** we can mesure the equalized opotunities using the next formula:\n",
    "  $$   \\text{Metric} = \\text{true_positive_rate_difference} + \\text{false_positive_rate_difference}  $$\n",
    "where\n",
    "  $$ \\text{true_positive_rate_difference} =  max_s[P_c(\\hat{Y}= 1 | S = s, Y = 1 )] -  min_s[P_c(\\hat{Y}= 1 | S = s, Y = 1 )] $$ \n",
    "  $$ \\text{false_positive_rate_difference} =  max_s[P_c(\\hat{Y}= 1 | S = s, Y = 0 )] -  min_s[P_c(\\hat{Y}= 1 | S = s, Y = 0 )] $$  "
   ]
  },
  {
   "cell_type": "code",
   "execution_count": 23,
   "metadata": {},
   "outputs": [],
   "source": [
    "def equalized_odds_difference(predictions, actual, sesitive_atribute):\n",
    "    \"\"\"\n",
    "    Implemention of equalized odds difference for different groups of sentitive artibute\n",
    "    1. For each group calculate the TPR.\n",
    "    2. Find the maximum and the minim group.\n",
    "    3. Calcaulte the difference.\n",
    "    \"\"\"\n",
    "    # 1. For each group calculate the TPR.\n",
    "    unique_groups = np.sort(sesitive_atribute.unique())\n",
    "    true_positive_rates = []\n",
    "    false_positive_rates = []\n",
    "    for group in unique_groups:\n",
    "        pred_group = predictions[sesitive_atribute==group]\n",
    "        actual_group = actual[sesitive_atribute==group]\n",
    "        conf_matrix = confusion_matrix(y_true = actual_group,\n",
    "                                       y_pred = pred_group)\n",
    "        TN, FP, FN, TP = conf_matrix.ravel()\n",
    "        \n",
    "        true_positive_rate = TP / (TP + FN)\n",
    "        false_positive_rate = FP / (FP + TN)\n",
    "        \n",
    "        true_positive_rates += [true_positive_rate]\n",
    "        false_positive_rates += [false_positive_rate]\n",
    "\n",
    "    # 2. Find the maximum and the minimum accepted_rate.\n",
    "    maximum_tpr = max(true_positive_rates)\n",
    "    minimum_tpr = min(true_positive_rates)\n",
    "    \n",
    "    maximum_fpr = max(false_positive_rates)\n",
    "    minimum_fpr = min(false_positive_rates)\n",
    "\n",
    "    # 3. Calcaulte the different.\n",
    "    difference_tpr = maximum_tpr - minimum_tpr\n",
    "    difference_fpr = maximum_fpr - minimum_fpr\n",
    "    difference = difference_tpr + difference_fpr\n",
    "    \n",
    "    return difference, (true_positive_rates,false_positive_rates)"
   ]
  },
  {
   "cell_type": "code",
   "execution_count": 24,
   "metadata": {},
   "outputs": [],
   "source": [
    "predictions = model.predict(test_data[sensitive_feature+non_sensitive_features])\n",
    "sesitive_atribute = test_data[\"sex\"]\n",
    "actual = test_data[target_column]"
   ]
  },
  {
   "cell_type": "code",
   "execution_count": 25,
   "metadata": {},
   "outputs": [],
   "source": [
    "equalized_odds_metrics, _ = equalized_odds_difference(predictions, actual, sesitive_atribute)"
   ]
  },
  {
   "cell_type": "code",
   "execution_count": 26,
   "metadata": {},
   "outputs": [
    {
     "name": "stdout",
     "output_type": "stream",
     "text": [
      "equalized odds difference is: 0.12201\n"
     ]
    }
   ],
   "source": [
    "print(f\"equalized odds difference is: {round(equalized_odds_metrics,5)}\")"
   ]
  },
  {
   "cell_type": "code",
   "execution_count": 27,
   "metadata": {},
   "outputs": [],
   "source": [
    "results = pd.DataFrame([acc_score,\n",
    "                        precision_score,\n",
    "                        recall_score,\n",
    "                        f1_score,\n",
    "                        demorgafic_metric,\n",
    "                        equalized_opotunities_metric,\n",
    "                        equalized_odds_metrics], \n",
    "                       index = [\"accuracy\",\n",
    "                                \"precision\",\n",
    "                                \"recall\",\n",
    "                                \"f1_score\",\n",
    "                                \"demorgafic_metric\",\n",
    "                                \"equalized_opotunities\",\n",
    "                                \"equalized_odds\"],\n",
    "                       columns = [\"model\"])"
   ]
  },
  {
   "cell_type": "markdown",
   "metadata": {},
   "source": [
    "#### TODO\n",
    "\n",
    "---------------\n",
    "**When to use equalized odds?** \n",
    "1. When is a strong emphasis on predicting the positive outcome correctly. e.x college admitions\n",
    "2. When we strongly care about minimising costly False Positives\n",
    "\n",
    "**Potential issues?** \n",
    "1. **Not optimality compatible**: A classifier that satisfy equalized odds is suboptimal, if the dataset demographic parity is not hold. Its more contraind than the equal oportunities so the effect on perfmonace will be stronger\n",
    "---------------"
   ]
  },
  {
   "cell_type": "markdown",
   "metadata": {},
   "source": [
    "For your project you have explain why you choose the spesific fairness critiria."
   ]
  },
  {
   "cell_type": "markdown",
   "metadata": {},
   "source": [
    "# B. Build a Fairn classifier"
   ]
  },
  {
   "cell_type": "code",
   "execution_count": 28,
   "metadata": {},
   "outputs": [],
   "source": [
    "def compute_metric(y_pred, y_true, sensitive_feature):\n",
    "    \n",
    "    conf_matrix = confusion_matrix(y_true = y_true,\n",
    "                                   y_pred = y_pred)\n",
    "    conf_matrix = pd.DataFrame(conf_matrix)\n",
    "\n",
    "    TN, FP, FN, TP = conf_matrix.values.ravel()\n",
    "\n",
    "    acc_score = ( TN + TP ) / (TN + FP + FN + TP)\n",
    "    precision_score = TP  / (TP + FP)\n",
    "    recall_score = TP  / (TP + FN)\n",
    "    f1_score = 2*(precision_score*recall_score)/(precision_score+recall_score)\n",
    "    \n",
    "    demorgafic_metric, _ = demorgafic_parity_difference(y_pred,\n",
    "                                                        sensitive_feature)\n",
    "    \n",
    "    equalized_opotunities_metric, _ = equalized_opotunities_difference(y_pred,\n",
    "                                                                       y_true,\n",
    "                                                                       sensitive_feature)\n",
    "    equalized_odds_metrics, _ = equalized_odds_difference(y_pred,\n",
    "                                                          y_true,\n",
    "                                                          sensitive_feature)\n",
    "    \n",
    "    return {\n",
    "            \"accuracy\": acc_score,\n",
    "            \"precision\": precision_score,\n",
    "            \"recall\": recall_score,\n",
    "            \"f1_score\": f1_score,\n",
    "            \"demorgafic_metric\": demorgafic_metric,\n",
    "            \"equalized_opotunities\" : equalized_opotunities_metric,\n",
    "            \"equalized_odds\": equalized_odds_metrics\n",
    "            }"
   ]
  },
  {
   "cell_type": "markdown",
   "metadata": {},
   "source": [
    "# B1. Unawareness\n",
    "A very intutive but wrong solution is to assume that ingoring the sensitive feature we can build a fair classifier.\n",
    "This aproch is wrong because other feature may be correlete with our sensitive features.\n",
    "\n",
    "We will build a **Unawareness** classifier and the compare the results with our previus classifier."
   ]
  },
  {
   "cell_type": "code",
   "execution_count": 29,
   "metadata": {},
   "outputs": [
    {
     "data": {
      "text/html": [
       "<style>#sk-container-id-2 {color: black;background-color: white;}#sk-container-id-2 pre{padding: 0;}#sk-container-id-2 div.sk-toggleable {background-color: white;}#sk-container-id-2 label.sk-toggleable__label {cursor: pointer;display: block;width: 100%;margin-bottom: 0;padding: 0.3em;box-sizing: border-box;text-align: center;}#sk-container-id-2 label.sk-toggleable__label-arrow:before {content: \"▸\";float: left;margin-right: 0.25em;color: #696969;}#sk-container-id-2 label.sk-toggleable__label-arrow:hover:before {color: black;}#sk-container-id-2 div.sk-estimator:hover label.sk-toggleable__label-arrow:before {color: black;}#sk-container-id-2 div.sk-toggleable__content {max-height: 0;max-width: 0;overflow: hidden;text-align: left;background-color: #f0f8ff;}#sk-container-id-2 div.sk-toggleable__content pre {margin: 0.2em;color: black;border-radius: 0.25em;background-color: #f0f8ff;}#sk-container-id-2 input.sk-toggleable__control:checked~div.sk-toggleable__content {max-height: 200px;max-width: 100%;overflow: auto;}#sk-container-id-2 input.sk-toggleable__control:checked~label.sk-toggleable__label-arrow:before {content: \"▾\";}#sk-container-id-2 div.sk-estimator input.sk-toggleable__control:checked~label.sk-toggleable__label {background-color: #d4ebff;}#sk-container-id-2 div.sk-label input.sk-toggleable__control:checked~label.sk-toggleable__label {background-color: #d4ebff;}#sk-container-id-2 input.sk-hidden--visually {border: 0;clip: rect(1px 1px 1px 1px);clip: rect(1px, 1px, 1px, 1px);height: 1px;margin: -1px;overflow: hidden;padding: 0;position: absolute;width: 1px;}#sk-container-id-2 div.sk-estimator {font-family: monospace;background-color: #f0f8ff;border: 1px dotted black;border-radius: 0.25em;box-sizing: border-box;margin-bottom: 0.5em;}#sk-container-id-2 div.sk-estimator:hover {background-color: #d4ebff;}#sk-container-id-2 div.sk-parallel-item::after {content: \"\";width: 100%;border-bottom: 1px solid gray;flex-grow: 1;}#sk-container-id-2 div.sk-label:hover label.sk-toggleable__label {background-color: #d4ebff;}#sk-container-id-2 div.sk-serial::before {content: \"\";position: absolute;border-left: 1px solid gray;box-sizing: border-box;top: 0;bottom: 0;left: 50%;z-index: 0;}#sk-container-id-2 div.sk-serial {display: flex;flex-direction: column;align-items: center;background-color: white;padding-right: 0.2em;padding-left: 0.2em;position: relative;}#sk-container-id-2 div.sk-item {position: relative;z-index: 1;}#sk-container-id-2 div.sk-parallel {display: flex;align-items: stretch;justify-content: center;background-color: white;position: relative;}#sk-container-id-2 div.sk-item::before, #sk-container-id-2 div.sk-parallel-item::before {content: \"\";position: absolute;border-left: 1px solid gray;box-sizing: border-box;top: 0;bottom: 0;left: 50%;z-index: -1;}#sk-container-id-2 div.sk-parallel-item {display: flex;flex-direction: column;z-index: 1;position: relative;background-color: white;}#sk-container-id-2 div.sk-parallel-item:first-child::after {align-self: flex-end;width: 50%;}#sk-container-id-2 div.sk-parallel-item:last-child::after {align-self: flex-start;width: 50%;}#sk-container-id-2 div.sk-parallel-item:only-child::after {width: 0;}#sk-container-id-2 div.sk-dashed-wrapped {border: 1px dashed gray;margin: 0 0.4em 0.5em 0.4em;box-sizing: border-box;padding-bottom: 0.4em;background-color: white;}#sk-container-id-2 div.sk-label label {font-family: monospace;font-weight: bold;display: inline-block;line-height: 1.2em;}#sk-container-id-2 div.sk-label-container {text-align: center;}#sk-container-id-2 div.sk-container {/* jupyter's `normalize.less` sets `[hidden] { display: none; }` but bootstrap.min.css set `[hidden] { display: none !important; }` so we also need the `!important` here to be able to override the default hidden behavior on the sphinx rendered scikit-learn.org. See: https://github.com/scikit-learn/scikit-learn/issues/21755 */display: inline-block !important;position: relative;}#sk-container-id-2 div.sk-text-repr-fallback {display: none;}</style><div id=\"sk-container-id-2\" class=\"sk-top-container\"><div class=\"sk-text-repr-fallback\"><pre>RandomForestClassifier(max_depth=10, n_estimators=1000)</pre><b>In a Jupyter environment, please rerun this cell to show the HTML representation or trust the notebook. <br />On GitHub, the HTML representation is unable to render, please try loading this page with nbviewer.org.</b></div><div class=\"sk-container\" hidden><div class=\"sk-item\"><div class=\"sk-estimator sk-toggleable\"><input class=\"sk-toggleable__control sk-hidden--visually\" id=\"sk-estimator-id-2\" type=\"checkbox\" checked><label for=\"sk-estimator-id-2\" class=\"sk-toggleable__label sk-toggleable__label-arrow\">RandomForestClassifier</label><div class=\"sk-toggleable__content\"><pre>RandomForestClassifier(max_depth=10, n_estimators=1000)</pre></div></div></div></div></div>"
      ],
      "text/plain": [
       "RandomForestClassifier(max_depth=10, n_estimators=1000)"
      ]
     },
     "execution_count": 29,
     "metadata": {},
     "output_type": "execute_result"
    }
   ],
   "source": [
    "from sklearn.ensemble import RandomForestClassifier\n",
    "\n",
    "unaware_model  = RandomForestClassifier(n_estimators=1000,\n",
    "                                        max_depth=10)\n",
    "\n",
    "unaware_model.fit(X = train_data[non_sensitive_features],\n",
    "                  y = train_data[target_column])"
   ]
  },
  {
   "cell_type": "code",
   "execution_count": 30,
   "metadata": {},
   "outputs": [
    {
     "data": {
      "text/plain": [
       "array([0, 0, 0, ..., 1, 0, 1])"
      ]
     },
     "execution_count": 30,
     "metadata": {},
     "output_type": "execute_result"
    }
   ],
   "source": [
    "unaware_model.predict(test_data[non_sensitive_features])"
   ]
  },
  {
   "cell_type": "code",
   "execution_count": 31,
   "metadata": {},
   "outputs": [],
   "source": [
    "unaware_metrics = compute_metric(y_pred = unaware_model.predict(test_data[non_sensitive_features]),\n",
    "                                 y_true = test_data[target_column],\n",
    "                                 sensitive_feature = test_data[\"sex\"])"
   ]
  },
  {
   "cell_type": "code",
   "execution_count": 32,
   "metadata": {},
   "outputs": [],
   "source": [
    "unaware_results = pd.DataFrame(unaware_metrics,\n",
    "                               index = [\"unaware_model\"]).T"
   ]
  },
  {
   "cell_type": "code",
   "execution_count": 33,
   "metadata": {},
   "outputs": [
    {
     "data": {
      "text/html": [
       "<div>\n",
       "<style scoped>\n",
       "    .dataframe tbody tr th:only-of-type {\n",
       "        vertical-align: middle;\n",
       "    }\n",
       "\n",
       "    .dataframe tbody tr th {\n",
       "        vertical-align: top;\n",
       "    }\n",
       "\n",
       "    .dataframe thead th {\n",
       "        text-align: right;\n",
       "    }\n",
       "</style>\n",
       "<table border=\"1\" class=\"dataframe\">\n",
       "  <thead>\n",
       "    <tr style=\"text-align: right;\">\n",
       "      <th></th>\n",
       "      <th>unaware_model</th>\n",
       "    </tr>\n",
       "  </thead>\n",
       "  <tbody>\n",
       "    <tr>\n",
       "      <th>accuracy</th>\n",
       "      <td>0.856870</td>\n",
       "    </tr>\n",
       "    <tr>\n",
       "      <th>precision</th>\n",
       "      <td>0.794031</td>\n",
       "    </tr>\n",
       "    <tr>\n",
       "      <th>recall</th>\n",
       "      <td>0.528983</td>\n",
       "    </tr>\n",
       "    <tr>\n",
       "      <th>f1_score</th>\n",
       "      <td>0.634958</td>\n",
       "    </tr>\n",
       "    <tr>\n",
       "      <th>demorgafic_metric</th>\n",
       "      <td>0.140341</td>\n",
       "    </tr>\n",
       "    <tr>\n",
       "      <th>equalized_opotunities</th>\n",
       "      <td>0.062643</td>\n",
       "    </tr>\n",
       "    <tr>\n",
       "      <th>equalized_odds</th>\n",
       "      <td>0.112256</td>\n",
       "    </tr>\n",
       "  </tbody>\n",
       "</table>\n",
       "</div>"
      ],
      "text/plain": [
       "                       unaware_model\n",
       "accuracy                    0.856870\n",
       "precision                   0.794031\n",
       "recall                      0.528983\n",
       "f1_score                    0.634958\n",
       "demorgafic_metric           0.140341\n",
       "equalized_opotunities       0.062643\n",
       "equalized_odds              0.112256"
      ]
     },
     "execution_count": 33,
     "metadata": {},
     "output_type": "execute_result"
    }
   ],
   "source": [
    "unaware_results"
   ]
  },
  {
   "cell_type": "markdown",
   "metadata": {},
   "source": [
    "## Compare the results of 2 models"
   ]
  },
  {
   "cell_type": "code",
   "execution_count": 34,
   "metadata": {},
   "outputs": [
    {
     "data": {
      "text/html": [
       "<div>\n",
       "<style scoped>\n",
       "    .dataframe tbody tr th:only-of-type {\n",
       "        vertical-align: middle;\n",
       "    }\n",
       "\n",
       "    .dataframe tbody tr th {\n",
       "        vertical-align: top;\n",
       "    }\n",
       "\n",
       "    .dataframe thead th {\n",
       "        text-align: right;\n",
       "    }\n",
       "</style>\n",
       "<table border=\"1\" class=\"dataframe\">\n",
       "  <thead>\n",
       "    <tr style=\"text-align: right;\">\n",
       "      <th></th>\n",
       "      <th>model</th>\n",
       "      <th>unaware_model</th>\n",
       "    </tr>\n",
       "  </thead>\n",
       "  <tbody>\n",
       "    <tr>\n",
       "      <th>accuracy</th>\n",
       "      <td>0.856738</td>\n",
       "      <td>0.856870</td>\n",
       "    </tr>\n",
       "    <tr>\n",
       "      <th>precision</th>\n",
       "      <td>0.793858</td>\n",
       "      <td>0.794031</td>\n",
       "    </tr>\n",
       "    <tr>\n",
       "      <th>recall</th>\n",
       "      <td>0.528423</td>\n",
       "      <td>0.528983</td>\n",
       "    </tr>\n",
       "    <tr>\n",
       "      <th>f1_score</th>\n",
       "      <td>0.634499</td>\n",
       "      <td>0.634958</td>\n",
       "    </tr>\n",
       "    <tr>\n",
       "      <th>demorgafic_metric</th>\n",
       "      <td>0.141616</td>\n",
       "      <td>0.140341</td>\n",
       "    </tr>\n",
       "    <tr>\n",
       "      <th>equalized_opotunities</th>\n",
       "      <td>0.072399</td>\n",
       "      <td>0.062643</td>\n",
       "    </tr>\n",
       "    <tr>\n",
       "      <th>equalized_odds</th>\n",
       "      <td>0.122013</td>\n",
       "      <td>0.112256</td>\n",
       "    </tr>\n",
       "  </tbody>\n",
       "</table>\n",
       "</div>"
      ],
      "text/plain": [
       "                          model  unaware_model\n",
       "accuracy               0.856738       0.856870\n",
       "precision              0.793858       0.794031\n",
       "recall                 0.528423       0.528983\n",
       "f1_score               0.634499       0.634958\n",
       "demorgafic_metric      0.141616       0.140341\n",
       "equalized_opotunities  0.072399       0.062643\n",
       "equalized_odds         0.122013       0.112256"
      ]
     },
     "execution_count": 34,
     "metadata": {},
     "output_type": "execute_result"
    }
   ],
   "source": [
    "all_results = pd.concat([results, unaware_results],axis=1)\n",
    "all_results"
   ]
  },
  {
   "cell_type": "markdown",
   "metadata": {},
   "source": [
    "### Conclution\n",
    "Our conclution is that we are not able to vanish unfairness by excluding sensitive features.  \n",
    "The reason in that some other feature leak information about our sensitive atribute."
   ]
  },
  {
   "cell_type": "markdown",
   "metadata": {},
   "source": [
    "## B.2 Prost prossesing\n",
    "From the above results we expect that our senstitive feature are correlate with non sensitive feature in our analysis.\n",
    "We will try to find and exclude also those feature in order to improve our fairness properties."
   ]
  },
  {
   "cell_type": "code",
   "execution_count": 35,
   "metadata": {},
   "outputs": [],
   "source": [
    "corr = {}\n",
    "for f in non_sensitive_features:\n",
    "    corr[f] =np.corrcoef(test_data[sensitive_feature[0]], test_data[f])[0,1]\n",
    "corr = np.abs(pd.DataFrame(data=corr, index=[\"corr\"]).T).sort_values(by=\"corr\",ascending = False)"
   ]
  },
  {
   "cell_type": "code",
   "execution_count": 36,
   "metadata": {},
   "outputs": [
    {
     "data": {
      "text/plain": [
       "<Figure size 640x480 with 0 Axes>"
      ]
     },
     "metadata": {},
     "output_type": "display_data"
    },
    {
     "data": {
      "image/png": "[encoded data removed]",
      "text/plain": [
       "<Figure size 640x480 with 1 Axes>"
      ]
     },
     "metadata": {},
     "output_type": "display_data"
    }
   ],
   "source": [
    "plt.figure()\n",
    "corr.plot(kind=\"bar\")\n",
    "plt.title(\"Correletion of sensitive atribute\")\n",
    "plt.show()\n",
    "plt.close()"
   ]
  },
  {
   "cell_type": "markdown",
   "metadata": {},
   "source": [
    "#### bluid classifier excluding k most correleted feature"
   ]
  },
  {
   "cell_type": "code",
   "execution_count": 37,
   "metadata": {},
   "outputs": [],
   "source": [
    "k=3\n",
    "k_most_correleted = corr.iloc[0:k].index.values.tolist()"
   ]
  },
  {
   "cell_type": "code",
   "execution_count": 38,
   "metadata": {},
   "outputs": [
    {
     "name": "stdout",
     "output_type": "stream",
     "text": [
      "===========iteration1===========\n",
      "We exclude from training:  ['relationship']\n",
      "===========iteration2===========\n",
      "We exclude from training:  ['relationship', 'hours_per_week']\n",
      "===========iteration3===========\n",
      "We exclude from training:  ['relationship', 'hours_per_week', 'marital_status']\n"
     ]
    }
   ],
   "source": [
    "for i in range(len(k_most_correleted)):\n",
    "    print(f\"===========iteration{i+1}===========\")\n",
    "    training_features = list(set(non_sensitive_features).difference(set(k_most_correleted[0:i+1])))\n",
    "    print(\"We exclude from training: \", k_most_correleted[0:i+1])\n",
    "    \n",
    "    # 1. train\n",
    "    post_prossesing_model  = RandomForestClassifier(n_estimators=1000,\n",
    "                                                    max_depth=10)\n",
    "\n",
    "    post_prossesing_model.fit(X = train_data[training_features],\n",
    "                              y = train_data[target_column])\n",
    "    \n",
    "\n",
    "    # 2. compute metrix\n",
    "    post_prossesing_metrics = compute_metric(y_pred= post_prossesing_model.predict(test_data[training_features]),\n",
    "                                             y_true= test_data[target_column],\n",
    "                                             sensitive_feature = test_data[\"sex\"])\n",
    "    \n",
    "    # 3. append result\n",
    "    post_prossesing_results = pd.DataFrame(post_prossesing_metrics,\n",
    "                                           index = [f\"post_prossesing_{i+1}\"]).T\n",
    "    \n",
    "    all_results = pd.concat([all_results, post_prossesing_results],axis=1)"
   ]
  },
  {
   "cell_type": "code",
   "execution_count": 39,
   "metadata": {},
   "outputs": [
    {
     "data": {
      "text/html": [
       "<div>\n",
       "<style scoped>\n",
       "    .dataframe tbody tr th:only-of-type {\n",
       "        vertical-align: middle;\n",
       "    }\n",
       "\n",
       "    .dataframe tbody tr th {\n",
       "        vertical-align: top;\n",
       "    }\n",
       "\n",
       "    .dataframe thead th {\n",
       "        text-align: right;\n",
       "    }\n",
       "</style>\n",
       "<table border=\"1\" class=\"dataframe\">\n",
       "  <thead>\n",
       "    <tr style=\"text-align: right;\">\n",
       "      <th></th>\n",
       "      <th>model</th>\n",
       "      <th>unaware_model</th>\n",
       "      <th>post_prossesing_1</th>\n",
       "      <th>post_prossesing_2</th>\n",
       "      <th>post_prossesing_3</th>\n",
       "    </tr>\n",
       "  </thead>\n",
       "  <tbody>\n",
       "    <tr>\n",
       "      <th>accuracy</th>\n",
       "      <td>0.856738</td>\n",
       "      <td>0.856870</td>\n",
       "      <td>0.856277</td>\n",
       "      <td>0.853443</td>\n",
       "      <td>0.833806</td>\n",
       "    </tr>\n",
       "    <tr>\n",
       "      <th>precision</th>\n",
       "      <td>0.793858</td>\n",
       "      <td>0.794031</td>\n",
       "      <td>0.800086</td>\n",
       "      <td>0.780976</td>\n",
       "      <td>0.843035</td>\n",
       "    </tr>\n",
       "    <tr>\n",
       "      <th>recall</th>\n",
       "      <td>0.528423</td>\n",
       "      <td>0.528983</td>\n",
       "      <td>0.518902</td>\n",
       "      <td>0.524223</td>\n",
       "      <td>0.360963</td>\n",
       "    </tr>\n",
       "    <tr>\n",
       "      <th>f1_score</th>\n",
       "      <td>0.634499</td>\n",
       "      <td>0.634958</td>\n",
       "      <td>0.629523</td>\n",
       "      <td>0.627346</td>\n",
       "      <td>0.505490</td>\n",
       "    </tr>\n",
       "    <tr>\n",
       "      <th>demorgafic_metric</th>\n",
       "      <td>0.141616</td>\n",
       "      <td>0.140341</td>\n",
       "      <td>0.146743</td>\n",
       "      <td>0.141248</td>\n",
       "      <td>0.068148</td>\n",
       "    </tr>\n",
       "    <tr>\n",
       "      <th>equalized_opotunities</th>\n",
       "      <td>0.072399</td>\n",
       "      <td>0.062643</td>\n",
       "      <td>0.100674</td>\n",
       "      <td>0.071569</td>\n",
       "      <td>0.027330</td>\n",
       "    </tr>\n",
       "    <tr>\n",
       "      <th>equalized_odds</th>\n",
       "      <td>0.122013</td>\n",
       "      <td>0.112256</td>\n",
       "      <td>0.153326</td>\n",
       "      <td>0.122531</td>\n",
       "      <td>0.028113</td>\n",
       "    </tr>\n",
       "  </tbody>\n",
       "</table>\n",
       "</div>"
      ],
      "text/plain": [
       "                          model  unaware_model  post_prossesing_1  \\\n",
       "accuracy               0.856738       0.856870           0.856277   \n",
       "precision              0.793858       0.794031           0.800086   \n",
       "recall                 0.528423       0.528983           0.518902   \n",
       "f1_score               0.634499       0.634958           0.629523   \n",
       "demorgafic_metric      0.141616       0.140341           0.146743   \n",
       "equalized_opotunities  0.072399       0.062643           0.100674   \n",
       "equalized_odds         0.122013       0.112256           0.153326   \n",
       "\n",
       "                       post_prossesing_2  post_prossesing_3  \n",
       "accuracy                        0.853443           0.833806  \n",
       "precision                       0.780976           0.843035  \n",
       "recall                          0.524223           0.360963  \n",
       "f1_score                        0.627346           0.505490  \n",
       "demorgafic_metric               0.141248           0.068148  \n",
       "equalized_opotunities           0.071569           0.027330  \n",
       "equalized_odds                  0.122531           0.028113  "
      ]
     },
     "execution_count": 39,
     "metadata": {},
     "output_type": "execute_result"
    }
   ],
   "source": [
    "all_results"
   ]
  },
  {
   "cell_type": "code",
   "execution_count": 40,
   "metadata": {},
   "outputs": [
    {
     "data": {
      "text/plain": [
       "<AxesSubplot: >"
      ]
     },
     "execution_count": 40,
     "metadata": {},
     "output_type": "execute_result"
    },
    {
     "data": {
      "image/png": "[encoded data removed]",
      "text/plain": [
       "<Figure size 640x480 with 1 Axes>"
      ]
     },
     "metadata": {},
     "output_type": "display_data"
    }
   ],
   "source": [
    "all_results.plot(kind=\"bar\")"
   ]
  },
  {
   "cell_type": "code",
   "execution_count": 41,
   "metadata": {},
   "outputs": [
    {
     "data": {
      "text/html": [
       "<div>\n",
       "<style scoped>\n",
       "    .dataframe tbody tr th:only-of-type {\n",
       "        vertical-align: middle;\n",
       "    }\n",
       "\n",
       "    .dataframe tbody tr th {\n",
       "        vertical-align: top;\n",
       "    }\n",
       "\n",
       "    .dataframe thead th {\n",
       "        text-align: right;\n",
       "    }\n",
       "</style>\n",
       "<table border=\"1\" class=\"dataframe\">\n",
       "  <thead>\n",
       "    <tr style=\"text-align: right;\">\n",
       "      <th></th>\n",
       "      <th>model</th>\n",
       "      <th>unaware_model</th>\n",
       "      <th>post_prossesing_1</th>\n",
       "      <th>post_prossesing_2</th>\n",
       "      <th>post_prossesing_3</th>\n",
       "    </tr>\n",
       "  </thead>\n",
       "  <tbody>\n",
       "    <tr>\n",
       "      <th>accuracy</th>\n",
       "      <td>0.856738</td>\n",
       "      <td>0.856870</td>\n",
       "      <td>0.856277</td>\n",
       "      <td>0.853443</td>\n",
       "      <td>0.833806</td>\n",
       "    </tr>\n",
       "    <tr>\n",
       "      <th>precision</th>\n",
       "      <td>0.793858</td>\n",
       "      <td>0.794031</td>\n",
       "      <td>0.800086</td>\n",
       "      <td>0.780976</td>\n",
       "      <td>0.843035</td>\n",
       "    </tr>\n",
       "    <tr>\n",
       "      <th>recall</th>\n",
       "      <td>0.528423</td>\n",
       "      <td>0.528983</td>\n",
       "      <td>0.518902</td>\n",
       "      <td>0.524223</td>\n",
       "      <td>0.360963</td>\n",
       "    </tr>\n",
       "    <tr>\n",
       "      <th>f1_score</th>\n",
       "      <td>0.634499</td>\n",
       "      <td>0.634958</td>\n",
       "      <td>0.629523</td>\n",
       "      <td>0.627346</td>\n",
       "      <td>0.505490</td>\n",
       "    </tr>\n",
       "    <tr>\n",
       "      <th>demorgafic_metric</th>\n",
       "      <td>0.141616</td>\n",
       "      <td>0.140341</td>\n",
       "      <td>0.146743</td>\n",
       "      <td>0.141248</td>\n",
       "      <td>0.068148</td>\n",
       "    </tr>\n",
       "    <tr>\n",
       "      <th>equalized_opotunities</th>\n",
       "      <td>0.072399</td>\n",
       "      <td>0.062643</td>\n",
       "      <td>0.100674</td>\n",
       "      <td>0.071569</td>\n",
       "      <td>0.027330</td>\n",
       "    </tr>\n",
       "    <tr>\n",
       "      <th>equalized_odds</th>\n",
       "      <td>0.122013</td>\n",
       "      <td>0.112256</td>\n",
       "      <td>0.153326</td>\n",
       "      <td>0.122531</td>\n",
       "      <td>0.028113</td>\n",
       "    </tr>\n",
       "  </tbody>\n",
       "</table>\n",
       "</div>"
      ],
      "text/plain": [
       "                          model  unaware_model  post_prossesing_1  \\\n",
       "accuracy               0.856738       0.856870           0.856277   \n",
       "precision              0.793858       0.794031           0.800086   \n",
       "recall                 0.528423       0.528983           0.518902   \n",
       "f1_score               0.634499       0.634958           0.629523   \n",
       "demorgafic_metric      0.141616       0.140341           0.146743   \n",
       "equalized_opotunities  0.072399       0.062643           0.100674   \n",
       "equalized_odds         0.122013       0.112256           0.153326   \n",
       "\n",
       "                       post_prossesing_2  post_prossesing_3  \n",
       "accuracy                        0.853443           0.833806  \n",
       "precision                       0.780976           0.843035  \n",
       "recall                          0.524223           0.360963  \n",
       "f1_score                        0.627346           0.505490  \n",
       "demorgafic_metric               0.141248           0.068148  \n",
       "equalized_opotunities           0.071569           0.027330  \n",
       "equalized_odds                  0.122531           0.028113  "
      ]
     },
     "execution_count": 41,
     "metadata": {},
     "output_type": "execute_result"
    }
   ],
   "source": [
    "all_results"
   ]
  },
  {
   "cell_type": "markdown",
   "metadata": {},
   "source": [
    "# Post-Processing"
   ]
  },
  {
   "cell_type": "code",
   "execution_count": 107,
   "metadata": {},
   "outputs": [],
   "source": [
    "propa = model.predict_proba(train_data[sensitive_feature+non_sensitive_features])"
   ]
  },
  {
   "cell_type": "code",
   "execution_count": 108,
   "metadata": {},
   "outputs": [],
   "source": [
    "ts = np.linspace(0,1,50)"
   ]
  },
  {
   "cell_type": "code",
   "execution_count": 118,
   "metadata": {},
   "outputs": [],
   "source": [
    "p = propa[:, 1]"
   ]
  },
  {
   "cell_type": "code",
   "execution_count": 119,
   "metadata": {},
   "outputs": [
    {
     "data": {
      "text/plain": [
       "array([0.08472451, 0.34597013, 0.04282177, ..., 0.33056474, 0.02499307,\n",
       "       0.95064964])"
      ]
     },
     "execution_count": 119,
     "metadata": {},
     "output_type": "execute_result"
    }
   ],
   "source": [
    "p"
   ]
  },
  {
   "cell_type": "code",
   "execution_count": 120,
   "metadata": {},
   "outputs": [],
   "source": [
    "class_0_mask = p >= t\n",
    "    \n",
    "prediction = pd.Series(class_0_mask * 1,index=train_data.index)"
   ]
  },
  {
   "cell_type": "code",
   "execution_count": 114,
   "metadata": {},
   "outputs": [
    {
     "data": {
      "text/plain": [
       "array([False, False, False, ..., False, False, False])"
      ]
     },
     "execution_count": 114,
     "metadata": {},
     "output_type": "execute_result"
    }
   ],
   "source": [
    "class_0_mask"
   ]
  },
  {
   "cell_type": "code",
   "execution_count": 113,
   "metadata": {},
   "outputs": [
    {
     "data": {
      "text/plain": [
       "0        0\n",
       "1        0\n",
       "2        0\n",
       "3        0\n",
       "4        0\n",
       "        ..\n",
       "32554    0\n",
       "32555    0\n",
       "32556    0\n",
       "32558    0\n",
       "32560    0\n",
       "Length: 28938, dtype: int64"
      ]
     },
     "execution_count": 113,
     "metadata": {},
     "output_type": "execute_result"
    }
   ],
   "source": [
    "prediction"
   ]
  },
  {
   "cell_type": "code",
   "execution_count": 121,
   "metadata": {},
   "outputs": [
    {
     "name": "stderr",
     "output_type": "stream",
     "text": [
      "/tmp/ipykernel_1085938/3049594467.py:10: RuntimeWarning: invalid value encountered in long_scalars\n",
      "  precision_score = TP  / (TP + FP)\n"
     ]
    }
   ],
   "source": [
    "metric_ts = []\n",
    "for t in ts:\n",
    "    class_1_mask = p >= t\n",
    "    \n",
    "    prediction = pd.Series(class_1_mask * 1,index=train_data.index)\n",
    "    \n",
    "    metrics = compute_metric(y_pred = prediction,\n",
    "                             y_true = train_data[target_column],\n",
    "                             sensitive_feature = train_data[sensitive_feature[0]])\n",
    "    \n",
    "    metric_ts += [metrics]"
   ]
  },
  {
   "cell_type": "code",
   "execution_count": 122,
   "metadata": {},
   "outputs": [],
   "source": [
    "ts_results = pd.DataFrame(metric_ts,index = ts)"
   ]
  },
  {
   "cell_type": "code",
   "execution_count": 132,
   "metadata": {},
   "outputs": [
    {
     "data": {
      "text/html": [
       "<div>\n",
       "<style scoped>\n",
       "    .dataframe tbody tr th:only-of-type {\n",
       "        vertical-align: middle;\n",
       "    }\n",
       "\n",
       "    .dataframe tbody tr th {\n",
       "        vertical-align: top;\n",
       "    }\n",
       "\n",
       "    .dataframe thead th {\n",
       "        text-align: right;\n",
       "    }\n",
       "</style>\n",
       "<table border=\"1\" class=\"dataframe\">\n",
       "  <thead>\n",
       "    <tr style=\"text-align: right;\">\n",
       "      <th></th>\n",
       "      <th>accuracy</th>\n",
       "      <th>precision</th>\n",
       "      <th>recall</th>\n",
       "      <th>f1_score</th>\n",
       "      <th>demorgafic_metric</th>\n",
       "      <th>equalized_opotunities</th>\n",
       "      <th>equalized_odds</th>\n",
       "    </tr>\n",
       "  </thead>\n",
       "  <tbody>\n",
       "    <tr>\n",
       "      <th>0.000000</th>\n",
       "      <td>0.243693</td>\n",
       "      <td>0.243693</td>\n",
       "      <td>1.000000</td>\n",
       "      <td>0.391887</td>\n",
       "      <td>0.000000</td>\n",
       "      <td>0.000000</td>\n",
       "      <td>0.000000</td>\n",
       "    </tr>\n",
       "    <tr>\n",
       "      <th>0.020408</th>\n",
       "      <td>0.469245</td>\n",
       "      <td>0.314617</td>\n",
       "      <td>0.999575</td>\n",
       "      <td>0.478596</td>\n",
       "      <td>0.212358</td>\n",
       "      <td>0.000547</td>\n",
       "      <td>0.191501</td>\n",
       "    </tr>\n",
       "    <tr>\n",
       "      <th>0.040816</th>\n",
       "      <td>0.583938</td>\n",
       "      <td>0.368958</td>\n",
       "      <td>0.995746</td>\n",
       "      <td>0.538414</td>\n",
       "      <td>0.343087</td>\n",
       "      <td>0.016010</td>\n",
       "      <td>0.330069</td>\n",
       "    </tr>\n",
       "    <tr>\n",
       "      <th>0.061224</th>\n",
       "      <td>0.643652</td>\n",
       "      <td>0.405310</td>\n",
       "      <td>0.989365</td>\n",
       "      <td>0.575043</td>\n",
       "      <td>0.384775</td>\n",
       "      <td>0.036865</td>\n",
       "      <td>0.380758</td>\n",
       "    </tr>\n",
       "    <tr>\n",
       "      <th>0.081633</th>\n",
       "      <td>0.684740</td>\n",
       "      <td>0.435058</td>\n",
       "      <td>0.983693</td>\n",
       "      <td>0.603296</td>\n",
       "      <td>0.385240</td>\n",
       "      <td>0.045918</td>\n",
       "      <td>0.376564</td>\n",
       "    </tr>\n",
       "    <tr>\n",
       "      <th>0.102041</th>\n",
       "      <td>0.712869</td>\n",
       "      <td>0.458225</td>\n",
       "      <td>0.977595</td>\n",
       "      <td>0.623976</td>\n",
       "      <td>0.383906</td>\n",
       "      <td>0.051302</td>\n",
       "      <td>0.371342</td>\n",
       "    </tr>\n",
       "    <tr>\n",
       "      <th>0.122449</th>\n",
       "      <td>0.735849</td>\n",
       "      <td>0.479251</td>\n",
       "      <td>0.969512</td>\n",
       "      <td>0.641430</td>\n",
       "      <td>0.386284</td>\n",
       "      <td>0.058538</td>\n",
       "      <td>0.374201</td>\n",
       "    </tr>\n",
       "    <tr>\n",
       "      <th>0.142857</th>\n",
       "      <td>0.755408</td>\n",
       "      <td>0.499041</td>\n",
       "      <td>0.959161</td>\n",
       "      <td>0.656508</td>\n",
       "      <td>0.377531</td>\n",
       "      <td>0.069395</td>\n",
       "      <td>0.367704</td>\n",
       "    </tr>\n",
       "    <tr>\n",
       "      <th>0.163265</th>\n",
       "      <td>0.769784</td>\n",
       "      <td>0.515012</td>\n",
       "      <td>0.948667</td>\n",
       "      <td>0.667598</td>\n",
       "      <td>0.373748</td>\n",
       "      <td>0.083245</td>\n",
       "      <td>0.371492</td>\n",
       "    </tr>\n",
       "    <tr>\n",
       "      <th>0.183673</th>\n",
       "      <td>0.782224</td>\n",
       "      <td>0.530072</td>\n",
       "      <td>0.937323</td>\n",
       "      <td>0.677185</td>\n",
       "      <td>0.366414</td>\n",
       "      <td>0.091866</td>\n",
       "      <td>0.367356</td>\n",
       "    </tr>\n",
       "    <tr>\n",
       "      <th>0.204082</th>\n",
       "      <td>0.791900</td>\n",
       "      <td>0.542739</td>\n",
       "      <td>0.927396</td>\n",
       "      <td>0.684745</td>\n",
       "      <td>0.356762</td>\n",
       "      <td>0.091638</td>\n",
       "      <td>0.353753</td>\n",
       "    </tr>\n",
       "    <tr>\n",
       "      <th>0.224490</th>\n",
       "      <td>0.801749</td>\n",
       "      <td>0.556618</td>\n",
       "      <td>0.916619</td>\n",
       "      <td>0.692633</td>\n",
       "      <td>0.349919</td>\n",
       "      <td>0.090396</td>\n",
       "      <td>0.342882</td>\n",
       "    </tr>\n",
       "    <tr>\n",
       "      <th>0.244898</th>\n",
       "      <td>0.810457</td>\n",
       "      <td>0.569912</td>\n",
       "      <td>0.905701</td>\n",
       "      <td>0.699600</td>\n",
       "      <td>0.344851</td>\n",
       "      <td>0.094255</td>\n",
       "      <td>0.338775</td>\n",
       "    </tr>\n",
       "    <tr>\n",
       "      <th>0.265306</th>\n",
       "      <td>0.820375</td>\n",
       "      <td>0.586040</td>\n",
       "      <td>0.895349</td>\n",
       "      <td>0.708403</td>\n",
       "      <td>0.339912</td>\n",
       "      <td>0.103005</td>\n",
       "      <td>0.338352</td>\n",
       "    </tr>\n",
       "    <tr>\n",
       "      <th>0.285714</th>\n",
       "      <td>0.827631</td>\n",
       "      <td>0.599633</td>\n",
       "      <td>0.880743</td>\n",
       "      <td>0.713498</td>\n",
       "      <td>0.332473</td>\n",
       "      <td>0.103527</td>\n",
       "      <td>0.329641</td>\n",
       "    </tr>\n",
       "    <tr>\n",
       "      <th>0.306122</th>\n",
       "      <td>0.836236</td>\n",
       "      <td>0.616641</td>\n",
       "      <td>0.866988</td>\n",
       "      <td>0.720693</td>\n",
       "      <td>0.322696</td>\n",
       "      <td>0.116654</td>\n",
       "      <td>0.327789</td>\n",
       "    </tr>\n",
       "    <tr>\n",
       "      <th>0.326531</th>\n",
       "      <td>0.844668</td>\n",
       "      <td>0.635765</td>\n",
       "      <td>0.848979</td>\n",
       "      <td>0.727063</td>\n",
       "      <td>0.309425</td>\n",
       "      <td>0.120500</td>\n",
       "      <td>0.314761</td>\n",
       "    </tr>\n",
       "    <tr>\n",
       "      <th>0.346939</th>\n",
       "      <td>0.852581</td>\n",
       "      <td>0.657722</td>\n",
       "      <td>0.823738</td>\n",
       "      <td>0.731428</td>\n",
       "      <td>0.290060</td>\n",
       "      <td>0.119950</td>\n",
       "      <td>0.291935</td>\n",
       "    </tr>\n",
       "    <tr>\n",
       "      <th>0.367347</th>\n",
       "      <td>0.860080</td>\n",
       "      <td>0.682464</td>\n",
       "      <td>0.796370</td>\n",
       "      <td>0.735030</td>\n",
       "      <td>0.268213</td>\n",
       "      <td>0.112651</td>\n",
       "      <td>0.260988</td>\n",
       "    </tr>\n",
       "    <tr>\n",
       "      <th>0.387755</th>\n",
       "      <td>0.864400</td>\n",
       "      <td>0.707152</td>\n",
       "      <td>0.757090</td>\n",
       "      <td>0.731270</td>\n",
       "      <td>0.243005</td>\n",
       "      <td>0.105921</td>\n",
       "      <td>0.229309</td>\n",
       "    </tr>\n",
       "    <tr>\n",
       "      <th>0.408163</th>\n",
       "      <td>0.868063</td>\n",
       "      <td>0.732863</td>\n",
       "      <td>0.721639</td>\n",
       "      <td>0.727208</td>\n",
       "      <td>0.222542</td>\n",
       "      <td>0.094266</td>\n",
       "      <td>0.199055</td>\n",
       "    </tr>\n",
       "    <tr>\n",
       "      <th>0.428571</th>\n",
       "      <td>0.868927</td>\n",
       "      <td>0.761347</td>\n",
       "      <td>0.673142</td>\n",
       "      <td>0.714533</td>\n",
       "      <td>0.197459</td>\n",
       "      <td>0.082884</td>\n",
       "      <td>0.166331</td>\n",
       "    </tr>\n",
       "    <tr>\n",
       "      <th>0.448980</th>\n",
       "      <td>0.869134</td>\n",
       "      <td>0.782586</td>\n",
       "      <td>0.641095</td>\n",
       "      <td>0.704809</td>\n",
       "      <td>0.183816</td>\n",
       "      <td>0.083712</td>\n",
       "      <td>0.155292</td>\n",
       "    </tr>\n",
       "    <tr>\n",
       "      <th>0.469388</th>\n",
       "      <td>0.867890</td>\n",
       "      <td>0.802284</td>\n",
       "      <td>0.607629</td>\n",
       "      <td>0.691519</td>\n",
       "      <td>0.170399</td>\n",
       "      <td>0.081798</td>\n",
       "      <td>0.142982</td>\n",
       "    </tr>\n",
       "    <tr>\n",
       "      <th>0.489796</th>\n",
       "      <td>0.863709</td>\n",
       "      <td>0.817402</td>\n",
       "      <td>0.567499</td>\n",
       "      <td>0.669903</td>\n",
       "      <td>0.151890</td>\n",
       "      <td>0.058248</td>\n",
       "      <td>0.108675</td>\n",
       "    </tr>\n",
       "    <tr>\n",
       "      <th>0.510204</th>\n",
       "      <td>0.862499</td>\n",
       "      <td>0.826152</td>\n",
       "      <td>0.551900</td>\n",
       "      <td>0.661736</td>\n",
       "      <td>0.147139</td>\n",
       "      <td>0.060750</td>\n",
       "      <td>0.107779</td>\n",
       "    </tr>\n",
       "    <tr>\n",
       "      <th>0.530612</th>\n",
       "      <td>0.861221</td>\n",
       "      <td>0.831876</td>\n",
       "      <td>0.539563</td>\n",
       "      <td>0.654567</td>\n",
       "      <td>0.145363</td>\n",
       "      <td>0.075566</td>\n",
       "      <td>0.120139</td>\n",
       "    </tr>\n",
       "    <tr>\n",
       "      <th>0.551020</th>\n",
       "      <td>0.861186</td>\n",
       "      <td>0.842628</td>\n",
       "      <td>0.529212</td>\n",
       "      <td>0.650118</td>\n",
       "      <td>0.141627</td>\n",
       "      <td>0.079046</td>\n",
       "      <td>0.120068</td>\n",
       "    </tr>\n",
       "    <tr>\n",
       "      <th>0.571429</th>\n",
       "      <td>0.861117</td>\n",
       "      <td>0.857918</td>\n",
       "      <td>0.515457</td>\n",
       "      <td>0.643990</td>\n",
       "      <td>0.135586</td>\n",
       "      <td>0.079527</td>\n",
       "      <td>0.115254</td>\n",
       "    </tr>\n",
       "    <tr>\n",
       "      <th>0.591837</th>\n",
       "      <td>0.859631</td>\n",
       "      <td>0.871152</td>\n",
       "      <td>0.497589</td>\n",
       "      <td>0.633394</td>\n",
       "      <td>0.128656</td>\n",
       "      <td>0.078273</td>\n",
       "      <td>0.109041</td>\n",
       "    </tr>\n",
       "    <tr>\n",
       "      <th>0.612245</th>\n",
       "      <td>0.857765</td>\n",
       "      <td>0.888565</td>\n",
       "      <td>0.476035</td>\n",
       "      <td>0.619945</td>\n",
       "      <td>0.119426</td>\n",
       "      <td>0.070521</td>\n",
       "      <td>0.095385</td>\n",
       "    </tr>\n",
       "    <tr>\n",
       "      <th>0.632653</th>\n",
       "      <td>0.854067</td>\n",
       "      <td>0.911551</td>\n",
       "      <td>0.444271</td>\n",
       "      <td>0.597388</td>\n",
       "      <td>0.107899</td>\n",
       "      <td>0.062203</td>\n",
       "      <td>0.080675</td>\n",
       "    </tr>\n",
       "    <tr>\n",
       "      <th>0.653061</th>\n",
       "      <td>0.850128</td>\n",
       "      <td>0.927829</td>\n",
       "      <td>0.417470</td>\n",
       "      <td>0.575844</td>\n",
       "      <td>0.101018</td>\n",
       "      <td>0.068226</td>\n",
       "      <td>0.082728</td>\n",
       "    </tr>\n",
       "    <tr>\n",
       "      <th>0.673469</th>\n",
       "      <td>0.845843</td>\n",
       "      <td>0.947187</td>\n",
       "      <td>0.389109</td>\n",
       "      <td>0.551613</td>\n",
       "      <td>0.090119</td>\n",
       "      <td>0.053422</td>\n",
       "      <td>0.063115</td>\n",
       "    </tr>\n",
       "    <tr>\n",
       "      <th>0.693878</th>\n",
       "      <td>0.841350</td>\n",
       "      <td>0.957605</td>\n",
       "      <td>0.365145</td>\n",
       "      <td>0.528693</td>\n",
       "      <td>0.083548</td>\n",
       "      <td>0.050176</td>\n",
       "      <td>0.057675</td>\n",
       "    </tr>\n",
       "    <tr>\n",
       "      <th>0.714286</th>\n",
       "      <td>0.836443</td>\n",
       "      <td>0.966600</td>\n",
       "      <td>0.340613</td>\n",
       "      <td>0.503722</td>\n",
       "      <td>0.077958</td>\n",
       "      <td>0.053631</td>\n",
       "      <td>0.059162</td>\n",
       "    </tr>\n",
       "    <tr>\n",
       "      <th>0.734694</th>\n",
       "      <td>0.830707</td>\n",
       "      <td>0.985566</td>\n",
       "      <td>0.309841</td>\n",
       "      <td>0.471464</td>\n",
       "      <td>0.068556</td>\n",
       "      <td>0.044387</td>\n",
       "      <td>0.046814</td>\n",
       "    </tr>\n",
       "    <tr>\n",
       "      <th>0.755102</th>\n",
       "      <td>0.825109</td>\n",
       "      <td>0.996014</td>\n",
       "      <td>0.283466</td>\n",
       "      <td>0.441329</td>\n",
       "      <td>0.061111</td>\n",
       "      <td>0.037217</td>\n",
       "      <td>0.037823</td>\n",
       "    </tr>\n",
       "    <tr>\n",
       "      <th>0.775510</th>\n",
       "      <td>0.820824</td>\n",
       "      <td>1.000000</td>\n",
       "      <td>0.264748</td>\n",
       "      <td>0.418657</td>\n",
       "      <td>0.055480</td>\n",
       "      <td>0.026519</td>\n",
       "      <td>0.026519</td>\n",
       "    </tr>\n",
       "    <tr>\n",
       "      <th>0.795918</th>\n",
       "      <td>0.819269</td>\n",
       "      <td>1.000000</td>\n",
       "      <td>0.258366</td>\n",
       "      <td>0.410638</td>\n",
       "      <td>0.054512</td>\n",
       "      <td>0.028405</td>\n",
       "      <td>0.028405</td>\n",
       "    </tr>\n",
       "    <tr>\n",
       "      <th>0.816327</th>\n",
       "      <td>0.817576</td>\n",
       "      <td>1.000000</td>\n",
       "      <td>0.251418</td>\n",
       "      <td>0.401813</td>\n",
       "      <td>0.052718</td>\n",
       "      <td>0.025400</td>\n",
       "      <td>0.025400</td>\n",
       "    </tr>\n",
       "    <tr>\n",
       "      <th>0.836735</th>\n",
       "      <td>0.815848</td>\n",
       "      <td>1.000000</td>\n",
       "      <td>0.244328</td>\n",
       "      <td>0.392707</td>\n",
       "      <td>0.051334</td>\n",
       "      <td>0.025387</td>\n",
       "      <td>0.025387</td>\n",
       "    </tr>\n",
       "    <tr>\n",
       "      <th>0.857143</th>\n",
       "      <td>0.813878</td>\n",
       "      <td>1.000000</td>\n",
       "      <td>0.236245</td>\n",
       "      <td>0.382198</td>\n",
       "      <td>0.050509</td>\n",
       "      <td>0.030515</td>\n",
       "      <td>0.030515</td>\n",
       "    </tr>\n",
       "    <tr>\n",
       "      <th>0.877551</th>\n",
       "      <td>0.812357</td>\n",
       "      <td>1.000000</td>\n",
       "      <td>0.230006</td>\n",
       "      <td>0.373991</td>\n",
       "      <td>0.050363</td>\n",
       "      <td>0.037839</td>\n",
       "      <td>0.037839</td>\n",
       "    </tr>\n",
       "    <tr>\n",
       "      <th>0.897959</th>\n",
       "      <td>0.809800</td>\n",
       "      <td>1.000000</td>\n",
       "      <td>0.219512</td>\n",
       "      <td>0.360000</td>\n",
       "      <td>0.050343</td>\n",
       "      <td>0.051688</td>\n",
       "      <td>0.051688</td>\n",
       "    </tr>\n",
       "    <tr>\n",
       "      <th>0.918367</th>\n",
       "      <td>0.804306</td>\n",
       "      <td>1.000000</td>\n",
       "      <td>0.196965</td>\n",
       "      <td>0.329108</td>\n",
       "      <td>0.049573</td>\n",
       "      <td>0.076476</td>\n",
       "      <td>0.076476</td>\n",
       "    </tr>\n",
       "    <tr>\n",
       "      <th>0.938776</th>\n",
       "      <td>0.795770</td>\n",
       "      <td>1.000000</td>\n",
       "      <td>0.161940</td>\n",
       "      <td>0.278741</td>\n",
       "      <td>0.044043</td>\n",
       "      <td>0.085351</td>\n",
       "      <td>0.085351</td>\n",
       "    </tr>\n",
       "    <tr>\n",
       "      <th>0.959184</th>\n",
       "      <td>0.776695</td>\n",
       "      <td>1.000000</td>\n",
       "      <td>0.083664</td>\n",
       "      <td>0.154410</td>\n",
       "      <td>0.022554</td>\n",
       "      <td>0.042722</td>\n",
       "      <td>0.042722</td>\n",
       "    </tr>\n",
       "    <tr>\n",
       "      <th>0.979592</th>\n",
       "      <td>0.759762</td>\n",
       "      <td>1.000000</td>\n",
       "      <td>0.014180</td>\n",
       "      <td>0.027964</td>\n",
       "      <td>0.004308</td>\n",
       "      <td>0.010563</td>\n",
       "      <td>0.010563</td>\n",
       "    </tr>\n",
       "    <tr>\n",
       "      <th>1.000000</th>\n",
       "      <td>0.756307</td>\n",
       "      <td>NaN</td>\n",
       "      <td>0.000000</td>\n",
       "      <td>NaN</td>\n",
       "      <td>0.000000</td>\n",
       "      <td>0.000000</td>\n",
       "      <td>0.000000</td>\n",
       "    </tr>\n",
       "  </tbody>\n",
       "</table>\n",
       "</div>"
      ],
      "text/plain": [
       "          accuracy  precision    recall  f1_score  demorgafic_metric  \\\n",
       "0.000000  0.243693   0.243693  1.000000  0.391887           0.000000   \n",
       "0.020408  0.469245   0.314617  0.999575  0.478596           0.212358   \n",
       "0.040816  0.583938   0.368958  0.995746  0.538414           0.343087   \n",
       "0.061224  0.643652   0.405310  0.989365  0.575043           0.384775   \n",
       "0.081633  0.684740   0.435058  0.983693  0.603296           0.385240   \n",
       "0.102041  0.712869   0.458225  0.977595  0.623976           0.383906   \n",
       "0.122449  0.735849   0.479251  0.969512  0.641430           0.386284   \n",
       "0.142857  0.755408   0.499041  0.959161  0.656508           0.377531   \n",
       "0.163265  0.769784   0.515012  0.948667  0.667598           0.373748   \n",
       "0.183673  0.782224   0.530072  0.937323  0.677185           0.366414   \n",
       "0.204082  0.791900   0.542739  0.927396  0.684745           0.356762   \n",
       "0.224490  0.801749   0.556618  0.916619  0.692633           0.349919   \n",
       "0.244898  0.810457   0.569912  0.905701  0.699600           0.344851   \n",
       "0.265306  0.820375   0.586040  0.895349  0.708403           0.339912   \n",
       "0.285714  0.827631   0.599633  0.880743  0.713498           0.332473   \n",
       "0.306122  0.836236   0.616641  0.866988  0.720693           0.322696   \n",
       "0.326531  0.844668   0.635765  0.848979  0.727063           0.309425   \n",
       "0.346939  0.852581   0.657722  0.823738  0.731428           0.290060   \n",
       "0.367347  0.860080   0.682464  0.796370  0.735030           0.268213   \n",
       "0.387755  0.864400   0.707152  0.757090  0.731270           0.243005   \n",
       "0.408163  0.868063   0.732863  0.721639  0.727208           0.222542   \n",
       "0.428571  0.868927   0.761347  0.673142  0.714533           0.197459   \n",
       "0.448980  0.869134   0.782586  0.641095  0.704809           0.183816   \n",
       "0.469388  0.867890   0.802284  0.607629  0.691519           0.170399   \n",
       "0.489796  0.863709   0.817402  0.567499  0.669903           0.151890   \n",
       "0.510204  0.862499   0.826152  0.551900  0.661736           0.147139   \n",
       "0.530612  0.861221   0.831876  0.539563  0.654567           0.145363   \n",
       "0.551020  0.861186   0.842628  0.529212  0.650118           0.141627   \n",
       "0.571429  0.861117   0.857918  0.515457  0.643990           0.135586   \n",
       "0.591837  0.859631   0.871152  0.497589  0.633394           0.128656   \n",
       "0.612245  0.857765   0.888565  0.476035  0.619945           0.119426   \n",
       "0.632653  0.854067   0.911551  0.444271  0.597388           0.107899   \n",
       "0.653061  0.850128   0.927829  0.417470  0.575844           0.101018   \n",
       "0.673469  0.845843   0.947187  0.389109  0.551613           0.090119   \n",
       "0.693878  0.841350   0.957605  0.365145  0.528693           0.083548   \n",
       "0.714286  0.836443   0.966600  0.340613  0.503722           0.077958   \n",
       "0.734694  0.830707   0.985566  0.309841  0.471464           0.068556   \n",
       "0.755102  0.825109   0.996014  0.283466  0.441329           0.061111   \n",
       "0.775510  0.820824   1.000000  0.264748  0.418657           0.055480   \n",
       "0.795918  0.819269   1.000000  0.258366  0.410638           0.054512   \n",
       "0.816327  0.817576   1.000000  0.251418  0.401813           0.052718   \n",
       "0.836735  0.815848   1.000000  0.244328  0.392707           0.051334   \n",
       "0.857143  0.813878   1.000000  0.236245  0.382198           0.050509   \n",
       "0.877551  0.812357   1.000000  0.230006  0.373991           0.050363   \n",
       "0.897959  0.809800   1.000000  0.219512  0.360000           0.050343   \n",
       "0.918367  0.804306   1.000000  0.196965  0.329108           0.049573   \n",
       "0.938776  0.795770   1.000000  0.161940  0.278741           0.044043   \n",
       "0.959184  0.776695   1.000000  0.083664  0.154410           0.022554   \n",
       "0.979592  0.759762   1.000000  0.014180  0.027964           0.004308   \n",
       "1.000000  0.756307        NaN  0.000000       NaN           0.000000   \n",
       "\n",
       "          equalized_opotunities  equalized_odds  \n",
       "0.000000               0.000000        0.000000  \n",
       "0.020408               0.000547        0.191501  \n",
       "0.040816               0.016010        0.330069  \n",
       "0.061224               0.036865        0.380758  \n",
       "0.081633               0.045918        0.376564  \n",
       "0.102041               0.051302        0.371342  \n",
       "0.122449               0.058538        0.374201  \n",
       "0.142857               0.069395        0.367704  \n",
       "0.163265               0.083245        0.371492  \n",
       "0.183673               0.091866        0.367356  \n",
       "0.204082               0.091638        0.353753  \n",
       "0.224490               0.090396        0.342882  \n",
       "0.244898               0.094255        0.338775  \n",
       "0.265306               0.103005        0.338352  \n",
       "0.285714               0.103527        0.329641  \n",
       "0.306122               0.116654        0.327789  \n",
       "0.326531               0.120500        0.314761  \n",
       "0.346939               0.119950        0.291935  \n",
       "0.367347               0.112651        0.260988  \n",
       "0.387755               0.105921        0.229309  \n",
       "0.408163               0.094266        0.199055  \n",
       "0.428571               0.082884        0.166331  \n",
       "0.448980               0.083712        0.155292  \n",
       "0.469388               0.081798        0.142982  \n",
       "0.489796               0.058248        0.108675  \n",
       "0.510204               0.060750        0.107779  \n",
       "0.530612               0.075566        0.120139  \n",
       "0.551020               0.079046        0.120068  \n",
       "0.571429               0.079527        0.115254  \n",
       "0.591837               0.078273        0.109041  \n",
       "0.612245               0.070521        0.095385  \n",
       "0.632653               0.062203        0.080675  \n",
       "0.653061               0.068226        0.082728  \n",
       "0.673469               0.053422        0.063115  \n",
       "0.693878               0.050176        0.057675  \n",
       "0.714286               0.053631        0.059162  \n",
       "0.734694               0.044387        0.046814  \n",
       "0.755102               0.037217        0.037823  \n",
       "0.775510               0.026519        0.026519  \n",
       "0.795918               0.028405        0.028405  \n",
       "0.816327               0.025400        0.025400  \n",
       "0.836735               0.025387        0.025387  \n",
       "0.857143               0.030515        0.030515  \n",
       "0.877551               0.037839        0.037839  \n",
       "0.897959               0.051688        0.051688  \n",
       "0.918367               0.076476        0.076476  \n",
       "0.938776               0.085351        0.085351  \n",
       "0.959184               0.042722        0.042722  \n",
       "0.979592               0.010563        0.010563  \n",
       "1.000000               0.000000        0.000000  "
      ]
     },
     "execution_count": 132,
     "metadata": {},
     "output_type": "execute_result"
    }
   ],
   "source": [
    "ts_results"
   ]
  },
  {
   "cell_type": "code",
   "execution_count": 133,
   "metadata": {
    "scrolled": false
   },
   "outputs": [
    {
     "data": {
      "text/plain": [
       "<AxesSubplot: >"
      ]
     },
     "execution_count": 133,
     "metadata": {},
     "output_type": "execute_result"
    },
    {
     "data": {
      "image/png": "[encoded data removed]",
      "text/plain": [
       "<Figure size 640x480 with 1 Axes>"
      ]
     },
     "metadata": {},
     "output_type": "display_data"
    }
   ],
   "source": [
    "ts_results.plot()"
   ]
  },
  {
   "cell_type": "code",
   "execution_count": 134,
   "metadata": {},
   "outputs": [
    {
     "data": {
      "text/plain": [
       "0    0.756307\n",
       "1    0.243693\n",
       "Name: income_class, dtype: float64"
      ]
     },
     "execution_count": 134,
     "metadata": {},
     "output_type": "execute_result"
    }
   ],
   "source": [
    "train_data[target_column].value_counts() / train_data[target_column].shape[0]"
   ]
  }
 ],
 "metadata": {
  "kernelspec": {
   "display_name": "general-ml",
   "language": "python",
   "name": "general-ml"
  },
  "language_info": {
   "codemirror_mode": {
    "name": "ipython",
    "version": 3
   },
   "file_extension": ".py",
   "mimetype": "text/x-python",
   "name": "python",
   "nbconvert_exporter": "python",
   "pygments_lexer": "ipython3",
   "version": "3.10.6"
  }
 },
 "nbformat": 4,
 "nbformat_minor": 1
}
