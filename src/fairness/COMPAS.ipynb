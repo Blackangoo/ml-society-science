{
 "cells": [
  {
   "cell_type": "code",
   "execution_count": 1,
   "metadata": {},
   "outputs": [],
   "source": [
    "import sqlalchemy"
   ]
  },
  {
   "cell_type": "code",
   "execution_count": 2,
   "metadata": {},
   "outputs": [],
   "source": [
    "engine = sqlalchemy.create_engine('sqlite:///../../data/COMPAS/compas.db')"
   ]
  },
  {
   "cell_type": "code",
   "execution_count": 3,
   "metadata": {},
   "outputs": [],
   "source": [
    "inspector = sqlalchemy.inspect(engine)"
   ]
  },
  {
   "cell_type": "code",
   "execution_count": 4,
   "metadata": {},
   "outputs": [
    {
     "data": {
      "text/plain": [
       "['casearrest',\n",
       " 'charge',\n",
       " 'compas',\n",
       " 'jailhistory',\n",
       " 'people',\n",
       " 'prisonhistory',\n",
       " 'summary']"
      ]
     },
     "execution_count": 4,
     "metadata": {},
     "output_type": "execute_result"
    }
   ],
   "source": [
    "inspector.get_table_names()"
   ]
  },
  {
   "cell_type": "code",
   "execution_count": 5,
   "metadata": {},
   "outputs": [],
   "source": [
    "cursor = engine.execute('SELECT * FROM compas LIMIT 10')"
   ]
  },
  {
   "cell_type": "code",
   "execution_count": 6,
   "metadata": {},
   "outputs": [
    {
     "data": {
      "text/plain": [
       "[(1, 'miguel', 'hernandez', 56418, 58393, 64352, 'PRETRIAL', 'Risk and Prescreen', 'Intake', 'Pretrial', 'Jail Inmate', 'Single', '2013-08-14 00:00:00.000000', 1, 'Low', 'Low', 7, 'Risk of Violence', -4.31, 1, 1),\n",
       " (2, 'miguel', 'hernandez', 56418, 58393, 64352, 'PRETRIAL', 'Risk and Prescreen', 'Intake', 'Pretrial', 'Jail Inmate', 'Single', '2013-08-14 00:00:00.000000', 1, 'Low', 'Low', 8, 'Risk of Recidivism', -2.78, 1, 1),\n",
       " (3, 'miguel', 'hernandez', 56418, 58393, 64352, 'PRETRIAL', 'Risk and Prescreen', 'Intake', 'Pretrial', 'Jail Inmate', 'Single', '2013-08-14 00:00:00.000000', 1, 'Low', 'Low', 18, 'Risk of Failure to Appear', 13, 1, 1),\n",
       " (4, 'michael', 'ryan', 68603, 72042, 79669, 'PRETRIAL', 'Risk and Prescreen', 'Intake', 'Pretrial', 'Jail Inmate', 'Single', '2014-12-31 00:00:00.000000', 1, 'Low', 'Low', 7, 'Risk of Violence', -2.75, 2, 2),\n",
       " (5, 'michael', 'ryan', 68603, 72042, 79669, 'PRETRIAL', 'Risk and Prescreen', 'Intake', 'Pretrial', 'Jail Inmate', 'Single', '2014-12-31 00:00:00.000000', 1, 'Low', 'Medium', 8, 'Risk of Recidivism', -0.34, 5, 2),\n",
       " (6, 'michael', 'ryan', 68603, 72042, 79669, 'PRETRIAL', 'Risk and Prescreen', 'Intake', 'Pretrial', 'Jail Inmate', 'Single', '2014-12-31 00:00:00.000000', 1, 'Low', 'Low', 18, 'Risk of Failure to Appear', 16, 2, 2),\n",
       " (7, 'kevon', 'dixon', 51601, 52796, 58102, 'PRETRIAL', 'Risk and Prescreen', 'Intake', 'Pretrial', 'Jail Inmate', 'Single', '2013-01-27 00:00:00.000000', 1, 'Low', 'Low', 7, 'Risk of Violence', -3.07, 1, 3),\n",
       " (8, 'kevon', 'dixon', 51601, 52796, 58102, 'PRETRIAL', 'Risk and Prescreen', 'Intake', 'Pretrial', 'Jail Inmate', 'Single', '2013-01-27 00:00:00.000000', 1, 'Low', 'Low', 8, 'Risk of Recidivism', -0.76, 3, 3),\n",
       " (9, 'kevon', 'dixon', 51601, 52796, 58102, 'PRETRIAL', 'Risk and Prescreen', 'Intake', 'Pretrial', 'Jail Inmate', 'Single', '2013-01-27 00:00:00.000000', 1, 'Low', 'Medium', 18, 'Risk of Failure to Appear', 25, 6, 3),\n",
       " (10, 'ed', 'philo', 38864, 55421, 61042, 'PRETRIAL', 'Risk and Prescreen', 'Intake', 'Pretrial', 'Jail Inmate', 'Single', '2013-04-14 00:00:00.000000', 1, 'Low', 'Low', 7, 'Risk of Violence', -2.26, 3, 4)]"
      ]
     },
     "execution_count": 6,
     "metadata": {},
     "output_type": "execute_result"
    }
   ],
   "source": [
    "cursor.fetchall()"
   ]
  },
  {
   "cell_type": "code",
   "execution_count": 7,
   "metadata": {},
   "outputs": [],
   "source": [
    "import pandas"
   ]
  },
  {
   "cell_type": "code",
   "execution_count": 8,
   "metadata": {},
   "outputs": [],
   "source": [
    "people = pandas.read_sql('people', engine)"
   ]
  },
  {
   "cell_type": "code",
   "execution_count": 9,
   "metadata": {},
   "outputs": [
    {
     "data": {
      "text/html": [
       "<div>\n",
       "<style scoped>\n",
       "    .dataframe tbody tr th:only-of-type {\n",
       "        vertical-align: middle;\n",
       "    }\n",
       "\n",
       "    .dataframe tbody tr th {\n",
       "        vertical-align: top;\n",
       "    }\n",
       "\n",
       "    .dataframe thead th {\n",
       "        text-align: right;\n",
       "    }\n",
       "</style>\n",
       "<table border=\"1\" class=\"dataframe\">\n",
       "  <thead>\n",
       "    <tr style=\"text-align: right;\">\n",
       "      <th></th>\n",
       "      <th>id</th>\n",
       "      <th>name</th>\n",
       "      <th>first</th>\n",
       "      <th>last</th>\n",
       "      <th>sex</th>\n",
       "      <th>race</th>\n",
       "      <th>dob</th>\n",
       "      <th>age</th>\n",
       "      <th>age_cat</th>\n",
       "      <th>juv_fel_count</th>\n",
       "      <th>...</th>\n",
       "      <th>r_offense_date</th>\n",
       "      <th>r_charge_desc</th>\n",
       "      <th>r_jail_in</th>\n",
       "      <th>r_jail_out</th>\n",
       "      <th>is_violent_recid</th>\n",
       "      <th>num_vr_cases</th>\n",
       "      <th>vr_case_number</th>\n",
       "      <th>vr_charge_degree</th>\n",
       "      <th>vr_offense_date</th>\n",
       "      <th>vr_charge_desc</th>\n",
       "    </tr>\n",
       "  </thead>\n",
       "  <tbody>\n",
       "    <tr>\n",
       "      <th>0</th>\n",
       "      <td>1</td>\n",
       "      <td>miguel hernandez</td>\n",
       "      <td>miguel</td>\n",
       "      <td>hernandez</td>\n",
       "      <td>Male</td>\n",
       "      <td>Other</td>\n",
       "      <td>1947-04-18</td>\n",
       "      <td>69</td>\n",
       "      <td>Greater than 45</td>\n",
       "      <td>0</td>\n",
       "      <td>...</td>\n",
       "      <td>NaT</td>\n",
       "      <td>None</td>\n",
       "      <td>NaT</td>\n",
       "      <td>NaT</td>\n",
       "      <td>0</td>\n",
       "      <td>None</td>\n",
       "      <td>None</td>\n",
       "      <td>None</td>\n",
       "      <td>NaT</td>\n",
       "      <td>None</td>\n",
       "    </tr>\n",
       "    <tr>\n",
       "      <th>1</th>\n",
       "      <td>2</td>\n",
       "      <td>michael ryan</td>\n",
       "      <td>michael</td>\n",
       "      <td>ryan</td>\n",
       "      <td>Male</td>\n",
       "      <td>Caucasian</td>\n",
       "      <td>1985-02-06</td>\n",
       "      <td>31</td>\n",
       "      <td>25 - 45</td>\n",
       "      <td>0</td>\n",
       "      <td>...</td>\n",
       "      <td>NaT</td>\n",
       "      <td>None</td>\n",
       "      <td>NaT</td>\n",
       "      <td>NaT</td>\n",
       "      <td>0</td>\n",
       "      <td>None</td>\n",
       "      <td>None</td>\n",
       "      <td>None</td>\n",
       "      <td>NaT</td>\n",
       "      <td>None</td>\n",
       "    </tr>\n",
       "    <tr>\n",
       "      <th>2</th>\n",
       "      <td>3</td>\n",
       "      <td>kevon dixon</td>\n",
       "      <td>kevon</td>\n",
       "      <td>dixon</td>\n",
       "      <td>Male</td>\n",
       "      <td>African-American</td>\n",
       "      <td>1982-01-22</td>\n",
       "      <td>34</td>\n",
       "      <td>25 - 45</td>\n",
       "      <td>0</td>\n",
       "      <td>...</td>\n",
       "      <td>2013-07-05</td>\n",
       "      <td>Felony Battery (Dom Strang)</td>\n",
       "      <td>NaT</td>\n",
       "      <td>NaT</td>\n",
       "      <td>1</td>\n",
       "      <td>None</td>\n",
       "      <td>13009779CF10A</td>\n",
       "      <td>(F3)</td>\n",
       "      <td>2013-07-05</td>\n",
       "      <td>Felony Battery (Dom Strang)</td>\n",
       "    </tr>\n",
       "    <tr>\n",
       "      <th>3</th>\n",
       "      <td>4</td>\n",
       "      <td>ed philo</td>\n",
       "      <td>ed</td>\n",
       "      <td>philo</td>\n",
       "      <td>Male</td>\n",
       "      <td>African-American</td>\n",
       "      <td>1991-05-14</td>\n",
       "      <td>24</td>\n",
       "      <td>Less than 25</td>\n",
       "      <td>0</td>\n",
       "      <td>...</td>\n",
       "      <td>2013-06-16</td>\n",
       "      <td>Driving Under The Influence</td>\n",
       "      <td>2013-06-16 09:05:47</td>\n",
       "      <td>2013-06-16 07:18:55</td>\n",
       "      <td>0</td>\n",
       "      <td>None</td>\n",
       "      <td>None</td>\n",
       "      <td>None</td>\n",
       "      <td>NaT</td>\n",
       "      <td>None</td>\n",
       "    </tr>\n",
       "    <tr>\n",
       "      <th>4</th>\n",
       "      <td>5</td>\n",
       "      <td>marcu brown</td>\n",
       "      <td>marcu</td>\n",
       "      <td>brown</td>\n",
       "      <td>Male</td>\n",
       "      <td>African-American</td>\n",
       "      <td>1993-01-21</td>\n",
       "      <td>23</td>\n",
       "      <td>Less than 25</td>\n",
       "      <td>0</td>\n",
       "      <td>...</td>\n",
       "      <td>NaT</td>\n",
       "      <td>None</td>\n",
       "      <td>NaT</td>\n",
       "      <td>NaT</td>\n",
       "      <td>0</td>\n",
       "      <td>None</td>\n",
       "      <td>None</td>\n",
       "      <td>None</td>\n",
       "      <td>NaT</td>\n",
       "      <td>None</td>\n",
       "    </tr>\n",
       "  </tbody>\n",
       "</table>\n",
       "<p>5 rows × 41 columns</p>\n",
       "</div>"
      ],
      "text/plain": [
       "   id              name    first       last   sex              race  \\\n",
       "0   1  miguel hernandez   miguel  hernandez  Male             Other   \n",
       "1   2      michael ryan  michael       ryan  Male         Caucasian   \n",
       "2   3       kevon dixon    kevon      dixon  Male  African-American   \n",
       "3   4          ed philo       ed      philo  Male  African-American   \n",
       "4   5       marcu brown    marcu      brown  Male  African-American   \n",
       "\n",
       "         dob  age          age_cat  juv_fel_count  ...  r_offense_date  \\\n",
       "0 1947-04-18   69  Greater than 45              0  ...             NaT   \n",
       "1 1985-02-06   31          25 - 45              0  ...             NaT   \n",
       "2 1982-01-22   34          25 - 45              0  ...      2013-07-05   \n",
       "3 1991-05-14   24     Less than 25              0  ...      2013-06-16   \n",
       "4 1993-01-21   23     Less than 25              0  ...             NaT   \n",
       "\n",
       "                 r_charge_desc           r_jail_in          r_jail_out  \\\n",
       "0                         None                 NaT                 NaT   \n",
       "1                         None                 NaT                 NaT   \n",
       "2  Felony Battery (Dom Strang)                 NaT                 NaT   \n",
       "3  Driving Under The Influence 2013-06-16 09:05:47 2013-06-16 07:18:55   \n",
       "4                         None                 NaT                 NaT   \n",
       "\n",
       "  is_violent_recid num_vr_cases  vr_case_number vr_charge_degree  \\\n",
       "0                0         None            None             None   \n",
       "1                0         None            None             None   \n",
       "2                1         None   13009779CF10A             (F3)   \n",
       "3                0         None            None             None   \n",
       "4                0         None            None             None   \n",
       "\n",
       "  vr_offense_date               vr_charge_desc  \n",
       "0             NaT                         None  \n",
       "1             NaT                         None  \n",
       "2      2013-07-05  Felony Battery (Dom Strang)  \n",
       "3             NaT                         None  \n",
       "4             NaT                         None  \n",
       "\n",
       "[5 rows x 41 columns]"
      ]
     },
     "execution_count": 9,
     "metadata": {},
     "output_type": "execute_result"
    }
   ],
   "source": [
    "people.head()"
   ]
  },
  {
   "cell_type": "code",
   "execution_count": 10,
   "metadata": {},
   "outputs": [
    {
     "data": {
      "text/plain": [
       "Index(['id', 'name', 'first', 'last', 'sex', 'race', 'dob', 'age', 'age_cat',\n",
       "       'juv_fel_count', 'juv_misd_count', 'juv_other_count',\n",
       "       'compas_screening_date', 'decile_score', 'score_text', 'violent_recid',\n",
       "       'priors_count', 'days_b_screening_arrest', 'c_jail_in', 'c_jail_out',\n",
       "       'c_case_number', 'c_days_from_compas', 'c_arrest_date',\n",
       "       'c_offense_date', 'c_charge_degree', 'c_charge_desc', 'is_recid',\n",
       "       'num_r_cases', 'r_case_number', 'r_charge_degree', 'r_days_from_arrest',\n",
       "       'r_offense_date', 'r_charge_desc', 'r_jail_in', 'r_jail_out',\n",
       "       'is_violent_recid', 'num_vr_cases', 'vr_case_number',\n",
       "       'vr_charge_degree', 'vr_offense_date', 'vr_charge_desc'],\n",
       "      dtype='object')"
      ]
     },
     "execution_count": 10,
     "metadata": {},
     "output_type": "execute_result"
    }
   ],
   "source": [
    "people.columns"
   ]
  },
  {
   "cell_type": "code",
   "execution_count": 11,
   "metadata": {},
   "outputs": [],
   "source": [
    "compas = pandas.read_sql('compas', engine)"
   ]
  },
  {
   "cell_type": "code",
   "execution_count": 12,
   "metadata": {},
   "outputs": [
    {
     "data": {
      "text/html": [
       "<div>\n",
       "<style scoped>\n",
       "    .dataframe tbody tr th:only-of-type {\n",
       "        vertical-align: middle;\n",
       "    }\n",
       "\n",
       "    .dataframe tbody tr th {\n",
       "        vertical-align: top;\n",
       "    }\n",
       "\n",
       "    .dataframe thead th {\n",
       "        text-align: right;\n",
       "    }\n",
       "</style>\n",
       "<table border=\"1\" class=\"dataframe\">\n",
       "  <thead>\n",
       "    <tr style=\"text-align: right;\">\n",
       "      <th></th>\n",
       "      <th>id</th>\n",
       "      <th>first</th>\n",
       "      <th>last</th>\n",
       "      <th>compas_person_id</th>\n",
       "      <th>compas_case_id</th>\n",
       "      <th>compas_assessment_id</th>\n",
       "      <th>agency_text</th>\n",
       "      <th>scale_set</th>\n",
       "      <th>assessment_reason</th>\n",
       "      <th>legal_status</th>\n",
       "      <th>...</th>\n",
       "      <th>marital_status</th>\n",
       "      <th>screening_date</th>\n",
       "      <th>rec_supervision_level</th>\n",
       "      <th>rec_supervision_level_text</th>\n",
       "      <th>score_text</th>\n",
       "      <th>scale_id</th>\n",
       "      <th>type_of_assessment</th>\n",
       "      <th>raw_score</th>\n",
       "      <th>decile_score</th>\n",
       "      <th>person_id</th>\n",
       "    </tr>\n",
       "  </thead>\n",
       "  <tbody>\n",
       "    <tr>\n",
       "      <th>0</th>\n",
       "      <td>1</td>\n",
       "      <td>miguel</td>\n",
       "      <td>hernandez</td>\n",
       "      <td>56418</td>\n",
       "      <td>58393</td>\n",
       "      <td>64352</td>\n",
       "      <td>PRETRIAL</td>\n",
       "      <td>Risk and Prescreen</td>\n",
       "      <td>Intake</td>\n",
       "      <td>Pretrial</td>\n",
       "      <td>...</td>\n",
       "      <td>Single</td>\n",
       "      <td>2013-08-14</td>\n",
       "      <td>1</td>\n",
       "      <td>Low</td>\n",
       "      <td>Low</td>\n",
       "      <td>7</td>\n",
       "      <td>Risk of Violence</td>\n",
       "      <td>-4</td>\n",
       "      <td>1</td>\n",
       "      <td>1</td>\n",
       "    </tr>\n",
       "    <tr>\n",
       "      <th>1</th>\n",
       "      <td>2</td>\n",
       "      <td>miguel</td>\n",
       "      <td>hernandez</td>\n",
       "      <td>56418</td>\n",
       "      <td>58393</td>\n",
       "      <td>64352</td>\n",
       "      <td>PRETRIAL</td>\n",
       "      <td>Risk and Prescreen</td>\n",
       "      <td>Intake</td>\n",
       "      <td>Pretrial</td>\n",
       "      <td>...</td>\n",
       "      <td>Single</td>\n",
       "      <td>2013-08-14</td>\n",
       "      <td>1</td>\n",
       "      <td>Low</td>\n",
       "      <td>Low</td>\n",
       "      <td>8</td>\n",
       "      <td>Risk of Recidivism</td>\n",
       "      <td>-2</td>\n",
       "      <td>1</td>\n",
       "      <td>1</td>\n",
       "    </tr>\n",
       "    <tr>\n",
       "      <th>2</th>\n",
       "      <td>3</td>\n",
       "      <td>miguel</td>\n",
       "      <td>hernandez</td>\n",
       "      <td>56418</td>\n",
       "      <td>58393</td>\n",
       "      <td>64352</td>\n",
       "      <td>PRETRIAL</td>\n",
       "      <td>Risk and Prescreen</td>\n",
       "      <td>Intake</td>\n",
       "      <td>Pretrial</td>\n",
       "      <td>...</td>\n",
       "      <td>Single</td>\n",
       "      <td>2013-08-14</td>\n",
       "      <td>1</td>\n",
       "      <td>Low</td>\n",
       "      <td>Low</td>\n",
       "      <td>18</td>\n",
       "      <td>Risk of Failure to Appear</td>\n",
       "      <td>13</td>\n",
       "      <td>1</td>\n",
       "      <td>1</td>\n",
       "    </tr>\n",
       "    <tr>\n",
       "      <th>3</th>\n",
       "      <td>4</td>\n",
       "      <td>michael</td>\n",
       "      <td>ryan</td>\n",
       "      <td>68603</td>\n",
       "      <td>72042</td>\n",
       "      <td>79669</td>\n",
       "      <td>PRETRIAL</td>\n",
       "      <td>Risk and Prescreen</td>\n",
       "      <td>Intake</td>\n",
       "      <td>Pretrial</td>\n",
       "      <td>...</td>\n",
       "      <td>Single</td>\n",
       "      <td>2014-12-31</td>\n",
       "      <td>1</td>\n",
       "      <td>Low</td>\n",
       "      <td>Low</td>\n",
       "      <td>7</td>\n",
       "      <td>Risk of Violence</td>\n",
       "      <td>-2</td>\n",
       "      <td>2</td>\n",
       "      <td>2</td>\n",
       "    </tr>\n",
       "    <tr>\n",
       "      <th>4</th>\n",
       "      <td>5</td>\n",
       "      <td>michael</td>\n",
       "      <td>ryan</td>\n",
       "      <td>68603</td>\n",
       "      <td>72042</td>\n",
       "      <td>79669</td>\n",
       "      <td>PRETRIAL</td>\n",
       "      <td>Risk and Prescreen</td>\n",
       "      <td>Intake</td>\n",
       "      <td>Pretrial</td>\n",
       "      <td>...</td>\n",
       "      <td>Single</td>\n",
       "      <td>2014-12-31</td>\n",
       "      <td>1</td>\n",
       "      <td>Low</td>\n",
       "      <td>Medium</td>\n",
       "      <td>8</td>\n",
       "      <td>Risk of Recidivism</td>\n",
       "      <td>0</td>\n",
       "      <td>5</td>\n",
       "      <td>2</td>\n",
       "    </tr>\n",
       "  </tbody>\n",
       "</table>\n",
       "<p>5 rows × 21 columns</p>\n",
       "</div>"
      ],
      "text/plain": [
       "   id    first       last  compas_person_id  compas_case_id  \\\n",
       "0   1   miguel  hernandez             56418           58393   \n",
       "1   2   miguel  hernandez             56418           58393   \n",
       "2   3   miguel  hernandez             56418           58393   \n",
       "3   4  michael       ryan             68603           72042   \n",
       "4   5  michael       ryan             68603           72042   \n",
       "\n",
       "   compas_assessment_id agency_text           scale_set assessment_reason  \\\n",
       "0                 64352    PRETRIAL  Risk and Prescreen            Intake   \n",
       "1                 64352    PRETRIAL  Risk and Prescreen            Intake   \n",
       "2                 64352    PRETRIAL  Risk and Prescreen            Intake   \n",
       "3                 79669    PRETRIAL  Risk and Prescreen            Intake   \n",
       "4                 79669    PRETRIAL  Risk and Prescreen            Intake   \n",
       "\n",
       "  legal_status  ... marital_status screening_date rec_supervision_level  \\\n",
       "0     Pretrial  ...         Single     2013-08-14                     1   \n",
       "1     Pretrial  ...         Single     2013-08-14                     1   \n",
       "2     Pretrial  ...         Single     2013-08-14                     1   \n",
       "3     Pretrial  ...         Single     2014-12-31                     1   \n",
       "4     Pretrial  ...         Single     2014-12-31                     1   \n",
       "\n",
       "   rec_supervision_level_text score_text scale_id         type_of_assessment  \\\n",
       "0                         Low        Low        7           Risk of Violence   \n",
       "1                         Low        Low        8         Risk of Recidivism   \n",
       "2                         Low        Low       18  Risk of Failure to Appear   \n",
       "3                         Low        Low        7           Risk of Violence   \n",
       "4                         Low     Medium        8         Risk of Recidivism   \n",
       "\n",
       "  raw_score  decile_score  person_id  \n",
       "0        -4             1          1  \n",
       "1        -2             1          1  \n",
       "2        13             1          1  \n",
       "3        -2             2          2  \n",
       "4         0             5          2  \n",
       "\n",
       "[5 rows x 21 columns]"
      ]
     },
     "execution_count": 12,
     "metadata": {},
     "output_type": "execute_result"
    }
   ],
   "source": [
    "compas.head()"
   ]
  },
  {
   "cell_type": "code",
   "execution_count": 13,
   "metadata": {},
   "outputs": [
    {
     "data": {
      "text/plain": [
       "Index(['id', 'first', 'last', 'compas_person_id', 'compas_case_id',\n",
       "       'compas_assessment_id', 'agency_text', 'scale_set', 'assessment_reason',\n",
       "       'legal_status', 'custody_status', 'marital_status', 'screening_date',\n",
       "       'rec_supervision_level', 'rec_supervision_level_text', 'score_text',\n",
       "       'scale_id', 'type_of_assessment', 'raw_score', 'decile_score',\n",
       "       'person_id'],\n",
       "      dtype='object')"
      ]
     },
     "execution_count": 13,
     "metadata": {},
     "output_type": "execute_result"
    }
   ],
   "source": [
    "compas.columns"
   ]
  },
  {
   "cell_type": "code",
   "execution_count": 27,
   "metadata": {},
   "outputs": [],
   "source": [
    "# In this setting we are interested mainly in whether the score $a$ we have given indidivuals is fair with respect to their sensitive attribute $z$ and their underlying quality $y$, i.e. whether or not recidivism occurred.\n",
    "df = pandas.read_sql('''SELECT race,\n",
    "                        is_violent_recid,\n",
    "                        agency_text,\n",
    "                        compas.decile_score FROM people JOIN compas ON person_id = people.id''', engine)"
   ]
  },
  {
   "cell_type": "code",
   "execution_count": 28,
   "metadata": {},
   "outputs": [
    {
     "data": {
      "text/html": [
       "<div>\n",
       "<style scoped>\n",
       "    .dataframe tbody tr th:only-of-type {\n",
       "        vertical-align: middle;\n",
       "    }\n",
       "\n",
       "    .dataframe tbody tr th {\n",
       "        vertical-align: top;\n",
       "    }\n",
       "\n",
       "    .dataframe thead th {\n",
       "        text-align: right;\n",
       "    }\n",
       "</style>\n",
       "<table border=\"1\" class=\"dataframe\">\n",
       "  <thead>\n",
       "    <tr style=\"text-align: right;\">\n",
       "      <th></th>\n",
       "      <th>race</th>\n",
       "      <th>is_violent_recid</th>\n",
       "      <th>agency_text</th>\n",
       "      <th>decile_score</th>\n",
       "    </tr>\n",
       "  </thead>\n",
       "  <tbody>\n",
       "    <tr>\n",
       "      <th>0</th>\n",
       "      <td>Other</td>\n",
       "      <td>0</td>\n",
       "      <td>PRETRIAL</td>\n",
       "      <td>1</td>\n",
       "    </tr>\n",
       "    <tr>\n",
       "      <th>1</th>\n",
       "      <td>Other</td>\n",
       "      <td>0</td>\n",
       "      <td>PRETRIAL</td>\n",
       "      <td>1</td>\n",
       "    </tr>\n",
       "    <tr>\n",
       "      <th>2</th>\n",
       "      <td>Other</td>\n",
       "      <td>0</td>\n",
       "      <td>PRETRIAL</td>\n",
       "      <td>1</td>\n",
       "    </tr>\n",
       "    <tr>\n",
       "      <th>3</th>\n",
       "      <td>Caucasian</td>\n",
       "      <td>0</td>\n",
       "      <td>PRETRIAL</td>\n",
       "      <td>2</td>\n",
       "    </tr>\n",
       "    <tr>\n",
       "      <th>4</th>\n",
       "      <td>Caucasian</td>\n",
       "      <td>0</td>\n",
       "      <td>PRETRIAL</td>\n",
       "      <td>5</td>\n",
       "    </tr>\n",
       "  </tbody>\n",
       "</table>\n",
       "</div>"
      ],
      "text/plain": [
       "        race  is_violent_recid agency_text  decile_score\n",
       "0      Other                 0    PRETRIAL             1\n",
       "1      Other                 0    PRETRIAL             1\n",
       "2      Other                 0    PRETRIAL             1\n",
       "3  Caucasian                 0    PRETRIAL             2\n",
       "4  Caucasian                 0    PRETRIAL             5"
      ]
     },
     "execution_count": 28,
     "metadata": {},
     "output_type": "execute_result"
    }
   ],
   "source": [
    "df.head()"
   ]
  },
  {
   "cell_type": "code",
   "execution_count": 29,
   "metadata": {},
   "outputs": [],
   "source": [
    "counts = df.groupby(['race', 'is_violent_recid']).decile_score.value_counts()"
   ]
  },
  {
   "cell_type": "code",
   "execution_count": 88,
   "metadata": {},
   "outputs": [],
   "source": []
  },
  {
   "cell_type": "code",
   "execution_count": 113,
   "metadata": {},
   "outputs": [
    {
     "data": {
      "text/plain": [
       "<matplotlib.legend.Legend at 0x7f36b3fa0490>"
      ]
     },
     "execution_count": 113,
     "metadata": {},
     "output_type": "execute_result"
    },
    {
     "data": {
      "image/png": "[encoded data removed]",
      "text/plain": [
       "<Figure size 432x288 with 1 Axes>"
      ]
     },
     "metadata": {
      "needs_background": "light"
     },
     "output_type": "display_data"
    }
   ],
   "source": [
    "import matplotlib.pyplot as plt\n",
    "import numpy as np\n",
    "counts = df.groupby(['race']).decile_score.value_counts()\n",
    "X = 1 + np.arange(10)\n",
    "plt.bar(X, counts['African-American'][0:10], width=0.5)\n",
    "plt.bar(X+0.5, counts['Caucasian'][0:10], width=0.5)\n",
    "plt.legend([\"African-American\", \"Caucasian\"])"
   ]
  },
  {
   "cell_type": "code",
   "execution_count": 122,
   "metadata": {},
   "outputs": [],
   "source": [
    "counts = df.groupby(['race']).decile_score.value_counts()\n",
    "AA = df[df['race']==\"African-American\"][[\"is_violent_recid\", \"decile_score\"]]\n",
    "CC = df[df['race']==\"Caucasian\"][[\"is_violent_recid\", \"decile_score\"]]\n"
   ]
  },
  {
   "cell_type": "code",
   "execution_count": 133,
   "metadata": {},
   "outputs": [
    {
     "data": {
      "text/plain": [
       "Text(0, 0.5, 'Recidivism')"
      ]
     },
     "execution_count": 133,
     "metadata": {},
     "output_type": "execute_result"
    },
    {
     "data": {
      "image/png": "[encoded data removed]",
      "text/plain": [
       "<Figure size 432x288 with 1 Axes>"
      ]
     },
     "metadata": {
      "needs_background": "light"
     },
     "output_type": "display_data"
    }
   ],
   "source": [
    "%matplotlib inline\n",
    "AA_recidivism = np.zeros(10)\n",
    "CC_recidivism = np.zeros(10)\n",
    "\n",
    "for score in range(10):\n",
    "    AA_recidivism[score] = np.mean(AA[AA[\"decile_score\"]==score][\"is_violent_recid\"])\n",
    "    CC_recidivism[score] = np.mean(CC[CC[\"decile_score\"]==score][\"is_violent_recid\"])\n",
    "    \n",
    "plt.plot(AA_recidivism)\n",
    "plt.plot(CC_recidivism)\n",
    "plt.xlabel(\"Score\")\n",
    "plt.ylabel(\"Recidivism\")"
   ]
  },
  {
   "cell_type": "code",
   "execution_count": 155,
   "metadata": {},
   "outputs": [
    {
     "data": {
      "text/plain": [
       "Text(0.5, 1.0, 'Non-recidivists')"
      ]
     },
     "execution_count": 155,
     "metadata": {},
     "output_type": "execute_result"
    },
    {
     "data": {
      "image/png": "[encoded data removed]",
      "text/plain": [
       "<Figure size 432x288 with 2 Axes>"
      ]
     },
     "metadata": {
      "needs_background": "light"
     },
     "output_type": "display_data"
    }
   ],
   "source": [
    "plt.subplot(2,1,1)\n",
    "plt.hist(AA[AA.is_violent_recid==1].decile_score,alpha=0.5,density=True, bins=X)\n",
    "plt.hist(CC[CC.is_violent_recid==1].decile_score,alpha=0.5,density=True, bins=X)\n",
    "plt.legend([\"AA\", \"CC\"])\n",
    "plt.title(\"Recidivists\")\n",
    "\n",
    "plt.subplot(2,1,2)\n",
    "plt.hist(AA[AA.is_violent_recid==0].decile_score,alpha=0.5,density=True, bins=X)\n",
    "plt.hist(CC[CC.is_violent_recid==0].decile_score,alpha=0.5,density=True, bins=X)\n",
    "plt.legend([\"AA\", \"CC\"])\n",
    "plt.title(\"Non-recidivists\")\n",
    "\n"
   ]
  },
  {
   "cell_type": "code",
   "execution_count": 21,
   "metadata": {},
   "outputs": [
    {
     "data": {
      "text/plain": [
       "<AxesSubplot:>"
      ]
     },
     "execution_count": 21,
     "metadata": {},
     "output_type": "execute_result"
    },
    {
     "data": {
      "image/png": "[encoded data removed]",
      "text/plain": [
       "<Figure size 432x288 with 1 Axes>"
      ]
     },
     "metadata": {
      "needs_background": "light"
     },
     "output_type": "display_data"
    }
   ],
   "source": [
    "# Let's plot this a bit differently\n",
    "\n",
    "relative_counts[\"Asian\", 0].plot.bar()"
   ]
  },
  {
   "cell_type": "code",
   "execution_count": 22,
   "metadata": {},
   "outputs": [
    {
     "ename": "ImportError",
     "evalue": "cannot import name 'Logit' from 'statsmodels.formula.api' (/home/olethros/.local/lib/python3.8/site-packages/statsmodels/formula/api.py)",
     "output_type": "error",
     "traceback": [
      "\u001b[0;31m---------------------------------------------------------------------------\u001b[0m",
      "\u001b[0;31mImportError\u001b[0m                               Traceback (most recent call last)",
      "\u001b[0;32m<ipython-input-22-2d14cccaba79>\u001b[0m in \u001b[0;36m<module>\u001b[0;34m\u001b[0m\n\u001b[0;32m----> 1\u001b[0;31m \u001b[0;32mfrom\u001b[0m \u001b[0mstatsmodels\u001b[0m\u001b[0;34m.\u001b[0m\u001b[0mformula\u001b[0m\u001b[0;34m.\u001b[0m\u001b[0mapi\u001b[0m \u001b[0;32mimport\u001b[0m \u001b[0mLogit\u001b[0m\u001b[0;34m,\u001b[0m \u001b[0mlogit\u001b[0m\u001b[0;34m,\u001b[0m \u001b[0mmnlogit\u001b[0m\u001b[0;34m\u001b[0m\u001b[0;34m\u001b[0m\u001b[0m\n\u001b[0m",
      "\u001b[0;31mImportError\u001b[0m: cannot import name 'Logit' from 'statsmodels.formula.api' (/home/olethros/.local/lib/python3.8/site-packages/statsmodels/formula/api.py)"
     ]
    }
   ],
   "source": [
    "from statsmodels.formula.api import Logit, logit, mnlogit"
   ]
  },
  {
   "cell_type": "code",
   "execution_count": null,
   "metadata": {},
   "outputs": [],
   "source": [
    "df['scored_high'] = 0 + (df.score_text == 'High')"
   ]
  },
  {
   "cell_type": "code",
   "execution_count": null,
   "metadata": {},
   "outputs": [],
   "source": [
    "model = logit('scored_high ~ race + is_violent_recid + agency_text', df)"
   ]
  },
  {
   "cell_type": "code",
   "execution_count": null,
   "metadata": {},
   "outputs": [],
   "source": [
    "fitted_model = model.fit()"
   ]
  },
  {
   "cell_type": "code",
   "execution_count": null,
   "metadata": {},
   "outputs": [],
   "source": [
    "fitted_model.summary2()"
   ]
  },
  {
   "cell_type": "markdown",
   "metadata": {},
   "source": [
    "# Conditional independence\n",
    "\n",
    "Here you should try and measure the conditional independence of your model $P$ with respect to the sensitive variable (race). In particular, we wish to calculate the dependence of the risk classification $a$ on race $z$ given their recidivism $y$:\n",
    "$$D(P(a \\mid y, z), P(a \\mid y)),$$\n",
    "which corresponds to the policy for selecting the scores being balanced. We also wish to calculate the dependence of recidivism $y$ on race $z$ given the risk $a$:\n",
    "$$D(P(y \\mid a, z), P(y \\mid a)),$$\n",
    "which corresponds to the policy for selecting the scores being calibrated.\n",
    "\n",
    "Here $D$ is some appropriate distance or divergence between distributions. It is suggested to use one of:\n",
    "\n",
    "1. Total variation https://en.wikipedia.org/wiki/Total_variation_distance_of_probability_measures \n",
    "2. KL divergence https://en.wikipedia.org/wiki/Kullback%E2%80%93Leibler_divergence or \n",
    "3. $1/2$-Renyi-divergence https://en.wikipedia.org/wiki/R%C3%A9nyi_entropy#R%C3%A9nyi_divergence\n",
    "\n",
    "Does the policy look fair with respect to either one of those metrics?\n"
   ]
  },
  {
   "cell_type": "code",
   "execution_count": null,
   "metadata": {},
   "outputs": [],
   "source": []
  },
  {
   "cell_type": "code",
   "execution_count": null,
   "metadata": {},
   "outputs": [],
   "source": []
  }
 ],
 "metadata": {
  "kernelspec": {
   "display_name": "Python 3",
   "language": "python",
   "name": "python3"
  },
  "language_info": {
   "codemirror_mode": {
    "name": "ipython",
    "version": 3
   },
   "file_extension": ".py",
   "mimetype": "text/x-python",
   "name": "python",
   "nbconvert_exporter": "python",
   "pygments_lexer": "ipython3",
   "version": "3.8.10"
  }
 },
 "nbformat": 4,
 "nbformat_minor": 2
}
