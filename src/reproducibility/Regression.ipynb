{
 "cells": [
  {
   "cell_type": "code",
   "execution_count": null,
   "id": "adb79aeb-ecf7-42f0-b2e9-58f65bcf6e13",
   "metadata": {},
   "outputs": [],
   "source": [
    "import numpy as np\n",
    "from sklearn.linear_model import LinearRegression\n",
    "import pandas as pd"
   ]
  },
  {
   "cell_type": "code",
   "execution_count": null,
   "id": "cd896750-a0b3-4bf0-88d6-dd2a4f4e341e",
   "metadata": {},
   "outputs": [],
   "source": [
    "data = pd.read_csv('https://archive.ics.uci.edu/ml/machine-learning-databases/forest-fires/forestfires.csv',sep=',')\n"
   ]
  },
  {
   "cell_type": "code",
   "execution_count": null,
   "id": "ae2b578e-16d9-4a9e-87c8-e2fd11969ca4",
   "metadata": {},
   "outputs": [],
   "source": [
    "X_columns = data.columns[0:11]\n",
    "X_columns\n",
    "Y_columns = data.columns[12]\n",
    "X = pd.get_dummies(data[X_columns])\n",
    "# not needed for this model normally\n",
    "#from sklearn.preprocessing import MinMaxScaler\n",
    "#X = MinMaxScaler().fit_transform(X)\n",
    "y = data[Y_columns]\n",
    "y"
   ]
  },
  {
   "cell_type": "code",
   "execution_count": null,
   "id": "9aab2717-a80e-4bc3-9d27-97b9391ec5f4",
   "metadata": {},
   "outputs": [],
   "source": [
    "from sklearn.model_selection import train_test_split\n",
    "X_train, X_test, y_train, y_test = train_test_split(X, y)"
   ]
  },
  {
   "cell_type": "code",
   "execution_count": null,
   "id": "66493051-1179-4396-ad2f-9d4714d41911",
   "metadata": {},
   "outputs": [],
   "source": [
    "model = LinearRegression().fit(X_train, y_train)\n",
    "model.coef_"
   ]
  },
  {
   "cell_type": "code",
   "execution_count": null,
   "id": "ca2e991d-0702-4de0-b922-8d7508aeaa29",
   "metadata": {},
   "outputs": [],
   "source": [
    "import matplotlib.pyplot as plt\n",
    "plt.plot(abs(model.coef_))"
   ]
  },
  {
   "cell_type": "code",
   "execution_count": null,
   "id": "6df1c0c9-885d-4955-8fac-1d697dc35877",
   "metadata": {},
   "outputs": [],
   "source": [
    "model.score(X_train, y_train)"
   ]
  },
  {
   "cell_type": "code",
   "execution_count": null,
   "id": "7408b4fd-ec86-43c6-b7fa-1099a6776cee",
   "metadata": {},
   "outputs": [],
   "source": [
    "model.score(X_test, y_test)"
   ]
  },
  {
   "cell_type": "code",
   "execution_count": null,
   "id": "f060bb73-be7b-49a2-8298-1b4757a6946d",
   "metadata": {},
   "outputs": [],
   "source": []
  },
  {
   "cell_type": "code",
   "execution_count": null,
   "id": "dac38f8e-6cd1-473e-a56a-e8bdf6e6aa02",
   "metadata": {},
   "outputs": [],
   "source": []
  }
 ],
 "metadata": {
  "kernelspec": {
   "display_name": "Python 3",
   "language": "python",
   "name": "python3"
  },
  "language_info": {
   "codemirror_mode": {
    "name": "ipython",
    "version": 3
   },
   "file_extension": ".py",
   "mimetype": "text/x-python",
   "name": "python",
   "nbconvert_exporter": "python",
   "pygments_lexer": "ipython3",
   "version": "3.6.9"
  }
 },
 "nbformat": 4,
 "nbformat_minor": 5
}
