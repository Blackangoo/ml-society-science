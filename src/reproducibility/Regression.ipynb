{
 "cells": [
  {
   "cell_type": "code",
   "execution_count": 2,
   "id": "adb79aeb-ecf7-42f0-b2e9-58f65bcf6e13",
   "metadata": {},
   "outputs": [],
   "source": [
    "import numpy as np\n",
    "from sklearn.linear_model import LinearRegression\n",
    "import pandas as pd"
   ]
  },
  {
   "cell_type": "code",
   "execution_count": 3,
   "id": "cd896750-a0b3-4bf0-88d6-dd2a4f4e341e",
   "metadata": {},
   "outputs": [],
   "source": [
    "data = pd.read_csv('https://archive.ics.uci.edu/ml/machine-learning-databases/forest-fires/forestfires.csv',sep=',')\n"
   ]
  },
  {
   "cell_type": "code",
   "execution_count": 4,
   "id": "ae2b578e-16d9-4a9e-87c8-e2fd11969ca4",
   "metadata": {},
   "outputs": [
    {
     "data": {
      "text/plain": [
       "0       0.00\n",
       "1       0.00\n",
       "2       0.00\n",
       "3       0.00\n",
       "4       0.00\n",
       "       ...  \n",
       "512     6.44\n",
       "513    54.29\n",
       "514    11.16\n",
       "515     0.00\n",
       "516     0.00\n",
       "Name: area, Length: 517, dtype: float64"
      ]
     },
     "execution_count": 4,
     "metadata": {},
     "output_type": "execute_result"
    }
   ],
   "source": [
    "X_columns = data.columns[0:11]\n",
    "X_columns\n",
    "Y_columns = data.columns[12]\n",
    "X = pd.get_dummies(data[X_columns])\n",
    "# not needed for this model normally\n",
    "#from sklearn.preprocessing import MinMaxScaler\n",
    "#X = MinMaxScaler().fit_transform(X)\n",
    "y = data[Y_columns]\n",
    "y"
   ]
  },
  {
   "cell_type": "code",
   "execution_count": 22,
   "id": "9aab2717-a80e-4bc3-9d27-97b9391ec5f4",
   "metadata": {},
   "outputs": [],
   "source": [
    "from sklearn.model_selection import train_test_split\n",
    "X_train, X_test, y_train, y_test = train_test_split(X, y)"
   ]
  },
  {
   "cell_type": "code",
   "execution_count": 23,
   "id": "66493051-1179-4396-ad2f-9d4714d41911",
   "metadata": {},
   "outputs": [
    {
     "data": {
      "text/plain": [
       "array([ 2.84107591e+00,  5.19895105e-01, -2.04841419e-01,  2.52598882e-01,\n",
       "       -1.38682837e-01, -5.59137097e-01,  1.58496605e+00, -1.67455100e-01,\n",
       "        2.82946839e+00, -3.24025884e+01,  2.04421601e+01,  2.26445698e+01,\n",
       "       -1.79579463e+01, -8.95845090e+00,  3.83041293e+00, -2.30048527e+01,\n",
       "       -3.14647803e+01,  5.15143483e-13, -2.98887917e+01,  4.77147595e+01,\n",
       "        4.90455079e+01, -9.42609800e+00, -1.16676926e+00,  1.62321320e+01,\n",
       "       -5.01652456e+00,  4.35232475e+00, -4.91742626e-01, -4.48332230e+00])"
      ]
     },
     "execution_count": 23,
     "metadata": {},
     "output_type": "execute_result"
    }
   ],
   "source": [
    "model = LinearRegression().fit(X_train, y_train)\n",
    "model.coef_"
   ]
  },
  {
   "cell_type": "code",
   "execution_count": 24,
   "id": "ca2e991d-0702-4de0-b922-8d7508aeaa29",
   "metadata": {},
   "outputs": [
    {
     "data": {
      "text/plain": [
       "[<matplotlib.lines.Line2D at 0x7f23e48efc50>]"
      ]
     },
     "execution_count": 24,
     "metadata": {},
     "output_type": "execute_result"
    },
    {
     "data": {
      "image/png": "[encoded data removed]",
      "text/plain": [
       "<Figure size 432x288 with 1 Axes>"
      ]
     },
     "metadata": {
      "needs_background": "light"
     },
     "output_type": "display_data"
    }
   ],
   "source": [
    "import matplotlib.pyplot as plt\n",
    "plt.plot(abs(model.coef_))"
   ]
  },
  {
   "cell_type": "code",
   "execution_count": 17,
   "id": "6df1c0c9-885d-4955-8fac-1d697dc35877",
   "metadata": {},
   "outputs": [
    {
     "data": {
      "text/plain": [
       "0.049553857518437994"
      ]
     },
     "execution_count": 17,
     "metadata": {},
     "output_type": "execute_result"
    }
   ],
   "source": [
    "model.score(X_train, y_train)"
   ]
  },
  {
   "cell_type": "code",
   "execution_count": 18,
   "id": "7408b4fd-ec86-43c6-b7fa-1099a6776cee",
   "metadata": {},
   "outputs": [
    {
     "data": {
      "text/plain": [
       "0.008643222494484348"
      ]
     },
     "execution_count": 18,
     "metadata": {},
     "output_type": "execute_result"
    }
   ],
   "source": [
    "model.score(X_test, y_test)"
   ]
  },
  {
   "cell_type": "code",
   "execution_count": null,
   "id": "f060bb73-be7b-49a2-8298-1b4757a6946d",
   "metadata": {},
   "outputs": [],
   "source": []
  },
  {
   "cell_type": "code",
   "execution_count": null,
   "id": "dac38f8e-6cd1-473e-a56a-e8bdf6e6aa02",
   "metadata": {},
   "outputs": [],
   "source": []
  }
 ],
 "metadata": {
  "kernelspec": {
   "display_name": "Python 3",
   "language": "python",
   "name": "python3"
  },
  "language_info": {
   "codemirror_mode": {
    "name": "ipython",
    "version": 3
   },
   "file_extension": ".py",
   "mimetype": "text/x-python",
   "name": "python",
   "nbconvert_exporter": "python",
   "pygments_lexer": "ipython3",
   "version": "3.6.9"
  }
 },
 "nbformat": 4,
 "nbformat_minor": 5
}
