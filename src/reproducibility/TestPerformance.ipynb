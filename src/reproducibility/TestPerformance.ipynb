{
 "cells": [
  {
   "cell_type": "code",
   "execution_count": 2,
   "id": "c437a513-84c6-41b7-b450-27f4e9b27e19",
   "metadata": {},
   "outputs": [],
   "source": [
    "import numpy as np"
   ]
  },
  {
   "cell_type": "code",
   "execution_count": 3,
   "id": "b320a619-b9b4-4a68-932b-b5b0a02abfed",
   "metadata": {},
   "outputs": [],
   "source": [
    "accuracy = np.array([0.8, 0.9]) # ground truth, actual classifier accuracy'\n",
    "test = np.zeros(2)"
   ]
  },
  {
   "cell_type": "code",
   "execution_count": 6,
   "id": "cb272cbe-1d3e-4a18-be58-38364ef22af2",
   "metadata": {},
   "outputs": [],
   "source": [
    "n_data = 10\n",
    "for i in range(2):\n",
    "    test[i] = np.mean(np.random.uniform(size=n_data)<accuracy[i])"
   ]
  },
  {
   "cell_type": "code",
   "execution_count": 7,
   "id": "30d6d6c7-06b3-45bf-a34a-da99646a071f",
   "metadata": {},
   "outputs": [
    {
     "data": {
      "text/plain": [
       "array([0.8, 1. ])"
      ]
     },
     "execution_count": 7,
     "metadata": {},
     "output_type": "execute_result"
    }
   ],
   "source": [
    "test"
   ]
  },
  {
   "cell_type": "code",
   "execution_count": null,
   "id": "d77a4244-fed8-4ebb-b267-25c4cdd070a9",
   "metadata": {},
   "outputs": [],
   "source": []
  },
  {
   "cell_type": "code",
   "execution_count": null,
   "id": "f5005916-9774-4c53-afa4-de77b6d15989",
   "metadata": {},
   "outputs": [],
   "source": []
  },
  {
   "cell_type": "code",
   "execution_count": null,
   "id": "ae74a463-f3b5-46ed-8b7b-79c580ad113a",
   "metadata": {},
   "outputs": [],
   "source": []
  }
 ],
 "metadata": {
  "kernelspec": {
   "display_name": "Python 3",
   "language": "python",
   "name": "python3"
  },
  "language_info": {
   "codemirror_mode": {
    "name": "ipython",
    "version": 3
   },
   "file_extension": ".py",
   "mimetype": "text/x-python",
   "name": "python",
   "nbconvert_exporter": "python",
   "pygments_lexer": "ipython3",
   "version": "3.6.9"
  }
 },
 "nbformat": 4,
 "nbformat_minor": 5
}
